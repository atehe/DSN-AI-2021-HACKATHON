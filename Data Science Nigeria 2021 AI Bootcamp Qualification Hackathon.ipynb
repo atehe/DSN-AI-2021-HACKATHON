{
 "cells": [
  {
   "cell_type": "code",
   "execution_count": 1,
   "id": "093d23bb",
   "metadata": {},
   "outputs": [],
   "source": [
    "import pandas as pd\n",
    "import matplotlib.pyplot as plt\n",
    "import seaborn as sns\n",
    "import numpy as np"
   ]
  },
  {
   "cell_type": "code",
   "execution_count": 2,
   "id": "f0f87253",
   "metadata": {},
   "outputs": [],
   "source": [
    "from sklearn.model_selection import KFold,StratifiedKFold,GridSearchCV,RandomizedSearchCV, train_test_split #For splitting\n",
    "from sklearn.metrics import accuracy_score, f1_score, roc_auc_score\n",
    "from sklearn.preprocessing import LabelEncoder,OneHotEncoder \n",
    "\n",
    "from sklearn.model_selection import train_test_split\n",
    "from sklearn.linear_model import LogisticRegression\n",
    "from sklearn.ensemble import RandomForestClassifier, GradientBoostingClassifier\n",
    "\n",
    "#To ignore unnecessary warnings\n",
    "import warnings"
   ]
  },
  {
   "cell_type": "code",
   "execution_count": 3,
   "id": "39e64615",
   "metadata": {
    "scrolled": true
   },
   "outputs": [],
   "source": [
    "train_df = pd.read_csv(r\"C:\\Users\\Atehe Stephen\\Downloads\\Compressed\\ai-bootcamp-2021\\Train.csv\")\n",
    "test_df = pd.read_csv(r\"C:\\Users\\Atehe Stephen\\Downloads\\Compressed\\ai-bootcamp-2021\\Test.csv\")"
   ]
  },
  {
   "cell_type": "code",
   "execution_count": 4,
   "id": "692b28a1",
   "metadata": {
    "scrolled": true
   },
   "outputs": [
    {
     "data": {
      "text/plain": [
       "array(['Divorced', 'Together', 'Single', 'Married', 'Widow', 'Alone',\n",
       "       'Absurd', 'YOLO'], dtype=object)"
      ]
     },
     "execution_count": 4,
     "metadata": {},
     "output_type": "execute_result"
    }
   ],
   "source": [
    "train_df['Marital_Status'].unique()"
   ]
  },
  {
   "cell_type": "code",
   "execution_count": 5,
   "id": "7b6ebe23",
   "metadata": {},
   "outputs": [
    {
     "name": "stdout",
     "output_type": "stream",
     "text": [
      "The shape of the train set is (1568, 27)\n",
      "The shape of the train set is (672, 26)\n"
     ]
    }
   ],
   "source": [
    "print(f'The shape of the train set is {train_df.shape}')\n",
    "print(f'The shape of the train set is {test_df.shape}')"
   ]
  },
  {
   "cell_type": "code",
   "execution_count": 6,
   "id": "c8d24ec5",
   "metadata": {
    "scrolled": true
   },
   "outputs": [
    {
     "data": {
      "text/html": [
       "<div>\n",
       "<style scoped>\n",
       "    .dataframe tbody tr th:only-of-type {\n",
       "        vertical-align: middle;\n",
       "    }\n",
       "\n",
       "    .dataframe tbody tr th {\n",
       "        vertical-align: top;\n",
       "    }\n",
       "\n",
       "    .dataframe thead th {\n",
       "        text-align: right;\n",
       "    }\n",
       "</style>\n",
       "<table border=\"1\" class=\"dataframe\">\n",
       "  <thead>\n",
       "    <tr style=\"text-align: right;\">\n",
       "      <th></th>\n",
       "      <th>ID</th>\n",
       "      <th>Response</th>\n",
       "    </tr>\n",
       "  </thead>\n",
       "  <tbody>\n",
       "    <tr>\n",
       "      <th>0</th>\n",
       "      <td>ID_ZPMABNVX</td>\n",
       "      <td>NaN</td>\n",
       "    </tr>\n",
       "    <tr>\n",
       "      <th>1</th>\n",
       "      <td>ID_WFE91NAA</td>\n",
       "      <td>NaN</td>\n",
       "    </tr>\n",
       "    <tr>\n",
       "      <th>2</th>\n",
       "      <td>ID_JV11RBRK</td>\n",
       "      <td>NaN</td>\n",
       "    </tr>\n",
       "    <tr>\n",
       "      <th>3</th>\n",
       "      <td>ID_6B7SVKY9</td>\n",
       "      <td>NaN</td>\n",
       "    </tr>\n",
       "    <tr>\n",
       "      <th>4</th>\n",
       "      <td>ID_GOVUZ545</td>\n",
       "      <td>NaN</td>\n",
       "    </tr>\n",
       "  </tbody>\n",
       "</table>\n",
       "</div>"
      ],
      "text/plain": [
       "            ID Response\n",
       "0  ID_ZPMABNVX      NaN\n",
       "1  ID_WFE91NAA      NaN\n",
       "2  ID_JV11RBRK      NaN\n",
       "3  ID_6B7SVKY9      NaN\n",
       "4  ID_GOVUZ545      NaN"
      ]
     },
     "execution_count": 6,
     "metadata": {},
     "output_type": "execute_result"
    }
   ],
   "source": [
    "sub_file = pd.DataFrame(columns=['ID', 'Response'])\n",
    "sub_file.ID = test_df.ID\n",
    "sub_file.head()"
   ]
  },
  {
   "cell_type": "code",
   "execution_count": 7,
   "id": "3effed44",
   "metadata": {
    "scrolled": false
   },
   "outputs": [
    {
     "data": {
      "text/plain": [
       "ID                          0\n",
       "Year_of_Birth               0\n",
       "Education_Level             0\n",
       "Marital_Status              0\n",
       "Disposable_Income          16\n",
       "No_of_Kids_in_home          0\n",
       "No_of_Teen_in_home          0\n",
       "Date_Customer               0\n",
       "Recency                     0\n",
       "Discounted_Purchases        0\n",
       "WebPurchases                0\n",
       "CatalogPurchases            0\n",
       "StorePurchases              0\n",
       "Amount_on_Wines             0\n",
       "Amount_on_Fruits            0\n",
       "Amount_on_MeatProducts      0\n",
       "Amount_on_FishProducts      0\n",
       "Amount_on_SweetProducts     0\n",
       "Amount_on_GoldProds         0\n",
       "WebVisitsMonth              0\n",
       "Cmp3Accepted                0\n",
       "Cmp4Accepted                0\n",
       "Cmp5Accepted                0\n",
       "Cmp1Accepted                0\n",
       "Cmp2Accepted                0\n",
       "Any_Complain                0\n",
       "Response                    0\n",
       "dtype: int64"
      ]
     },
     "execution_count": 7,
     "metadata": {},
     "output_type": "execute_result"
    }
   ],
   "source": [
    "train_df.isna().sum()"
   ]
  },
  {
   "cell_type": "code",
   "execution_count": 8,
   "id": "3a5d8685",
   "metadata": {},
   "outputs": [
    {
     "data": {
      "text/plain": [
       "ID                         0\n",
       "Year_of_Birth              0\n",
       "Education_Level            0\n",
       "Marital_Status             0\n",
       "Disposable_Income          8\n",
       "No_of_Kids_in_home         0\n",
       "No_of_Teen_in_home         0\n",
       "Date_Customer              0\n",
       "Recency                    0\n",
       "Discounted_Purchases       0\n",
       "WebPurchases               0\n",
       "CatalogPurchases           0\n",
       "StorePurchases             0\n",
       "Amount_on_Wines            0\n",
       "Amount_on_Fruits           0\n",
       "Amount_on_MeatProducts     0\n",
       "Amount_on_FishProducts     0\n",
       "Amount_on_SweetProducts    0\n",
       "Amount_on_GoldProds        0\n",
       "WebVisitsMonth             0\n",
       "Cmp3Accepted               0\n",
       "Cmp4Accepted               0\n",
       "Cmp5Accepted               0\n",
       "Cmp1Accepted               0\n",
       "Cmp2Accepted               0\n",
       "Any_Complain               0\n",
       "dtype: int64"
      ]
     },
     "execution_count": 8,
     "metadata": {},
     "output_type": "execute_result"
    }
   ],
   "source": [
    "test_df.isna().sum()"
   ]
  },
  {
   "cell_type": "code",
   "execution_count": 9,
   "id": "6542a56d",
   "metadata": {},
   "outputs": [
    {
     "data": {
      "text/plain": [
       "ID                         0\n",
       "Year_of_Birth              0\n",
       "Education_Level            0\n",
       "Marital_Status             0\n",
       "Disposable_Income          0\n",
       "No_of_Kids_in_home         0\n",
       "No_of_Teen_in_home         0\n",
       "Date_Customer              0\n",
       "Recency                    0\n",
       "Discounted_Purchases       0\n",
       "WebPurchases               0\n",
       "CatalogPurchases           0\n",
       "StorePurchases             0\n",
       "Amount_on_Wines            0\n",
       "Amount_on_Fruits           0\n",
       "Amount_on_MeatProducts     0\n",
       "Amount_on_FishProducts     0\n",
       "Amount_on_SweetProducts    0\n",
       "Amount_on_GoldProds        0\n",
       "WebVisitsMonth             0\n",
       "Cmp3Accepted               0\n",
       "Cmp4Accepted               0\n",
       "Cmp5Accepted               0\n",
       "Cmp1Accepted               0\n",
       "Cmp2Accepted               0\n",
       "Any_Complain               0\n",
       "Response                   0\n",
       "dtype: int64"
      ]
     },
     "execution_count": 9,
     "metadata": {},
     "output_type": "execute_result"
    }
   ],
   "source": [
    "train_df['Disposable_Income'].fillna(train_df['Disposable_Income'].mean(),inplace=True)\n",
    "test_df['Disposable_Income'].fillna(test_df['Disposable_Income'].mean(),inplace=True)\n",
    "train_df.isna().sum()"
   ]
  },
  {
   "cell_type": "code",
   "execution_count": 10,
   "id": "4560dc5c",
   "metadata": {},
   "outputs": [
    {
     "data": {
      "text/plain": [
       "ID                         0\n",
       "Year_of_Birth              0\n",
       "Education_Level            0\n",
       "Marital_Status             0\n",
       "Disposable_Income          0\n",
       "No_of_Kids_in_home         0\n",
       "No_of_Teen_in_home         0\n",
       "Date_Customer              0\n",
       "Recency                    0\n",
       "Discounted_Purchases       0\n",
       "WebPurchases               0\n",
       "CatalogPurchases           0\n",
       "StorePurchases             0\n",
       "Amount_on_Wines            0\n",
       "Amount_on_Fruits           0\n",
       "Amount_on_MeatProducts     0\n",
       "Amount_on_FishProducts     0\n",
       "Amount_on_SweetProducts    0\n",
       "Amount_on_GoldProds        0\n",
       "WebVisitsMonth             0\n",
       "Cmp3Accepted               0\n",
       "Cmp4Accepted               0\n",
       "Cmp5Accepted               0\n",
       "Cmp1Accepted               0\n",
       "Cmp2Accepted               0\n",
       "Any_Complain               0\n",
       "dtype: int64"
      ]
     },
     "execution_count": 10,
     "metadata": {},
     "output_type": "execute_result"
    }
   ],
   "source": [
    "test_df.isna().sum()"
   ]
  },
  {
   "cell_type": "code",
   "execution_count": 11,
   "id": "0902ba43",
   "metadata": {},
   "outputs": [
    {
     "name": "stdout",
     "output_type": "stream",
     "text": [
      "<class 'pandas.core.frame.DataFrame'>\n",
      "RangeIndex: 1568 entries, 0 to 1567\n",
      "Data columns (total 27 columns):\n",
      " #   Column                   Non-Null Count  Dtype  \n",
      "---  ------                   --------------  -----  \n",
      " 0   ID                       1568 non-null   object \n",
      " 1   Year_of_Birth            1568 non-null   int64  \n",
      " 2   Education_Level          1568 non-null   object \n",
      " 3   Marital_Status           1568 non-null   object \n",
      " 4   Disposable_Income        1568 non-null   float64\n",
      " 5   No_of_Kids_in_home       1568 non-null   int64  \n",
      " 6   No_of_Teen_in_home       1568 non-null   int64  \n",
      " 7   Date_Customer            1568 non-null   object \n",
      " 8   Recency                  1568 non-null   int64  \n",
      " 9   Discounted_Purchases     1568 non-null   int64  \n",
      " 10  WebPurchases             1568 non-null   int64  \n",
      " 11  CatalogPurchases         1568 non-null   int64  \n",
      " 12  StorePurchases           1568 non-null   int64  \n",
      " 13  Amount_on_Wines          1568 non-null   int64  \n",
      " 14  Amount_on_Fruits         1568 non-null   int64  \n",
      " 15  Amount_on_MeatProducts   1568 non-null   int64  \n",
      " 16  Amount_on_FishProducts   1568 non-null   int64  \n",
      " 17  Amount_on_SweetProducts  1568 non-null   int64  \n",
      " 18  Amount_on_GoldProds      1568 non-null   int64  \n",
      " 19  WebVisitsMonth           1568 non-null   int64  \n",
      " 20  Cmp3Accepted             1568 non-null   int64  \n",
      " 21  Cmp4Accepted             1568 non-null   int64  \n",
      " 22  Cmp5Accepted             1568 non-null   int64  \n",
      " 23  Cmp1Accepted             1568 non-null   int64  \n",
      " 24  Cmp2Accepted             1568 non-null   int64  \n",
      " 25  Any_Complain             1568 non-null   int64  \n",
      " 26  Response                 1568 non-null   int64  \n",
      "dtypes: float64(1), int64(22), object(4)\n",
      "memory usage: 330.9+ KB\n"
     ]
    }
   ],
   "source": [
    "train_df.info()"
   ]
  },
  {
   "cell_type": "code",
   "execution_count": 12,
   "id": "c4dbf068",
   "metadata": {
    "scrolled": true
   },
   "outputs": [
    {
     "data": {
      "text/html": [
       "<div>\n",
       "<style scoped>\n",
       "    .dataframe tbody tr th:only-of-type {\n",
       "        vertical-align: middle;\n",
       "    }\n",
       "\n",
       "    .dataframe tbody tr th {\n",
       "        vertical-align: top;\n",
       "    }\n",
       "\n",
       "    .dataframe thead th {\n",
       "        text-align: right;\n",
       "    }\n",
       "</style>\n",
       "<table border=\"1\" class=\"dataframe\">\n",
       "  <thead>\n",
       "    <tr style=\"text-align: right;\">\n",
       "      <th></th>\n",
       "      <th>Year_of_Birth</th>\n",
       "      <th>Disposable_Income</th>\n",
       "      <th>No_of_Kids_in_home</th>\n",
       "      <th>No_of_Teen_in_home</th>\n",
       "      <th>Recency</th>\n",
       "      <th>Discounted_Purchases</th>\n",
       "      <th>WebPurchases</th>\n",
       "      <th>CatalogPurchases</th>\n",
       "      <th>StorePurchases</th>\n",
       "      <th>Amount_on_Wines</th>\n",
       "      <th>...</th>\n",
       "      <th>Amount_on_SweetProducts</th>\n",
       "      <th>Amount_on_GoldProds</th>\n",
       "      <th>WebVisitsMonth</th>\n",
       "      <th>Cmp3Accepted</th>\n",
       "      <th>Cmp4Accepted</th>\n",
       "      <th>Cmp5Accepted</th>\n",
       "      <th>Cmp1Accepted</th>\n",
       "      <th>Cmp2Accepted</th>\n",
       "      <th>Any_Complain</th>\n",
       "      <th>Response</th>\n",
       "    </tr>\n",
       "  </thead>\n",
       "  <tbody>\n",
       "    <tr>\n",
       "      <th>count</th>\n",
       "      <td>1568.000000</td>\n",
       "      <td>1568.000000</td>\n",
       "      <td>1568.000000</td>\n",
       "      <td>1568.000000</td>\n",
       "      <td>1568.000000</td>\n",
       "      <td>1568.000000</td>\n",
       "      <td>1568.000000</td>\n",
       "      <td>1568.000000</td>\n",
       "      <td>1568.000000</td>\n",
       "      <td>1568.000000</td>\n",
       "      <td>...</td>\n",
       "      <td>1568.000000</td>\n",
       "      <td>1568.000000</td>\n",
       "      <td>1568.000000</td>\n",
       "      <td>1568.000000</td>\n",
       "      <td>1568.000000</td>\n",
       "      <td>1568.000000</td>\n",
       "      <td>1568.000000</td>\n",
       "      <td>1568.000000</td>\n",
       "      <td>1568.000000</td>\n",
       "      <td>1568.000000</td>\n",
       "    </tr>\n",
       "    <tr>\n",
       "      <th>mean</th>\n",
       "      <td>1970.073342</td>\n",
       "      <td>62381.186598</td>\n",
       "      <td>0.460459</td>\n",
       "      <td>0.497449</td>\n",
       "      <td>55.408801</td>\n",
       "      <td>2.292730</td>\n",
       "      <td>4.001276</td>\n",
       "      <td>2.665816</td>\n",
       "      <td>5.703444</td>\n",
       "      <td>303.190051</td>\n",
       "      <td>...</td>\n",
       "      <td>26.800383</td>\n",
       "      <td>43.739158</td>\n",
       "      <td>5.326531</td>\n",
       "      <td>0.072704</td>\n",
       "      <td>0.072704</td>\n",
       "      <td>0.080357</td>\n",
       "      <td>0.064413</td>\n",
       "      <td>0.012755</td>\n",
       "      <td>0.008291</td>\n",
       "      <td>0.152423</td>\n",
       "    </tr>\n",
       "    <tr>\n",
       "      <th>std</th>\n",
       "      <td>11.920781</td>\n",
       "      <td>31924.924495</td>\n",
       "      <td>0.540361</td>\n",
       "      <td>0.544151</td>\n",
       "      <td>28.788037</td>\n",
       "      <td>1.937544</td>\n",
       "      <td>2.773748</td>\n",
       "      <td>3.043493</td>\n",
       "      <td>3.260553</td>\n",
       "      <td>340.141396</td>\n",
       "      <td>...</td>\n",
       "      <td>40.857657</td>\n",
       "      <td>51.591557</td>\n",
       "      <td>2.468023</td>\n",
       "      <td>0.259733</td>\n",
       "      <td>0.259733</td>\n",
       "      <td>0.271932</td>\n",
       "      <td>0.245566</td>\n",
       "      <td>0.112252</td>\n",
       "      <td>0.090705</td>\n",
       "      <td>0.359546</td>\n",
       "    </tr>\n",
       "    <tr>\n",
       "      <th>min</th>\n",
       "      <td>1900.000000</td>\n",
       "      <td>2076.000000</td>\n",
       "      <td>0.000000</td>\n",
       "      <td>0.000000</td>\n",
       "      <td>7.000000</td>\n",
       "      <td>0.000000</td>\n",
       "      <td>0.000000</td>\n",
       "      <td>0.000000</td>\n",
       "      <td>0.000000</td>\n",
       "      <td>5.000000</td>\n",
       "      <td>...</td>\n",
       "      <td>0.000000</td>\n",
       "      <td>0.000000</td>\n",
       "      <td>0.000000</td>\n",
       "      <td>0.000000</td>\n",
       "      <td>0.000000</td>\n",
       "      <td>0.000000</td>\n",
       "      <td>0.000000</td>\n",
       "      <td>0.000000</td>\n",
       "      <td>0.000000</td>\n",
       "      <td>0.000000</td>\n",
       "    </tr>\n",
       "    <tr>\n",
       "      <th>25%</th>\n",
       "      <td>1960.000000</td>\n",
       "      <td>41801.400000</td>\n",
       "      <td>0.000000</td>\n",
       "      <td>0.000000</td>\n",
       "      <td>31.000000</td>\n",
       "      <td>1.000000</td>\n",
       "      <td>2.000000</td>\n",
       "      <td>0.000000</td>\n",
       "      <td>3.000000</td>\n",
       "      <td>27.000000</td>\n",
       "      <td>...</td>\n",
       "      <td>1.000000</td>\n",
       "      <td>8.000000</td>\n",
       "      <td>3.000000</td>\n",
       "      <td>0.000000</td>\n",
       "      <td>0.000000</td>\n",
       "      <td>0.000000</td>\n",
       "      <td>0.000000</td>\n",
       "      <td>0.000000</td>\n",
       "      <td>0.000000</td>\n",
       "      <td>0.000000</td>\n",
       "    </tr>\n",
       "    <tr>\n",
       "      <th>50%</th>\n",
       "      <td>1971.000000</td>\n",
       "      <td>61391.400000</td>\n",
       "      <td>0.000000</td>\n",
       "      <td>0.000000</td>\n",
       "      <td>56.000000</td>\n",
       "      <td>2.000000</td>\n",
       "      <td>3.000000</td>\n",
       "      <td>2.000000</td>\n",
       "      <td>5.000000</td>\n",
       "      <td>167.000000</td>\n",
       "      <td>...</td>\n",
       "      <td>8.000000</td>\n",
       "      <td>25.000000</td>\n",
       "      <td>6.000000</td>\n",
       "      <td>0.000000</td>\n",
       "      <td>0.000000</td>\n",
       "      <td>0.000000</td>\n",
       "      <td>0.000000</td>\n",
       "      <td>0.000000</td>\n",
       "      <td>0.000000</td>\n",
       "      <td>0.000000</td>\n",
       "    </tr>\n",
       "    <tr>\n",
       "      <th>75%</th>\n",
       "      <td>1979.000000</td>\n",
       "      <td>81055.200000</td>\n",
       "      <td>1.000000</td>\n",
       "      <td>1.000000</td>\n",
       "      <td>80.000000</td>\n",
       "      <td>3.000000</td>\n",
       "      <td>6.000000</td>\n",
       "      <td>4.000000</td>\n",
       "      <td>8.000000</td>\n",
       "      <td>499.500000</td>\n",
       "      <td>...</td>\n",
       "      <td>33.000000</td>\n",
       "      <td>56.000000</td>\n",
       "      <td>7.000000</td>\n",
       "      <td>0.000000</td>\n",
       "      <td>0.000000</td>\n",
       "      <td>0.000000</td>\n",
       "      <td>0.000000</td>\n",
       "      <td>0.000000</td>\n",
       "      <td>0.000000</td>\n",
       "      <td>0.000000</td>\n",
       "    </tr>\n",
       "    <tr>\n",
       "      <th>max</th>\n",
       "      <td>1997.000000</td>\n",
       "      <td>799999.200000</td>\n",
       "      <td>2.000000</td>\n",
       "      <td>2.000000</td>\n",
       "      <td>106.000000</td>\n",
       "      <td>15.000000</td>\n",
       "      <td>27.000000</td>\n",
       "      <td>28.000000</td>\n",
       "      <td>13.000000</td>\n",
       "      <td>1498.000000</td>\n",
       "      <td>...</td>\n",
       "      <td>263.000000</td>\n",
       "      <td>362.000000</td>\n",
       "      <td>20.000000</td>\n",
       "      <td>1.000000</td>\n",
       "      <td>1.000000</td>\n",
       "      <td>1.000000</td>\n",
       "      <td>1.000000</td>\n",
       "      <td>1.000000</td>\n",
       "      <td>1.000000</td>\n",
       "      <td>1.000000</td>\n",
       "    </tr>\n",
       "  </tbody>\n",
       "</table>\n",
       "<p>8 rows × 23 columns</p>\n",
       "</div>"
      ],
      "text/plain": [
       "       Year_of_Birth  Disposable_Income  No_of_Kids_in_home  \\\n",
       "count    1568.000000        1568.000000         1568.000000   \n",
       "mean     1970.073342       62381.186598            0.460459   \n",
       "std        11.920781       31924.924495            0.540361   \n",
       "min      1900.000000        2076.000000            0.000000   \n",
       "25%      1960.000000       41801.400000            0.000000   \n",
       "50%      1971.000000       61391.400000            0.000000   \n",
       "75%      1979.000000       81055.200000            1.000000   \n",
       "max      1997.000000      799999.200000            2.000000   \n",
       "\n",
       "       No_of_Teen_in_home      Recency  Discounted_Purchases  WebPurchases  \\\n",
       "count         1568.000000  1568.000000           1568.000000   1568.000000   \n",
       "mean             0.497449    55.408801              2.292730      4.001276   \n",
       "std              0.544151    28.788037              1.937544      2.773748   \n",
       "min              0.000000     7.000000              0.000000      0.000000   \n",
       "25%              0.000000    31.000000              1.000000      2.000000   \n",
       "50%              0.000000    56.000000              2.000000      3.000000   \n",
       "75%              1.000000    80.000000              3.000000      6.000000   \n",
       "max              2.000000   106.000000             15.000000     27.000000   \n",
       "\n",
       "       CatalogPurchases  StorePurchases  Amount_on_Wines  ...  \\\n",
       "count       1568.000000     1568.000000      1568.000000  ...   \n",
       "mean           2.665816        5.703444       303.190051  ...   \n",
       "std            3.043493        3.260553       340.141396  ...   \n",
       "min            0.000000        0.000000         5.000000  ...   \n",
       "25%            0.000000        3.000000        27.000000  ...   \n",
       "50%            2.000000        5.000000       167.000000  ...   \n",
       "75%            4.000000        8.000000       499.500000  ...   \n",
       "max           28.000000       13.000000      1498.000000  ...   \n",
       "\n",
       "       Amount_on_SweetProducts  Amount_on_GoldProds  WebVisitsMonth  \\\n",
       "count              1568.000000          1568.000000     1568.000000   \n",
       "mean                 26.800383            43.739158        5.326531   \n",
       "std                  40.857657            51.591557        2.468023   \n",
       "min                   0.000000             0.000000        0.000000   \n",
       "25%                   1.000000             8.000000        3.000000   \n",
       "50%                   8.000000            25.000000        6.000000   \n",
       "75%                  33.000000            56.000000        7.000000   \n",
       "max                 263.000000           362.000000       20.000000   \n",
       "\n",
       "       Cmp3Accepted  Cmp4Accepted  Cmp5Accepted  Cmp1Accepted  Cmp2Accepted  \\\n",
       "count   1568.000000   1568.000000   1568.000000   1568.000000   1568.000000   \n",
       "mean       0.072704      0.072704      0.080357      0.064413      0.012755   \n",
       "std        0.259733      0.259733      0.271932      0.245566      0.112252   \n",
       "min        0.000000      0.000000      0.000000      0.000000      0.000000   \n",
       "25%        0.000000      0.000000      0.000000      0.000000      0.000000   \n",
       "50%        0.000000      0.000000      0.000000      0.000000      0.000000   \n",
       "75%        0.000000      0.000000      0.000000      0.000000      0.000000   \n",
       "max        1.000000      1.000000      1.000000      1.000000      1.000000   \n",
       "\n",
       "       Any_Complain     Response  \n",
       "count   1568.000000  1568.000000  \n",
       "mean       0.008291     0.152423  \n",
       "std        0.090705     0.359546  \n",
       "min        0.000000     0.000000  \n",
       "25%        0.000000     0.000000  \n",
       "50%        0.000000     0.000000  \n",
       "75%        0.000000     0.000000  \n",
       "max        1.000000     1.000000  \n",
       "\n",
       "[8 rows x 23 columns]"
      ]
     },
     "execution_count": 12,
     "metadata": {},
     "output_type": "execute_result"
    }
   ],
   "source": [
    "train_df.describe()"
   ]
  },
  {
   "cell_type": "code",
   "execution_count": 13,
   "id": "a0779462",
   "metadata": {
    "scrolled": true
   },
   "outputs": [
    {
     "data": {
      "text/html": [
       "<div>\n",
       "<style scoped>\n",
       "    .dataframe tbody tr th:only-of-type {\n",
       "        vertical-align: middle;\n",
       "    }\n",
       "\n",
       "    .dataframe tbody tr th {\n",
       "        vertical-align: top;\n",
       "    }\n",
       "\n",
       "    .dataframe thead th {\n",
       "        text-align: right;\n",
       "    }\n",
       "</style>\n",
       "<table border=\"1\" class=\"dataframe\">\n",
       "  <thead>\n",
       "    <tr style=\"text-align: right;\">\n",
       "      <th></th>\n",
       "      <th>count</th>\n",
       "      <th>unique</th>\n",
       "      <th>top</th>\n",
       "      <th>freq</th>\n",
       "    </tr>\n",
       "  </thead>\n",
       "  <tbody>\n",
       "    <tr>\n",
       "      <th>ID</th>\n",
       "      <td>1568</td>\n",
       "      <td>1568</td>\n",
       "      <td>ID_H5TPIMZZ</td>\n",
       "      <td>1</td>\n",
       "    </tr>\n",
       "    <tr>\n",
       "      <th>Education_Level</th>\n",
       "      <td>1568</td>\n",
       "      <td>5</td>\n",
       "      <td>Graduation</td>\n",
       "      <td>802</td>\n",
       "    </tr>\n",
       "    <tr>\n",
       "      <th>Marital_Status</th>\n",
       "      <td>1568</td>\n",
       "      <td>8</td>\n",
       "      <td>Married</td>\n",
       "      <td>615</td>\n",
       "    </tr>\n",
       "    <tr>\n",
       "      <th>Date_Customer</th>\n",
       "      <td>1568</td>\n",
       "      <td>619</td>\n",
       "      <td>12-05-2014</td>\n",
       "      <td>10</td>\n",
       "    </tr>\n",
       "  </tbody>\n",
       "</table>\n",
       "</div>"
      ],
      "text/plain": [
       "                count unique          top freq\n",
       "ID               1568   1568  ID_H5TPIMZZ    1\n",
       "Education_Level  1568      5   Graduation  802\n",
       "Marital_Status   1568      8      Married  615\n",
       "Date_Customer    1568    619   12-05-2014   10"
      ]
     },
     "execution_count": 13,
     "metadata": {},
     "output_type": "execute_result"
    }
   ],
   "source": [
    "train_df.describe(include=['O']).T"
   ]
  },
  {
   "cell_type": "code",
   "execution_count": 14,
   "id": "01a64ad0",
   "metadata": {},
   "outputs": [],
   "source": [
    "train_df.drop('ID', axis=1, inplace=True)\n",
    "test_df.drop('ID', axis=1, inplace=True)"
   ]
  },
  {
   "cell_type": "code",
   "execution_count": 15,
   "id": "3b901bfd",
   "metadata": {
    "scrolled": true
   },
   "outputs": [
    {
     "name": "stdout",
     "output_type": "stream",
     "text": [
      "EDUCATION_LEVEL COUNT\n",
      "Graduation    802\n",
      "PhD           340\n",
      "Master        246\n",
      "2n Cycle      142\n",
      "Basic          38\n",
      "Name: Education_Level, dtype: int64\n",
      "------------------------------ \n",
      "\n",
      "MARITAL_STATUS COUNT\n",
      "Married     615\n",
      "Together    409\n",
      "Single      329\n",
      "Divorced    159\n",
      "Widow        50\n",
      "Alone         3\n",
      "YOLO          2\n",
      "Absurd        1\n",
      "Name: Marital_Status, dtype: int64\n",
      "------------------------------ \n",
      "\n",
      "NO_OF_KIDS_IN_HOME COUNT\n",
      "0    880\n",
      "1    654\n",
      "2     34\n",
      "Name: No_of_Kids_in_home, dtype: int64\n",
      "------------------------------ \n",
      "\n",
      "NO_OF_TEEN_IN_HOME COUNT\n",
      "0    824\n",
      "1    708\n",
      "2     36\n",
      "Name: No_of_Teen_in_home, dtype: int64\n",
      "------------------------------ \n",
      "\n",
      "CMP3ACCEPTED COUNT\n",
      "0    1454\n",
      "1     114\n",
      "Name: Cmp3Accepted, dtype: int64\n",
      "------------------------------ \n",
      "\n",
      "CMP4ACCEPTED COUNT\n",
      "0    1454\n",
      "1     114\n",
      "Name: Cmp4Accepted, dtype: int64\n",
      "------------------------------ \n",
      "\n",
      "CMP5ACCEPTED COUNT\n",
      "0    1442\n",
      "1     126\n",
      "Name: Cmp5Accepted, dtype: int64\n",
      "------------------------------ \n",
      "\n",
      "CMP1ACCEPTED COUNT\n",
      "0    1467\n",
      "1     101\n",
      "Name: Cmp1Accepted, dtype: int64\n",
      "------------------------------ \n",
      "\n",
      "CMP2ACCEPTED COUNT\n",
      "0    1548\n",
      "1      20\n",
      "Name: Cmp2Accepted, dtype: int64\n",
      "------------------------------ \n",
      "\n",
      "ANY_COMPLAIN COUNT\n",
      "0    1555\n",
      "1      13\n",
      "Name: Any_Complain, dtype: int64\n",
      "------------------------------ \n",
      "\n",
      "RESPONSE COUNT\n",
      "0    1329\n",
      "1     239\n",
      "Name: Response, dtype: int64\n",
      "------------------------------ \n",
      "\n"
     ]
    }
   ],
   "source": [
    "for col in train_df.columns:\n",
    "    if len(train_df[col].unique()) < 10:\n",
    "        print(f'{col.upper()} COUNT')\n",
    "        print(train_df[col].value_counts())\n",
    "        print('-'*30, '\\n')\n"
   ]
  },
  {
   "cell_type": "code",
   "execution_count": 16,
   "id": "d3b52b5e",
   "metadata": {},
   "outputs": [
    {
     "data": {
      "text/plain": [
       "Year_of_Birth                int64\n",
       "Education_Level             object\n",
       "Marital_Status              object\n",
       "Disposable_Income          float64\n",
       "No_of_Kids_in_home           int64\n",
       "No_of_Teen_in_home           int64\n",
       "Date_Customer               object\n",
       "Recency                      int64\n",
       "Discounted_Purchases         int64\n",
       "WebPurchases                 int64\n",
       "CatalogPurchases             int64\n",
       "StorePurchases               int64\n",
       "Amount_on_Wines              int64\n",
       "Amount_on_Fruits             int64\n",
       "Amount_on_MeatProducts       int64\n",
       "Amount_on_FishProducts       int64\n",
       "Amount_on_SweetProducts      int64\n",
       "Amount_on_GoldProds          int64\n",
       "WebVisitsMonth               int64\n",
       "Cmp3Accepted                 int64\n",
       "Cmp4Accepted                 int64\n",
       "Cmp5Accepted                 int64\n",
       "Cmp1Accepted                 int64\n",
       "Cmp2Accepted                 int64\n",
       "Any_Complain                 int64\n",
       "Response                     int64\n",
       "dtype: object"
      ]
     },
     "execution_count": 16,
     "metadata": {},
     "output_type": "execute_result"
    }
   ],
   "source": [
    "train_df.dtypes"
   ]
  },
  {
   "cell_type": "code",
   "execution_count": 17,
   "id": "e0cde1b0",
   "metadata": {
    "scrolled": true
   },
   "outputs": [
    {
     "data": {
      "text/plain": [
       "Year_of_Birth                int64\n",
       "Education_Level             object\n",
       "Marital_Status              object\n",
       "Disposable_Income          float64\n",
       "No_of_Kids_in_home           int64\n",
       "No_of_Teen_in_home           int64\n",
       "Date_Customer               object\n",
       "Recency                      int64\n",
       "Discounted_Purchases         int64\n",
       "WebPurchases                 int64\n",
       "CatalogPurchases             int64\n",
       "StorePurchases               int64\n",
       "Amount_on_Wines              int64\n",
       "Amount_on_Fruits             int64\n",
       "Amount_on_MeatProducts       int64\n",
       "Amount_on_FishProducts       int64\n",
       "Amount_on_SweetProducts      int64\n",
       "Amount_on_GoldProds          int64\n",
       "WebVisitsMonth               int64\n",
       "Cmp3Accepted                 int64\n",
       "Cmp4Accepted                 int64\n",
       "Cmp5Accepted                 int64\n",
       "Cmp1Accepted                 int64\n",
       "Cmp2Accepted                 int64\n",
       "Any_Complain                 int64\n",
       "dtype: object"
      ]
     },
     "execution_count": 17,
     "metadata": {},
     "output_type": "execute_result"
    }
   ],
   "source": [
    "test_df.dtypes"
   ]
  },
  {
   "cell_type": "code",
   "execution_count": 18,
   "id": "335464d2",
   "metadata": {},
   "outputs": [],
   "source": [
    "train_df['Date_Customer'] = pd.to_datetime(train_df['Date_Customer'])\n",
    "test_df['Date_Customer'] = pd.to_datetime(test_df['Date_Customer'])"
   ]
  },
  {
   "cell_type": "code",
   "execution_count": 19,
   "id": "531b54df",
   "metadata": {
    "scrolled": false
   },
   "outputs": [
    {
     "data": {
      "text/plain": [
       "Index(['Year_of_Birth', 'Education_Level', 'Marital_Status',\n",
       "       'Disposable_Income', 'No_of_Kids_in_home', 'No_of_Teen_in_home',\n",
       "       'Date_Customer', 'Recency', 'Discounted_Purchases', 'WebPurchases',\n",
       "       'CatalogPurchases', 'StorePurchases', 'Amount_on_Wines',\n",
       "       'Amount_on_Fruits', 'Amount_on_MeatProducts', 'Amount_on_FishProducts',\n",
       "       'Amount_on_SweetProducts', 'Amount_on_GoldProds', 'WebVisitsMonth',\n",
       "       'Cmp3Accepted', 'Cmp4Accepted', 'Cmp5Accepted', 'Cmp1Accepted',\n",
       "       'Cmp2Accepted', 'Any_Complain', 'Response'],\n",
       "      dtype='object')"
      ]
     },
     "execution_count": 19,
     "metadata": {},
     "output_type": "execute_result"
    }
   ],
   "source": [
    "train_df.columns"
   ]
  },
  {
   "cell_type": "code",
   "execution_count": 20,
   "id": "25ffb30e",
   "metadata": {},
   "outputs": [],
   "source": [
    "categ_cols = train_df.select_dtypes(include=['object', 'category']).columns\n",
    "num_col = [col for col in train_df.columns if col not in categ_cols ]"
   ]
  },
  {
   "cell_type": "markdown",
   "id": "71e634ed",
   "metadata": {},
   "source": [
    "## VISUALIZATIONS\n"
   ]
  },
  {
   "cell_type": "code",
   "execution_count": 21,
   "id": "ffe13bc3",
   "metadata": {
    "scrolled": true
   },
   "outputs": [
    {
     "data": {
      "text/plain": [
       "<seaborn.axisgrid.FacetGrid at 0x233552337c0>"
      ]
     },
     "execution_count": 21,
     "metadata": {},
     "output_type": "execute_result"
    },
    {
     "data": {
      "image/png": "[encoded data removed]",
      "text/plain": [
       "<Figure size 360x360 with 1 Axes>"
      ]
     },
     "metadata": {
      "needs_background": "light"
     },
     "output_type": "display_data"
    }
   ],
   "source": [
    "sns.displot(x=train_df['Year_of_Birth'],  data = train_df)"
   ]
  },
  {
   "cell_type": "code",
   "execution_count": 22,
   "id": "586a6106",
   "metadata": {},
   "outputs": [],
   "source": [
    "train_df=train_df[train_df['Year_of_Birth'] > 1940]"
   ]
  },
  {
   "cell_type": "code",
   "execution_count": 23,
   "id": "6a30621a",
   "metadata": {
    "scrolled": false
   },
   "outputs": [
    {
     "data": {
      "text/plain": [
       "<AxesSubplot:xlabel='Response', ylabel='count'>"
      ]
     },
     "execution_count": 23,
     "metadata": {},
     "output_type": "execute_result"
    },
    {
     "data": {
      "image/png": "[encoded data removed]",
      "text/plain": [
       "<Figure size 432x288 with 1 Axes>"
      ]
     },
     "metadata": {
      "needs_background": "light"
     },
     "output_type": "display_data"
    }
   ],
   "source": [
    "sns.countplot(x='Response', data=train_df)"
   ]
  },
  {
   "cell_type": "code",
   "execution_count": 24,
   "id": "6ab33d9a",
   "metadata": {},
   "outputs": [
    {
     "data": {
      "text/plain": [
       "array([0, 1], dtype=int64)"
      ]
     },
     "execution_count": 24,
     "metadata": {},
     "output_type": "execute_result"
    }
   ],
   "source": [
    "train_df['Response'].unique()"
   ]
  },
  {
   "cell_type": "code",
   "execution_count": 25,
   "id": "41697daf",
   "metadata": {},
   "outputs": [
    {
     "data": {
      "image/png": "[encoded data removed]",
      "text/plain": [
       "<Figure size 432x432 with 1 Axes>"
      ]
     },
     "metadata": {
      "needs_background": "light"
     },
     "output_type": "display_data"
    },
    {
     "data": {
      "image/png": "[encoded data removed]",
      "text/plain": [
       "<Figure size 432x432 with 1 Axes>"
      ]
     },
     "metadata": {
      "needs_background": "light"
     },
     "output_type": "display_data"
    },
    {
     "data": {
      "image/png": "[encoded data removed]",
      "text/plain": [
       "<Figure size 432x432 with 1 Axes>"
      ]
     },
     "metadata": {
      "needs_background": "light"
     },
     "output_type": "display_data"
    },
    {
     "data": {
      "image/png": "[encoded data removed]",
      "text/plain": [
       "<Figure size 432x432 with 1 Axes>"
      ]
     },
     "metadata": {
      "needs_background": "light"
     },
     "output_type": "display_data"
    },
    {
     "data": {
      "image/png": "[encoded data removed]",
      "text/plain": [
       "<Figure size 432x432 with 1 Axes>"
      ]
     },
     "metadata": {
      "needs_background": "light"
     },
     "output_type": "display_data"
    },
    {
     "data": {
      "image/png": "[encoded data removed]",
      "text/plain": [
       "<Figure size 432x432 with 1 Axes>"
      ]
     },
     "metadata": {
      "needs_background": "light"
     },
     "output_type": "display_data"
    },
    {
     "data": {
      "image/png": "[encoded data removed]",
      "text/plain": [
       "<Figure size 432x432 with 1 Axes>"
      ]
     },
     "metadata": {
      "needs_background": "light"
     },
     "output_type": "display_data"
    },
    {
     "data": {
      "image/png": "[encoded data removed]",
      "text/plain": [
       "<Figure size 432x432 with 1 Axes>"
      ]
     },
     "metadata": {
      "needs_background": "light"
     },
     "output_type": "display_data"
    },
    {
     "data": {
      "image/png": "[encoded data removed]",
      "text/plain": [
       "<Figure size 432x432 with 1 Axes>"
      ]
     },
     "metadata": {
      "needs_background": "light"
     },
     "output_type": "display_data"
    },
    {
     "data": {
      "image/png": "[encoded data removed]",
      "text/plain": [
       "<Figure size 432x432 with 1 Axes>"
      ]
     },
     "metadata": {
      "needs_background": "light"
     },
     "output_type": "display_data"
    },
    {
     "data": {
      "image/png": "[encoded data removed]",
      "text/plain": [
       "<Figure size 432x432 with 1 Axes>"
      ]
     },
     "metadata": {
      "needs_background": "light"
     },
     "output_type": "display_data"
    },
    {
     "data": {
      "image/png": "[encoded data removed]",
      "text/plain": [
       "<Figure size 432x432 with 1 Axes>"
      ]
     },
     "metadata": {
      "needs_background": "light"
     },
     "output_type": "display_data"
    },
    {
     "data": {
      "image/png": "[encoded data removed]",
      "text/plain": [
       "<Figure size 432x432 with 1 Axes>"
      ]
     },
     "metadata": {
      "needs_background": "light"
     },
     "output_type": "display_data"
    },
    {
     "data": {
      "image/png": "[encoded data removed]",
      "text/plain": [
       "<Figure size 432x432 with 1 Axes>"
      ]
     },
     "metadata": {
      "needs_background": "light"
     },
     "output_type": "display_data"
    }
   ],
   "source": [
    "def plot_count(data, cols, legend=None):\n",
    "    for col in cols:\n",
    "        if len(data[col].unique()) < 15:\n",
    "            fig = plt.figure(figsize=(6,6))\n",
    "            ax = fig.gca()\n",
    "            sns.countplot(x=col, hue=legend, data=data)\n",
    "            ax.set_title(col)\n",
    "            plt.show()\n",
    "\n",
    "plot_count(train_df, train_df.columns, 'Response')"
   ]
  },
  {
   "cell_type": "code",
   "execution_count": 26,
   "id": "f678f097",
   "metadata": {},
   "outputs": [
    {
     "data": {
      "text/plain": [
       "<AxesSubplot:xlabel='Education_Level,Marital_Status'>"
      ]
     },
     "execution_count": 26,
     "metadata": {},
     "output_type": "execute_result"
    },
    {
     "data": {
      "image/png": "[encoded data removed]",
      "text/plain": [
       "<Figure size 432x288 with 1 Axes>"
      ]
     },
     "metadata": {
      "needs_background": "light"
     },
     "output_type": "display_data"
    }
   ],
   "source": [
    "train_df[['Education_Level','Marital_Status','Response']].groupby(['Education_Level','Marital_Status']).sum().plot.bar()"
   ]
  },
  {
   "cell_type": "code",
   "execution_count": 27,
   "id": "063ffa99",
   "metadata": {},
   "outputs": [
    {
     "data": {
      "text/plain": [
       "<AxesSubplot:xlabel='No_of_Kids_in_home,No_of_Teen_in_home'>"
      ]
     },
     "execution_count": 27,
     "metadata": {},
     "output_type": "execute_result"
    },
    {
     "data": {
      "image/png": "[encoded data removed]",
      "text/plain": [
       "<Figure size 432x288 with 1 Axes>"
      ]
     },
     "metadata": {
      "needs_background": "light"
     },
     "output_type": "display_data"
    }
   ],
   "source": [
    "train_df[['No_of_Teen_in_home','No_of_Kids_in_home', 'Response']].groupby(['No_of_Kids_in_home','No_of_Teen_in_home'])['Response'].sum().plot(kind='bar')"
   ]
  },
  {
   "cell_type": "code",
   "execution_count": 28,
   "id": "0bb9c032",
   "metadata": {
    "scrolled": false
   },
   "outputs": [
    {
     "data": {
      "text/plain": [
       "<AxesSubplot:xlabel='Disposable_Income'>"
      ]
     },
     "execution_count": 28,
     "metadata": {},
     "output_type": "execute_result"
    },
    {
     "data": {
      "image/png": "[encoded data removed]",
      "text/plain": [
       "<Figure size 432x288 with 1 Axes>"
      ]
     },
     "metadata": {
      "needs_background": "light"
     },
     "output_type": "display_data"
    }
   ],
   "source": [
    "sns.boxplot(x=train_df['Disposable_Income'])"
   ]
  },
  {
   "cell_type": "code",
   "execution_count": 29,
   "id": "1d2efa62",
   "metadata": {},
   "outputs": [],
   "source": [
    "# train_df = train_df[train_df['Disposable_Income']<150000]"
   ]
  },
  {
   "cell_type": "code",
   "execution_count": 30,
   "id": "bd865d25",
   "metadata": {},
   "outputs": [
    {
     "data": {
      "text/plain": [
       "<seaborn.axisgrid.FacetGrid at 0x23355233490>"
      ]
     },
     "execution_count": 30,
     "metadata": {},
     "output_type": "execute_result"
    },
    {
     "data": {
      "image/png": "[encoded data removed]",
      "text/plain": [
       "<Figure size 360x360 with 1 Axes>"
      ]
     },
     "metadata": {
      "needs_background": "light"
     },
     "output_type": "display_data"
    }
   ],
   "source": [
    "sns.displot(data=train_df, x=\"Recency\")"
   ]
  },
  {
   "cell_type": "code",
   "execution_count": 31,
   "id": "d5c845b1",
   "metadata": {},
   "outputs": [
    {
     "data": {
      "text/plain": [
       "<AxesSubplot:ylabel='Frequency'>"
      ]
     },
     "execution_count": 31,
     "metadata": {},
     "output_type": "execute_result"
    },
    {
     "data": {
      "image/png": "[encoded data removed]",
      "text/plain": [
       "<Figure size 432x288 with 1 Axes>"
      ]
     },
     "metadata": {
      "needs_background": "light"
     },
     "output_type": "display_data"
    }
   ],
   "source": [
    "train_df['Amount_on_SweetProducts'].plot.hist()"
   ]
  },
  {
   "cell_type": "code",
   "execution_count": 32,
   "id": "b44825fe",
   "metadata": {},
   "outputs": [
    {
     "data": {
      "text/plain": [
       "<AxesSubplot:ylabel='Frequency'>"
      ]
     },
     "execution_count": 32,
     "metadata": {},
     "output_type": "execute_result"
    },
    {
     "data": {
      "image/png": "[encoded data removed]",
      "text/plain": [
       "<Figure size 432x288 with 1 Axes>"
      ]
     },
     "metadata": {
      "needs_background": "light"
     },
     "output_type": "display_data"
    }
   ],
   "source": [
    "train_df['Amount_on_GoldProds'].plot.hist()"
   ]
  },
  {
   "cell_type": "code",
   "execution_count": 33,
   "id": "a84b9b27",
   "metadata": {},
   "outputs": [
    {
     "data": {
      "text/plain": [
       "<AxesSubplot:ylabel='Frequency'>"
      ]
     },
     "execution_count": 33,
     "metadata": {},
     "output_type": "execute_result"
    },
    {
     "data": {
      "image/png": "[encoded data removed]",
      "text/plain": [
       "<Figure size 432x288 with 1 Axes>"
      ]
     },
     "metadata": {
      "needs_background": "light"
     },
     "output_type": "display_data"
    }
   ],
   "source": [
    "train_df['WebVisitsMonth'].plot.hist()"
   ]
  },
  {
   "cell_type": "code",
   "execution_count": 34,
   "id": "da22eaa5",
   "metadata": {
    "scrolled": true
   },
   "outputs": [
    {
     "data": {
      "text/plain": [
       "<AxesSubplot:xlabel='WebVisitsMonth'>"
      ]
     },
     "execution_count": 34,
     "metadata": {},
     "output_type": "execute_result"
    },
    {
     "data": {
      "image/png": "[encoded data removed]",
      "text/plain": [
       "<Figure size 432x288 with 1 Axes>"
      ]
     },
     "metadata": {
      "needs_background": "light"
     },
     "output_type": "display_data"
    }
   ],
   "source": [
    "train_df.groupby('WebVisitsMonth')['Response'].sum().plot.bar()"
   ]
  },
  {
   "cell_type": "code",
   "execution_count": 35,
   "id": "e2b13990",
   "metadata": {},
   "outputs": [
    {
     "ename": "NameError",
     "evalue": "name 'x' is not defined",
     "output_type": "error",
     "traceback": [
      "\u001b[1;31m---------------------------------------------------------------------------\u001b[0m",
      "\u001b[1;31mNameError\u001b[0m                                 Traceback (most recent call last)",
      "\u001b[1;32m<ipython-input-35-70628e5d6ae8>\u001b[0m in \u001b[0;36m<module>\u001b[1;34m\u001b[0m\n\u001b[1;32m----> 1\u001b[1;33m \u001b[0mx\u001b[0m\u001b[1;33m.\u001b[0m\u001b[0mcolumns\u001b[0m\u001b[1;33m\u001b[0m\u001b[1;33m\u001b[0m\u001b[0m\n\u001b[0m",
      "\u001b[1;31mNameError\u001b[0m: name 'x' is not defined"
     ]
    }
   ],
   "source": [
    "x.columns"
   ]
  },
  {
   "cell_type": "code",
   "execution_count": null,
   "id": "32d88fe2",
   "metadata": {},
   "outputs": [],
   "source": [
    "train_df['CatalogPurchases'].plot.hist()"
   ]
  },
  {
   "cell_type": "code",
   "execution_count": null,
   "id": "55af0d49",
   "metadata": {},
   "outputs": [],
   "source": [
    "train_df['StorePurchases'].plot.hist()"
   ]
  },
  {
   "cell_type": "code",
   "execution_count": null,
   "id": "0498e8f9",
   "metadata": {
    "scrolled": true
   },
   "outputs": [],
   "source": [
    "train_df['Amount_on_Wines'].plot.hist()"
   ]
  },
  {
   "cell_type": "code",
   "execution_count": null,
   "id": "7fdbba0a",
   "metadata": {},
   "outputs": [],
   "source": [
    "train_df['WebVisitsMonth'].plot.hist()"
   ]
  },
  {
   "cell_type": "code",
   "execution_count": null,
   "id": "fa606965",
   "metadata": {},
   "outputs": [],
   "source": [
    "train_df['Amount_on_Fruits'].plot.hist()"
   ]
  },
  {
   "cell_type": "code",
   "execution_count": null,
   "id": "9146bd3b",
   "metadata": {},
   "outputs": [],
   "source": [
    "sns.displot(train_df['Discounted_Purchases'], kind='kde')"
   ]
  },
  {
   "cell_type": "code",
   "execution_count": null,
   "id": "711839e6",
   "metadata": {},
   "outputs": [],
   "source": [
    "cols = ['Discounted_Purchases', 'WebPurchases', 'CatalogPurchases',\n",
    "       'StorePurchases', 'Amount_on_Wines', 'Amount_on_Fruits',\n",
    "       'Amount_on_MeatProducts', 'Amount_on_FishProducts',\n",
    "       'Amount_on_SweetProducts', 'Amount_on_GoldProds', 'WebVisitsMonth']\n",
    "for col in cols:\n",
    "    fig = plt.figure(figsize=(6,6))\n",
    "    ax = fig.gca()\n",
    "    sns.histplot(train_df[col])\n",
    "    ax.set_title(col)\n",
    "    plt.show()"
   ]
  },
  {
   "cell_type": "code",
   "execution_count": null,
   "id": "80fec6cd",
   "metadata": {},
   "outputs": [],
   "source": [
    "for col in cols:\n",
    "    "
   ]
  },
  {
   "cell_type": "code",
   "execution_count": null,
   "id": "827878cf",
   "metadata": {},
   "outputs": [],
   "source": []
  },
  {
   "cell_type": "markdown",
   "id": "2ccca970",
   "metadata": {},
   "source": [
    "## FEATURE ENGINEERING"
   ]
  },
  {
   "cell_type": "code",
   "execution_count": null,
   "id": "a871050e",
   "metadata": {},
   "outputs": [],
   "source": [
    "dataset =(train_df, test_df)"
   ]
  },
  {
   "cell_type": "code",
   "execution_count": null,
   "id": "f35efc7f",
   "metadata": {},
   "outputs": [],
   "source": []
  },
  {
   "cell_type": "code",
   "execution_count": null,
   "id": "798a9279",
   "metadata": {
    "scrolled": true
   },
   "outputs": [],
   "source": [
    "for data in dataset:\n",
    "    data.loc[:,'Year_of_Birth'] = 2019 - data.loc[:,'Year_of_Birth']\n",
    "    data.rename(columns={'Year_of_Birth':'Age'},inplace=True)\n",
    "\n",
    "train_df.head()"
   ]
  },
  {
   "cell_type": "code",
   "execution_count": null,
   "id": "8f56c7fe",
   "metadata": {
    "scrolled": true
   },
   "outputs": [],
   "source": [
    "# LABEL ENCODING OF EDUCATION_LEVEL\n",
    "for data in dataset:\n",
    "    data['Education_Level'].replace({'Graduation':1, '2n Cycle':2, 'Master':3, 'PhD':4, 'Basic':0}, inplace=True)  \n",
    "\n",
    "train_df.head()"
   ]
  },
  {
   "cell_type": "code",
   "execution_count": null,
   "id": "f0d3b389",
   "metadata": {},
   "outputs": [],
   "source": [
    "train_df['Date_Customer'] = train_df['Date_Customer'].dt.to_period('M') - pd.to_datetime('2021-10-01').to_period('M')\n",
    "test_df['Date_Customer'] = test_df['Date_Customer'].dt.to_period('M') - pd.to_datetime('2021-10-01').to_period('M')"
   ]
  },
  {
   "cell_type": "code",
   "execution_count": null,
   "id": "70dbf39c",
   "metadata": {},
   "outputs": [],
   "source": [
    "from operator import attrgetter\n",
    " \n",
    "train_df['Date_Customer'] = 0-train_df['Date_Customer'].apply(attrgetter('n'))\n",
    "test_df['Date_Customer'] = 0-test_df['Date_Customer'].apply(attrgetter('n'))\n",
    "\n"
   ]
  },
  {
   "cell_type": "code",
   "execution_count": null,
   "id": "05020dbd",
   "metadata": {
    "scrolled": true
   },
   "outputs": [],
   "source": [
    "# ONNE HOT ENCODING MARITAL_STATUS\n",
    "m_stat_train =  pd.get_dummies(train_df['Marital_Status'])\n",
    "m_stat_test =  pd.get_dummies(test_df['Marital_Status'])\n",
    "\n",
    "test_df = test_df.join(m_stat_test)\n",
    "train_df = train_df.join(m_stat_train)\n",
    "\n",
    "train_df.drop(columns=['Marital_Status'], inplace=True)\n",
    "test_df.drop(columns=['Marital_Status'], inplace=True)"
   ]
  },
  {
   "cell_type": "code",
   "execution_count": null,
   "id": "5f1fc9e2",
   "metadata": {},
   "outputs": [],
   "source": [
    "# enc = OneHotEncoder(handle_unknown='ignore')\n",
    "# m_status_train = pd.DataFrame(enc.fit_transform(train_df[['Marital_Status']]).toarray())\n",
    "# m_status_test = pd.DataFrame(enc.fit_transform(test_df[['Marital_Status']]).toarray())"
   ]
  },
  {
   "cell_type": "code",
   "execution_count": null,
   "id": "f0321974",
   "metadata": {
    "scrolled": true
   },
   "outputs": [],
   "source": [
    "y = train_df['Response']"
   ]
  },
  {
   "cell_type": "code",
   "execution_count": null,
   "id": "c266e5ab",
   "metadata": {},
   "outputs": [],
   "source": [
    "x= train_df.drop('Response', axis=1)\n",
    "sub = test_df"
   ]
  },
  {
   "cell_type": "code",
   "execution_count": null,
   "id": "209fb819",
   "metadata": {},
   "outputs": [],
   "source": [
    "sub = sub.reindex(x.columns, axis=1)\n",
    "sub.replace({np.nan:0}, inplace=True)"
   ]
  },
  {
   "cell_type": "code",
   "execution_count": null,
   "id": "01ae3886",
   "metadata": {},
   "outputs": [],
   "source": [
    "x.head()"
   ]
  },
  {
   "cell_type": "code",
   "execution_count": null,
   "id": "c547a82f",
   "metadata": {},
   "outputs": [],
   "source": [
    "x.columns"
   ]
  },
  {
   "cell_type": "code",
   "execution_count": null,
   "id": "3a910493",
   "metadata": {},
   "outputs": [],
   "source": [
    "from sklearn.preprocessing import FunctionTransformer\n",
    "log_trans = FunctionTransformer(np.log, validate=True)\n",
    "\n",
    "data_new = log_trans.transform(train_df[cols])\n",
    "\n",
    "\n"
   ]
  },
  {
   "cell_type": "code",
   "execution_count": null,
   "id": "5dec327a",
   "metadata": {},
   "outputs": [],
   "source": [
    "from sklearn.model_selection import train_test_split\n",
    "x_test, x_train, y_test, y_train = train_test_split(x, y, test_size=0.2)"
   ]
  },
  {
   "cell_type": "code",
   "execution_count": null,
   "id": "d3f4f585",
   "metadata": {
    "scrolled": true
   },
   "outputs": [],
   "source": [
    "from sklearn.preprocessing import RobustScaler\n",
    "from imblearn.over_sampling import SMOTE\n",
    "\n",
    "sc = RobustScaler()\n",
    "x_train_scale = sc.fit_transform(x_train)\n",
    "x_test_scale = sc.transform(x_test)\n",
    "\n",
    "sub_scale = sc.transform(sub)"
   ]
  },
  {
   "cell_type": "code",
   "execution_count": null,
   "id": "741b4629",
   "metadata": {},
   "outputs": [],
   "source": [
    "# x_test_scale = np.nan_to_num(x_test_scale)"
   ]
  },
  {
   "cell_type": "code",
   "execution_count": null,
   "id": "5920154e",
   "metadata": {},
   "outputs": [],
   "source": [
    "smote = SMOTE(random_state=1)\n",
    "x_smote, y_train_smote = smote.fit_resample(x_train_scale, y_train)\n"
   ]
  },
  {
   "cell_type": "code",
   "execution_count": null,
   "id": "a0c34a47",
   "metadata": {
    "scrolled": true
   },
   "outputs": [],
   "source": [
    "from sklearn.linear_model import LogisticRegression\n",
    "log_reg = LogisticRegression(max_iter=1000, random_state=1)\n",
    "log_reg.fit(x_smote, y_train_smote)\n",
    "\n",
    "y_log = log_reg.predict(x_test_scale)"
   ]
  },
  {
   "cell_type": "code",
   "execution_count": null,
   "id": "86b4572c",
   "metadata": {},
   "outputs": [],
   "source": [
    "import lightgbm as lgb #install this library using pip install lgbm if you don't have it \n",
    "from catboost import CatBoostClassifier\n",
    "from sklearn.metrics import f1_score\n",
    "\n",
    "#Creating model \n",
    "cat_model=CatBoostClassifier(random_seed=1)\n",
    "\n",
    "#Training Catboost Model on train set\n",
    "cat_model.fit(x_smote,y_train_smote)\n",
    "\n",
    "#Predictiing on Test Set\n",
    "y_pred_cat=cat_model.predict(x_test_scale)\n",
    "\n",
    "#Evaluating model using f1_score\n",
    "print(\"Catboost F1 score on validation set is : \",f1_score(y_test,y_pred_cat))\n"
   ]
  },
  {
   "cell_type": "code",
   "execution_count": null,
   "id": "10092650",
   "metadata": {},
   "outputs": [],
   "source": [
    "from sklearn.metrics import f1_score\n",
    "f1_score(y_test, y_log)"
   ]
  },
  {
   "cell_type": "code",
   "execution_count": null,
   "id": "52e38b2b",
   "metadata": {},
   "outputs": [],
   "source": [
    "from sklearn.ensemble import RandomForestClassifier\n",
    "from sklearn import metrics\n",
    "from sklearn.metrics import f1_score\n",
    "from sklearn.metrics import accuracy_score\n",
    "\n",
    "rfc = RandomForestClassifier(n_estimators=100, random_state=1)\n",
    "rfc.fit(x_smote, y_train_smote)\n",
    "\n",
    "y_rfc= rfc.predict(x_test)\n",
    "f1_score(y_rfc, y_test)"
   ]
  },
  {
   "cell_type": "code",
   "execution_count": null,
   "id": "36431dc3",
   "metadata": {},
   "outputs": [],
   "source": [
    "import xgboost as xgb\n",
    "xgb=xgb.XGBClassifier(max_depth=3, n_estimators=500, n_jobs=-1, scale_pos_weight=4)\n",
    "xgb.fit(x_smote, y_train_smote)\n",
    "y_xgb= xgb.predict(x_test_scale)\n",
    "f1_score(y_xgb, y_test)"
   ]
  },
  {
   "cell_type": "code",
   "execution_count": null,
   "id": "c1ca4b20",
   "metadata": {},
   "outputs": [],
   "source": []
  },
  {
   "cell_type": "code",
   "execution_count": null,
   "id": "1557c79a",
   "metadata": {},
   "outputs": [],
   "source": []
  },
  {
   "cell_type": "code",
   "execution_count": null,
   "id": "cc3bab1d",
   "metadata": {},
   "outputs": [],
   "source": []
  },
  {
   "cell_type": "code",
   "execution_count": null,
   "id": "f8f02220",
   "metadata": {},
   "outputs": [],
   "source": []
  },
  {
   "cell_type": "markdown",
   "id": "e429f10c",
   "metadata": {},
   "source": [
    "## SAVE TO CSV"
   ]
  },
  {
   "cell_type": "code",
   "execution_count": 36,
   "id": "c087a470",
   "metadata": {},
   "outputs": [],
   "source": [
    "sub_file.to_csv(r\"C:\\Users\\Atehe Stephen\\Documents\\New folder\\submiss3.csv\", index=False)"
   ]
  },
  {
   "cell_type": "code",
   "execution_count": null,
   "id": "e8dc2f57",
   "metadata": {},
   "outputs": [],
   "source": [
    "submi_file['Response'] = log_reg.predict(sub)"
   ]
  },
  {
   "cell_type": "code",
   "execution_count": null,
   "id": "85bd405f",
   "metadata": {},
   "outputs": [],
   "source": []
  },
  {
   "cell_type": "code",
   "execution_count": null,
   "id": "eb40b0d7",
   "metadata": {},
   "outputs": [],
   "source": []
  },
  {
   "cell_type": "code",
   "execution_count": null,
   "id": "31cefcc3",
   "metadata": {},
   "outputs": [],
   "source": []
  }
 ],
 "metadata": {
  "kernelspec": {
   "display_name": "Python 3",
   "language": "python",
   "name": "python3"
  },
  "language_info": {
   "codemirror_mode": {
    "name": "ipython",
    "version": 3
   },
   "file_extension": ".py",
   "mimetype": "text/x-python",
   "name": "python",
   "nbconvert_exporter": "python",
   "pygments_lexer": "ipython3",
   "version": "3.8.8"
  }
 },
 "nbformat": 4,
 "nbformat_minor": 5
}
