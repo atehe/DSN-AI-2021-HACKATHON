{
 "cells": [
  {
   "cell_type": "code",
   "execution_count": 1,
   "id": "1f60dee7",
   "metadata": {},
   "outputs": [],
   "source": [
    "import pandas as pd\n",
    "import matplotlib.pyplot as plt\n",
    "import seaborn as sns\n",
    "import numpy as np"
   ]
  },
  {
   "cell_type": "code",
   "execution_count": 2,
   "id": "b4d4e432",
   "metadata": {},
   "outputs": [],
   "source": [
    "train_df = pd.read_csv(r\"C:\\Users\\Atehe Stephen\\Downloads\\Compressed\\ai-bootcamp-2021\\Train.csv\")\n",
    "test_df = pd.read_csv(r\"C:\\Users\\Atehe Stephen\\Downloads\\Compressed\\ai-bootcamp-2021\\Test.csv\")"
   ]
  },
  {
   "cell_type": "code",
   "execution_count": 3,
   "id": "46e69650",
   "metadata": {},
   "outputs": [
    {
     "name": "stdout",
     "output_type": "stream",
     "text": [
      "The shape of the train set is (1568, 27)\n",
      "The shape of the train set is (672, 26)\n"
     ]
    }
   ],
   "source": [
    "print(f'The shape of the train set is {train_df.shape}')\n",
    "print(f'The shape of the train set is {test_df.shape}')"
   ]
  },
  {
   "cell_type": "code",
   "execution_count": 4,
   "id": "a9b7d4b6",
   "metadata": {
    "scrolled": true
   },
   "outputs": [
    {
     "data": {
      "text/html": [
       "<div>\n",
       "<style scoped>\n",
       "    .dataframe tbody tr th:only-of-type {\n",
       "        vertical-align: middle;\n",
       "    }\n",
       "\n",
       "    .dataframe tbody tr th {\n",
       "        vertical-align: top;\n",
       "    }\n",
       "\n",
       "    .dataframe thead th {\n",
       "        text-align: right;\n",
       "    }\n",
       "</style>\n",
       "<table border=\"1\" class=\"dataframe\">\n",
       "  <thead>\n",
       "    <tr style=\"text-align: right;\">\n",
       "      <th></th>\n",
       "      <th>ID</th>\n",
       "      <th>Response</th>\n",
       "    </tr>\n",
       "  </thead>\n",
       "  <tbody>\n",
       "    <tr>\n",
       "      <th>0</th>\n",
       "      <td>ID_ZPMABNVX</td>\n",
       "      <td>NaN</td>\n",
       "    </tr>\n",
       "    <tr>\n",
       "      <th>1</th>\n",
       "      <td>ID_WFE91NAA</td>\n",
       "      <td>NaN</td>\n",
       "    </tr>\n",
       "    <tr>\n",
       "      <th>2</th>\n",
       "      <td>ID_JV11RBRK</td>\n",
       "      <td>NaN</td>\n",
       "    </tr>\n",
       "    <tr>\n",
       "      <th>3</th>\n",
       "      <td>ID_6B7SVKY9</td>\n",
       "      <td>NaN</td>\n",
       "    </tr>\n",
       "    <tr>\n",
       "      <th>4</th>\n",
       "      <td>ID_GOVUZ545</td>\n",
       "      <td>NaN</td>\n",
       "    </tr>\n",
       "  </tbody>\n",
       "</table>\n",
       "</div>"
      ],
      "text/plain": [
       "            ID Response\n",
       "0  ID_ZPMABNVX      NaN\n",
       "1  ID_WFE91NAA      NaN\n",
       "2  ID_JV11RBRK      NaN\n",
       "3  ID_6B7SVKY9      NaN\n",
       "4  ID_GOVUZ545      NaN"
      ]
     },
     "execution_count": 4,
     "metadata": {},
     "output_type": "execute_result"
    }
   ],
   "source": [
    "submission_file = pd.DataFrame(columns=['ID', 'Response'])\n",
    "submission_file.ID = test_df.ID\n",
    "submission_file.head()"
   ]
  },
  {
   "cell_type": "code",
   "execution_count": 5,
   "id": "899443a1",
   "metadata": {},
   "outputs": [
    {
     "data": {
      "text/plain": [
       "ID                         0\n",
       "Year_of_Birth              0\n",
       "Education_Level            0\n",
       "Marital_Status             0\n",
       "Disposable_Income          8\n",
       "No_of_Kids_in_home         0\n",
       "No_of_Teen_in_home         0\n",
       "Date_Customer              0\n",
       "Recency                    0\n",
       "Discounted_Purchases       0\n",
       "WebPurchases               0\n",
       "CatalogPurchases           0\n",
       "StorePurchases             0\n",
       "Amount_on_Wines            0\n",
       "Amount_on_Fruits           0\n",
       "Amount_on_MeatProducts     0\n",
       "Amount_on_FishProducts     0\n",
       "Amount_on_SweetProducts    0\n",
       "Amount_on_GoldProds        0\n",
       "WebVisitsMonth             0\n",
       "Cmp3Accepted               0\n",
       "Cmp4Accepted               0\n",
       "Cmp5Accepted               0\n",
       "Cmp1Accepted               0\n",
       "Cmp2Accepted               0\n",
       "Any_Complain               0\n",
       "dtype: int64"
      ]
     },
     "execution_count": 5,
     "metadata": {},
     "output_type": "execute_result"
    }
   ],
   "source": [
    "test_df.isna().sum()"
   ]
  },
  {
   "cell_type": "code",
   "execution_count": 6,
   "id": "19737f4e",
   "metadata": {},
   "outputs": [],
   "source": [
    "# Replacing NA values with mean\n",
    "dataset = (test_df, train_df)\n",
    "for data in dataset:\n",
    "    data['Disposable_Income'].fillna(data['Disposable_Income'].mean(),inplace=True)\n",
    "    data.drop('ID', axis=1, inplace=True)"
   ]
  },
  {
   "cell_type": "code",
   "execution_count": 7,
   "id": "00a53b88",
   "metadata": {},
   "outputs": [
    {
     "data": {
      "text/plain": [
       "Year_of_Birth              0\n",
       "Education_Level            0\n",
       "Marital_Status             0\n",
       "Disposable_Income          0\n",
       "No_of_Kids_in_home         0\n",
       "No_of_Teen_in_home         0\n",
       "Date_Customer              0\n",
       "Recency                    0\n",
       "Discounted_Purchases       0\n",
       "WebPurchases               0\n",
       "CatalogPurchases           0\n",
       "StorePurchases             0\n",
       "Amount_on_Wines            0\n",
       "Amount_on_Fruits           0\n",
       "Amount_on_MeatProducts     0\n",
       "Amount_on_FishProducts     0\n",
       "Amount_on_SweetProducts    0\n",
       "Amount_on_GoldProds        0\n",
       "WebVisitsMonth             0\n",
       "Cmp3Accepted               0\n",
       "Cmp4Accepted               0\n",
       "Cmp5Accepted               0\n",
       "Cmp1Accepted               0\n",
       "Cmp2Accepted               0\n",
       "Any_Complain               0\n",
       "dtype: int64"
      ]
     },
     "execution_count": 7,
     "metadata": {},
     "output_type": "execute_result"
    }
   ],
   "source": [
    "test_df.isna().sum()"
   ]
  },
  {
   "cell_type": "code",
   "execution_count": 8,
   "id": "61506840",
   "metadata": {},
   "outputs": [
    {
     "data": {
      "text/plain": [
       "Year_of_Birth                int64\n",
       "Education_Level             object\n",
       "Marital_Status              object\n",
       "Disposable_Income          float64\n",
       "No_of_Kids_in_home           int64\n",
       "No_of_Teen_in_home           int64\n",
       "Date_Customer               object\n",
       "Recency                      int64\n",
       "Discounted_Purchases         int64\n",
       "WebPurchases                 int64\n",
       "CatalogPurchases             int64\n",
       "StorePurchases               int64\n",
       "Amount_on_Wines              int64\n",
       "Amount_on_Fruits             int64\n",
       "Amount_on_MeatProducts       int64\n",
       "Amount_on_FishProducts       int64\n",
       "Amount_on_SweetProducts      int64\n",
       "Amount_on_GoldProds          int64\n",
       "WebVisitsMonth               int64\n",
       "Cmp3Accepted                 int64\n",
       "Cmp4Accepted                 int64\n",
       "Cmp5Accepted                 int64\n",
       "Cmp1Accepted                 int64\n",
       "Cmp2Accepted                 int64\n",
       "Any_Complain                 int64\n",
       "Response                     int64\n",
       "dtype: object"
      ]
     },
     "execution_count": 8,
     "metadata": {},
     "output_type": "execute_result"
    }
   ],
   "source": [
    "train_df.dtypes"
   ]
  },
  {
   "cell_type": "code",
   "execution_count": 9,
   "id": "a6a0e22d",
   "metadata": {},
   "outputs": [
    {
     "data": {
      "text/plain": [
       "Year_of_Birth                int64\n",
       "Education_Level             object\n",
       "Marital_Status              object\n",
       "Disposable_Income          float64\n",
       "No_of_Kids_in_home           int64\n",
       "No_of_Teen_in_home           int64\n",
       "Date_Customer               object\n",
       "Recency                      int64\n",
       "Discounted_Purchases         int64\n",
       "WebPurchases                 int64\n",
       "CatalogPurchases             int64\n",
       "StorePurchases               int64\n",
       "Amount_on_Wines              int64\n",
       "Amount_on_Fruits             int64\n",
       "Amount_on_MeatProducts       int64\n",
       "Amount_on_FishProducts       int64\n",
       "Amount_on_SweetProducts      int64\n",
       "Amount_on_GoldProds          int64\n",
       "WebVisitsMonth               int64\n",
       "Cmp3Accepted                 int64\n",
       "Cmp4Accepted                 int64\n",
       "Cmp5Accepted                 int64\n",
       "Cmp1Accepted                 int64\n",
       "Cmp2Accepted                 int64\n",
       "Any_Complain                 int64\n",
       "dtype: object"
      ]
     },
     "execution_count": 9,
     "metadata": {},
     "output_type": "execute_result"
    }
   ],
   "source": [
    "test_df.dtypes"
   ]
  },
  {
   "cell_type": "code",
   "execution_count": 10,
   "id": "5cfa3175",
   "metadata": {},
   "outputs": [],
   "source": [
    "train_df['Date_Customer'] = pd.to_datetime(train_df['Date_Customer'])\n",
    "test_df['Date_Customer'] = pd.to_datetime(test_df['Date_Customer'])"
   ]
  },
  {
   "cell_type": "code",
   "execution_count": 11,
   "id": "a63f5436",
   "metadata": {},
   "outputs": [
    {
     "name": "stdout",
     "output_type": "stream",
     "text": [
      "Categorical columns: Index(['Education_Level', 'Marital_Status'], dtype='object')\n",
      "Numerical columns ['Year_of_Birth', 'Disposable_Income', 'No_of_Kids_in_home', 'No_of_Teen_in_home', 'Date_Customer', 'Recency', 'Discounted_Purchases', 'WebPurchases', 'CatalogPurchases', 'StorePurchases', 'Amount_on_Wines', 'Amount_on_Fruits', 'Amount_on_MeatProducts', 'Amount_on_FishProducts', 'Amount_on_SweetProducts', 'Amount_on_GoldProds', 'WebVisitsMonth', 'Cmp3Accepted', 'Cmp4Accepted', 'Cmp5Accepted', 'Cmp1Accepted', 'Cmp2Accepted', 'Any_Complain', 'Response']\n"
     ]
    }
   ],
   "source": [
    "categ_cols = train_df.select_dtypes(include=['object', 'category']).columns\n",
    "num_col = [col for col in train_df.columns if col not in categ_cols ]\n",
    "\n",
    "print(f'''Categorical columns: {categ_cols}\n",
    "Numerical columns {num_col}''')"
   ]
  },
  {
   "cell_type": "code",
   "execution_count": 12,
   "id": "28787db4",
   "metadata": {},
   "outputs": [
    {
     "data": {
      "text/html": [
       "<div>\n",
       "<style scoped>\n",
       "    .dataframe tbody tr th:only-of-type {\n",
       "        vertical-align: middle;\n",
       "    }\n",
       "\n",
       "    .dataframe tbody tr th {\n",
       "        vertical-align: top;\n",
       "    }\n",
       "\n",
       "    .dataframe thead th {\n",
       "        text-align: right;\n",
       "    }\n",
       "</style>\n",
       "<table border=\"1\" class=\"dataframe\">\n",
       "  <thead>\n",
       "    <tr style=\"text-align: right;\">\n",
       "      <th></th>\n",
       "      <th>Year_of_Birth</th>\n",
       "      <th>Disposable_Income</th>\n",
       "      <th>No_of_Kids_in_home</th>\n",
       "      <th>No_of_Teen_in_home</th>\n",
       "      <th>Recency</th>\n",
       "      <th>Discounted_Purchases</th>\n",
       "      <th>WebPurchases</th>\n",
       "      <th>CatalogPurchases</th>\n",
       "      <th>StorePurchases</th>\n",
       "      <th>Amount_on_Wines</th>\n",
       "      <th>...</th>\n",
       "      <th>Amount_on_SweetProducts</th>\n",
       "      <th>Amount_on_GoldProds</th>\n",
       "      <th>WebVisitsMonth</th>\n",
       "      <th>Cmp3Accepted</th>\n",
       "      <th>Cmp4Accepted</th>\n",
       "      <th>Cmp5Accepted</th>\n",
       "      <th>Cmp1Accepted</th>\n",
       "      <th>Cmp2Accepted</th>\n",
       "      <th>Any_Complain</th>\n",
       "      <th>Response</th>\n",
       "    </tr>\n",
       "  </thead>\n",
       "  <tbody>\n",
       "    <tr>\n",
       "      <th>count</th>\n",
       "      <td>1568.000000</td>\n",
       "      <td>1568.000000</td>\n",
       "      <td>1568.000000</td>\n",
       "      <td>1568.000000</td>\n",
       "      <td>1568.000000</td>\n",
       "      <td>1568.000000</td>\n",
       "      <td>1568.000000</td>\n",
       "      <td>1568.000000</td>\n",
       "      <td>1568.000000</td>\n",
       "      <td>1568.000000</td>\n",
       "      <td>...</td>\n",
       "      <td>1568.000000</td>\n",
       "      <td>1568.000000</td>\n",
       "      <td>1568.000000</td>\n",
       "      <td>1568.000000</td>\n",
       "      <td>1568.000000</td>\n",
       "      <td>1568.000000</td>\n",
       "      <td>1568.000000</td>\n",
       "      <td>1568.000000</td>\n",
       "      <td>1568.000000</td>\n",
       "      <td>1568.000000</td>\n",
       "    </tr>\n",
       "    <tr>\n",
       "      <th>mean</th>\n",
       "      <td>1970.073342</td>\n",
       "      <td>62381.186598</td>\n",
       "      <td>0.460459</td>\n",
       "      <td>0.497449</td>\n",
       "      <td>55.408801</td>\n",
       "      <td>2.292730</td>\n",
       "      <td>4.001276</td>\n",
       "      <td>2.665816</td>\n",
       "      <td>5.703444</td>\n",
       "      <td>303.190051</td>\n",
       "      <td>...</td>\n",
       "      <td>26.800383</td>\n",
       "      <td>43.739158</td>\n",
       "      <td>5.326531</td>\n",
       "      <td>0.072704</td>\n",
       "      <td>0.072704</td>\n",
       "      <td>0.080357</td>\n",
       "      <td>0.064413</td>\n",
       "      <td>0.012755</td>\n",
       "      <td>0.008291</td>\n",
       "      <td>0.152423</td>\n",
       "    </tr>\n",
       "    <tr>\n",
       "      <th>std</th>\n",
       "      <td>11.920781</td>\n",
       "      <td>31924.924495</td>\n",
       "      <td>0.540361</td>\n",
       "      <td>0.544151</td>\n",
       "      <td>28.788037</td>\n",
       "      <td>1.937544</td>\n",
       "      <td>2.773748</td>\n",
       "      <td>3.043493</td>\n",
       "      <td>3.260553</td>\n",
       "      <td>340.141396</td>\n",
       "      <td>...</td>\n",
       "      <td>40.857657</td>\n",
       "      <td>51.591557</td>\n",
       "      <td>2.468023</td>\n",
       "      <td>0.259733</td>\n",
       "      <td>0.259733</td>\n",
       "      <td>0.271932</td>\n",
       "      <td>0.245566</td>\n",
       "      <td>0.112252</td>\n",
       "      <td>0.090705</td>\n",
       "      <td>0.359546</td>\n",
       "    </tr>\n",
       "    <tr>\n",
       "      <th>min</th>\n",
       "      <td>1900.000000</td>\n",
       "      <td>2076.000000</td>\n",
       "      <td>0.000000</td>\n",
       "      <td>0.000000</td>\n",
       "      <td>7.000000</td>\n",
       "      <td>0.000000</td>\n",
       "      <td>0.000000</td>\n",
       "      <td>0.000000</td>\n",
       "      <td>0.000000</td>\n",
       "      <td>5.000000</td>\n",
       "      <td>...</td>\n",
       "      <td>0.000000</td>\n",
       "      <td>0.000000</td>\n",
       "      <td>0.000000</td>\n",
       "      <td>0.000000</td>\n",
       "      <td>0.000000</td>\n",
       "      <td>0.000000</td>\n",
       "      <td>0.000000</td>\n",
       "      <td>0.000000</td>\n",
       "      <td>0.000000</td>\n",
       "      <td>0.000000</td>\n",
       "    </tr>\n",
       "    <tr>\n",
       "      <th>25%</th>\n",
       "      <td>1960.000000</td>\n",
       "      <td>41801.400000</td>\n",
       "      <td>0.000000</td>\n",
       "      <td>0.000000</td>\n",
       "      <td>31.000000</td>\n",
       "      <td>1.000000</td>\n",
       "      <td>2.000000</td>\n",
       "      <td>0.000000</td>\n",
       "      <td>3.000000</td>\n",
       "      <td>27.000000</td>\n",
       "      <td>...</td>\n",
       "      <td>1.000000</td>\n",
       "      <td>8.000000</td>\n",
       "      <td>3.000000</td>\n",
       "      <td>0.000000</td>\n",
       "      <td>0.000000</td>\n",
       "      <td>0.000000</td>\n",
       "      <td>0.000000</td>\n",
       "      <td>0.000000</td>\n",
       "      <td>0.000000</td>\n",
       "      <td>0.000000</td>\n",
       "    </tr>\n",
       "    <tr>\n",
       "      <th>50%</th>\n",
       "      <td>1971.000000</td>\n",
       "      <td>61391.400000</td>\n",
       "      <td>0.000000</td>\n",
       "      <td>0.000000</td>\n",
       "      <td>56.000000</td>\n",
       "      <td>2.000000</td>\n",
       "      <td>3.000000</td>\n",
       "      <td>2.000000</td>\n",
       "      <td>5.000000</td>\n",
       "      <td>167.000000</td>\n",
       "      <td>...</td>\n",
       "      <td>8.000000</td>\n",
       "      <td>25.000000</td>\n",
       "      <td>6.000000</td>\n",
       "      <td>0.000000</td>\n",
       "      <td>0.000000</td>\n",
       "      <td>0.000000</td>\n",
       "      <td>0.000000</td>\n",
       "      <td>0.000000</td>\n",
       "      <td>0.000000</td>\n",
       "      <td>0.000000</td>\n",
       "    </tr>\n",
       "    <tr>\n",
       "      <th>75%</th>\n",
       "      <td>1979.000000</td>\n",
       "      <td>81055.200000</td>\n",
       "      <td>1.000000</td>\n",
       "      <td>1.000000</td>\n",
       "      <td>80.000000</td>\n",
       "      <td>3.000000</td>\n",
       "      <td>6.000000</td>\n",
       "      <td>4.000000</td>\n",
       "      <td>8.000000</td>\n",
       "      <td>499.500000</td>\n",
       "      <td>...</td>\n",
       "      <td>33.000000</td>\n",
       "      <td>56.000000</td>\n",
       "      <td>7.000000</td>\n",
       "      <td>0.000000</td>\n",
       "      <td>0.000000</td>\n",
       "      <td>0.000000</td>\n",
       "      <td>0.000000</td>\n",
       "      <td>0.000000</td>\n",
       "      <td>0.000000</td>\n",
       "      <td>0.000000</td>\n",
       "    </tr>\n",
       "    <tr>\n",
       "      <th>max</th>\n",
       "      <td>1997.000000</td>\n",
       "      <td>799999.200000</td>\n",
       "      <td>2.000000</td>\n",
       "      <td>2.000000</td>\n",
       "      <td>106.000000</td>\n",
       "      <td>15.000000</td>\n",
       "      <td>27.000000</td>\n",
       "      <td>28.000000</td>\n",
       "      <td>13.000000</td>\n",
       "      <td>1498.000000</td>\n",
       "      <td>...</td>\n",
       "      <td>263.000000</td>\n",
       "      <td>362.000000</td>\n",
       "      <td>20.000000</td>\n",
       "      <td>1.000000</td>\n",
       "      <td>1.000000</td>\n",
       "      <td>1.000000</td>\n",
       "      <td>1.000000</td>\n",
       "      <td>1.000000</td>\n",
       "      <td>1.000000</td>\n",
       "      <td>1.000000</td>\n",
       "    </tr>\n",
       "  </tbody>\n",
       "</table>\n",
       "<p>8 rows × 23 columns</p>\n",
       "</div>"
      ],
      "text/plain": [
       "       Year_of_Birth  Disposable_Income  No_of_Kids_in_home  \\\n",
       "count    1568.000000        1568.000000         1568.000000   \n",
       "mean     1970.073342       62381.186598            0.460459   \n",
       "std        11.920781       31924.924495            0.540361   \n",
       "min      1900.000000        2076.000000            0.000000   \n",
       "25%      1960.000000       41801.400000            0.000000   \n",
       "50%      1971.000000       61391.400000            0.000000   \n",
       "75%      1979.000000       81055.200000            1.000000   \n",
       "max      1997.000000      799999.200000            2.000000   \n",
       "\n",
       "       No_of_Teen_in_home      Recency  Discounted_Purchases  WebPurchases  \\\n",
       "count         1568.000000  1568.000000           1568.000000   1568.000000   \n",
       "mean             0.497449    55.408801              2.292730      4.001276   \n",
       "std              0.544151    28.788037              1.937544      2.773748   \n",
       "min              0.000000     7.000000              0.000000      0.000000   \n",
       "25%              0.000000    31.000000              1.000000      2.000000   \n",
       "50%              0.000000    56.000000              2.000000      3.000000   \n",
       "75%              1.000000    80.000000              3.000000      6.000000   \n",
       "max              2.000000   106.000000             15.000000     27.000000   \n",
       "\n",
       "       CatalogPurchases  StorePurchases  Amount_on_Wines  ...  \\\n",
       "count       1568.000000     1568.000000      1568.000000  ...   \n",
       "mean           2.665816        5.703444       303.190051  ...   \n",
       "std            3.043493        3.260553       340.141396  ...   \n",
       "min            0.000000        0.000000         5.000000  ...   \n",
       "25%            0.000000        3.000000        27.000000  ...   \n",
       "50%            2.000000        5.000000       167.000000  ...   \n",
       "75%            4.000000        8.000000       499.500000  ...   \n",
       "max           28.000000       13.000000      1498.000000  ...   \n",
       "\n",
       "       Amount_on_SweetProducts  Amount_on_GoldProds  WebVisitsMonth  \\\n",
       "count              1568.000000          1568.000000     1568.000000   \n",
       "mean                 26.800383            43.739158        5.326531   \n",
       "std                  40.857657            51.591557        2.468023   \n",
       "min                   0.000000             0.000000        0.000000   \n",
       "25%                   1.000000             8.000000        3.000000   \n",
       "50%                   8.000000            25.000000        6.000000   \n",
       "75%                  33.000000            56.000000        7.000000   \n",
       "max                 263.000000           362.000000       20.000000   \n",
       "\n",
       "       Cmp3Accepted  Cmp4Accepted  Cmp5Accepted  Cmp1Accepted  Cmp2Accepted  \\\n",
       "count   1568.000000   1568.000000   1568.000000   1568.000000   1568.000000   \n",
       "mean       0.072704      0.072704      0.080357      0.064413      0.012755   \n",
       "std        0.259733      0.259733      0.271932      0.245566      0.112252   \n",
       "min        0.000000      0.000000      0.000000      0.000000      0.000000   \n",
       "25%        0.000000      0.000000      0.000000      0.000000      0.000000   \n",
       "50%        0.000000      0.000000      0.000000      0.000000      0.000000   \n",
       "75%        0.000000      0.000000      0.000000      0.000000      0.000000   \n",
       "max        1.000000      1.000000      1.000000      1.000000      1.000000   \n",
       "\n",
       "       Any_Complain     Response  \n",
       "count   1568.000000  1568.000000  \n",
       "mean       0.008291     0.152423  \n",
       "std        0.090705     0.359546  \n",
       "min        0.000000     0.000000  \n",
       "25%        0.000000     0.000000  \n",
       "50%        0.000000     0.000000  \n",
       "75%        0.000000     0.000000  \n",
       "max        1.000000     1.000000  \n",
       "\n",
       "[8 rows x 23 columns]"
      ]
     },
     "execution_count": 12,
     "metadata": {},
     "output_type": "execute_result"
    }
   ],
   "source": [
    "train_df.describe()"
   ]
  },
  {
   "cell_type": "markdown",
   "id": "2cf679f6",
   "metadata": {},
   "source": [
    "## VISUALIZATION"
   ]
  },
  {
   "cell_type": "code",
   "execution_count": 13,
   "id": "8bb0c2a7",
   "metadata": {},
   "outputs": [
    {
     "data": {
      "text/plain": [
       "<seaborn.axisgrid.FacetGrid at 0x26203a75520>"
      ]
     },
     "execution_count": 13,
     "metadata": {},
     "output_type": "execute_result"
    },
    {
     "data": {
      "image/png": "[encoded data removed]",
      "text/plain": [
       "<Figure size 360x360 with 1 Axes>"
      ]
     },
     "metadata": {
      "needs_background": "light"
     },
     "output_type": "display_data"
    }
   ],
   "source": [
    "sns.displot(x=train_df['Year_of_Birth'],  data = train_df)"
   ]
  },
  {
   "cell_type": "code",
   "execution_count": 14,
   "id": "bc0ace71",
   "metadata": {},
   "outputs": [
    {
     "data": {
      "text/plain": [
       "<seaborn.axisgrid.FacetGrid at 0x26204af1ee0>"
      ]
     },
     "execution_count": 14,
     "metadata": {},
     "output_type": "execute_result"
    },
    {
     "data": {
      "image/png": "[encoded data removed]",
      "text/plain": [
       "<Figure size 360x360 with 1 Axes>"
      ]
     },
     "metadata": {
      "needs_background": "light"
     },
     "output_type": "display_data"
    }
   ],
   "source": [
    "sns.displot(x=train_df['Disposable_Income'],  data = train_df)"
   ]
  },
  {
   "cell_type": "code",
   "execution_count": 15,
   "id": "a837c124",
   "metadata": {},
   "outputs": [
    {
     "data": {
      "text/plain": [
       "<AxesSubplot:xlabel='Response', ylabel='count'>"
      ]
     },
     "execution_count": 15,
     "metadata": {},
     "output_type": "execute_result"
    },
    {
     "data": {
      "image/png": "[encoded data removed]",
      "text/plain": [
       "<Figure size 432x288 with 1 Axes>"
      ]
     },
     "metadata": {
      "needs_background": "light"
     },
     "output_type": "display_data"
    }
   ],
   "source": [
    "sns.countplot(x='Response', data=train_df)"
   ]
  },
  {
   "cell_type": "code",
   "execution_count": 16,
   "id": "4e92c151",
   "metadata": {},
   "outputs": [
    {
     "data": {
      "image/png": "[encoded data removed]",
      "text/plain": [
       "<Figure size 432x432 with 1 Axes>"
      ]
     },
     "metadata": {
      "needs_background": "light"
     },
     "output_type": "display_data"
    },
    {
     "data": {
      "image/png": "[encoded data removed]",
      "text/plain": [
       "<Figure size 432x432 with 1 Axes>"
      ]
     },
     "metadata": {
      "needs_background": "light"
     },
     "output_type": "display_data"
    },
    {
     "data": {
      "image/png": "[encoded data removed]",
      "text/plain": [
       "<Figure size 432x432 with 1 Axes>"
      ]
     },
     "metadata": {
      "needs_background": "light"
     },
     "output_type": "display_data"
    },
    {
     "data": {
      "image/png": "[encoded data removed]",
      "text/plain": [
       "<Figure size 432x432 with 1 Axes>"
      ]
     },
     "metadata": {
      "needs_background": "light"
     },
     "output_type": "display_data"
    },
    {
     "data": {
      "image/png": "[encoded data removed]",
      "text/plain": [
       "<Figure size 432x432 with 1 Axes>"
      ]
     },
     "metadata": {
      "needs_background": "light"
     },
     "output_type": "display_data"
    },
    {
     "data": {
      "image/png": "[encoded data removed]",
      "text/plain": [
       "<Figure size 432x432 with 1 Axes>"
      ]
     },
     "metadata": {
      "needs_background": "light"
     },
     "output_type": "display_data"
    },
    {
     "data": {
      "image/png": "[encoded data removed]",
      "text/plain": [
       "<Figure size 432x432 with 1 Axes>"
      ]
     },
     "metadata": {
      "needs_background": "light"
     },
     "output_type": "display_data"
    },
    {
     "data": {
      "image/png": "[encoded data removed]",
      "text/plain": [
       "<Figure size 432x432 with 1 Axes>"
      ]
     },
     "metadata": {
      "needs_background": "light"
     },
     "output_type": "display_data"
    },
    {
     "data": {
      "image/png": "[encoded data removed]",
      "text/plain": [
       "<Figure size 432x432 with 1 Axes>"
      ]
     },
     "metadata": {
      "needs_background": "light"
     },
     "output_type": "display_data"
    },
    {
     "data": {
      "image/png": "[encoded data removed]",
      "text/plain": [
       "<Figure size 432x432 with 1 Axes>"
      ]
     },
     "metadata": {
      "needs_background": "light"
     },
     "output_type": "display_data"
    },
    {
     "data": {
      "image/png": "[encoded data removed]",
      "text/plain": [
       "<Figure size 432x432 with 1 Axes>"
      ]
     },
     "metadata": {
      "needs_background": "light"
     },
     "output_type": "display_data"
    },
    {
     "data": {
      "image/png": "[encoded data removed]",
      "text/plain": [
       "<Figure size 432x432 with 1 Axes>"
      ]
     },
     "metadata": {
      "needs_background": "light"
     },
     "output_type": "display_data"
    },
    {
     "data": {
      "image/png": "[encoded data removed]",
      "text/plain": [
       "<Figure size 432x432 with 1 Axes>"
      ]
     },
     "metadata": {
      "needs_background": "light"
     },
     "output_type": "display_data"
    },
    {
     "data": {
      "image/png": "[encoded data removed]",
      "text/plain": [
       "<Figure size 432x432 with 1 Axes>"
      ]
     },
     "metadata": {
      "needs_background": "light"
     },
     "output_type": "display_data"
    }
   ],
   "source": [
    "def plot_count(data, cols, legend=None):\n",
    "    for col in cols:\n",
    "        if len(data[col].unique()) < 15:\n",
    "            fig = plt.figure(figsize=(6,6))\n",
    "            ax = fig.gca()\n",
    "            sns.countplot(x=col, hue=legend, data=data)\n",
    "            ax.set_title(col)\n",
    "            plt.show()\n",
    "\n",
    "plot_count(train_df, train_df.columns, 'Response')"
   ]
  },
  {
   "cell_type": "code",
   "execution_count": 17,
   "id": "00f62462",
   "metadata": {
    "scrolled": true
   },
   "outputs": [
    {
     "data": {
      "text/plain": [
       "<AxesSubplot:xlabel='Education_Level,Marital_Status'>"
      ]
     },
     "execution_count": 17,
     "metadata": {},
     "output_type": "execute_result"
    },
    {
     "data": {
      "image/png": "[encoded data removed]",
      "text/plain": [
       "<Figure size 432x288 with 1 Axes>"
      ]
     },
     "metadata": {
      "needs_background": "light"
     },
     "output_type": "display_data"
    }
   ],
   "source": [
    "train_df[['Education_Level','Marital_Status','Response']].groupby(['Education_Level','Marital_Status']).sum().plot.bar()"
   ]
  },
  {
   "cell_type": "code",
   "execution_count": 18,
   "id": "015944e0",
   "metadata": {},
   "outputs": [
    {
     "data": {
      "image/png": "[encoded data removed]",
      "text/plain": [
       "<Figure size 432x432 with 1 Axes>"
      ]
     },
     "metadata": {
      "needs_background": "light"
     },
     "output_type": "display_data"
    },
    {
     "data": {
      "image/png": "[encoded data removed]",
      "text/plain": [
       "<Figure size 432x432 with 1 Axes>"
      ]
     },
     "metadata": {
      "needs_background": "light"
     },
     "output_type": "display_data"
    },
    {
     "data": {
      "image/png": "[encoded data removed]",
      "text/plain": [
       "<Figure size 432x432 with 1 Axes>"
      ]
     },
     "metadata": {
      "needs_background": "light"
     },
     "output_type": "display_data"
    },
    {
     "data": {
      "image/png": "[encoded data removed]",
      "text/plain": [
       "<Figure size 432x432 with 1 Axes>"
      ]
     },
     "metadata": {
      "needs_background": "light"
     },
     "output_type": "display_data"
    },
    {
     "data": {
      "image/png": "[encoded data removed]",
      "text/plain": [
       "<Figure size 432x432 with 1 Axes>"
      ]
     },
     "metadata": {
      "needs_background": "light"
     },
     "output_type": "display_data"
    },
    {
     "data": {
      "image/png": "[encoded data removed]",
      "text/plain": [
       "<Figure size 432x432 with 1 Axes>"
      ]
     },
     "metadata": {
      "needs_background": "light"
     },
     "output_type": "display_data"
    },
    {
     "data": {
      "image/png": "[encoded data removed]",
      "text/plain": [
       "<Figure size 432x432 with 1 Axes>"
      ]
     },
     "metadata": {
      "needs_background": "light"
     },
     "output_type": "display_data"
    },
    {
     "data": {
      "image/png": "[encoded data removed]",
      "text/plain": [
       "<Figure size 432x432 with 1 Axes>"
      ]
     },
     "metadata": {
      "needs_background": "light"
     },
     "output_type": "display_data"
    },
    {
     "data": {
      "image/png": "[encoded data removed]",
      "text/plain": [
       "<Figure size 432x432 with 1 Axes>"
      ]
     },
     "metadata": {
      "needs_background": "light"
     },
     "output_type": "display_data"
    },
    {
     "data": {
      "image/png": "[encoded data removed]",
      "text/plain": [
       "<Figure size 432x432 with 1 Axes>"
      ]
     },
     "metadata": {
      "needs_background": "light"
     },
     "output_type": "display_data"
    },
    {
     "data": {
      "image/png": "[encoded data removed]",
      "text/plain": [
       "<Figure size 432x432 with 1 Axes>"
      ]
     },
     "metadata": {
      "needs_background": "light"
     },
     "output_type": "display_data"
    },
    {
     "data": {
      "image/png": "[encoded data removed]",
      "text/plain": [
       "<Figure size 432x432 with 1 Axes>"
      ]
     },
     "metadata": {
      "needs_background": "light"
     },
     "output_type": "display_data"
    },
    {
     "data": {
      "image/png": "[encoded data removed]",
      "text/plain": [
       "<Figure size 432x432 with 1 Axes>"
      ]
     },
     "metadata": {
      "needs_background": "light"
     },
     "output_type": "display_data"
    },
    {
     "data": {
      "image/png": "[encoded data removed]",
      "text/plain": [
       "<Figure size 432x432 with 1 Axes>"
      ]
     },
     "metadata": {
      "needs_background": "light"
     },
     "output_type": "display_data"
    },
    {
     "data": {
      "image/png": "[encoded data removed]",
      "text/plain": [
       "<Figure size 432x432 with 1 Axes>"
      ]
     },
     "metadata": {
      "needs_background": "light"
     },
     "output_type": "display_data"
    },
    {
     "data": {
      "image/png": "[encoded data removed]",
      "text/plain": [
       "<Figure size 432x432 with 1 Axes>"
      ]
     },
     "metadata": {
      "needs_background": "light"
     },
     "output_type": "display_data"
    },
    {
     "data": {
      "image/png": "[encoded data removed]",
      "text/plain": [
       "<Figure size 432x432 with 1 Axes>"
      ]
     },
     "metadata": {
      "needs_background": "light"
     },
     "output_type": "display_data"
    },
    {
     "data": {
      "image/png": "[encoded data removed]",
      "text/plain": [
       "<Figure size 432x432 with 1 Axes>"
      ]
     },
     "metadata": {
      "needs_background": "light"
     },
     "output_type": "display_data"
    },
    {
     "data": {
      "image/png": "[encoded data removed]",
      "text/plain": [
       "<Figure size 432x432 with 1 Axes>"
      ]
     },
     "metadata": {
      "needs_background": "light"
     },
     "output_type": "display_data"
    },
    {
     "data": {
      "image/png": "[encoded data removed]",
      "text/plain": [
       "<Figure size 432x432 with 1 Axes>"
      ]
     },
     "metadata": {
      "needs_background": "light"
     },
     "output_type": "display_data"
    },
    {
     "data": {
      "image/png": "[encoded data removed]",
      "text/plain": [
       "<Figure size 432x432 with 1 Axes>"
      ]
     },
     "metadata": {
      "needs_background": "light"
     },
     "output_type": "display_data"
    },
    {
     "data": {
      "image/png": "[encoded data removed]",
      "text/plain": [
       "<Figure size 432x432 with 1 Axes>"
      ]
     },
     "metadata": {
      "needs_background": "light"
     },
     "output_type": "display_data"
    },
    {
     "data": {
      "image/png": "[encoded data removed]",
      "text/plain": [
       "<Figure size 432x432 with 1 Axes>"
      ]
     },
     "metadata": {
      "needs_background": "light"
     },
     "output_type": "display_data"
    }
   ],
   "source": [
    "for col in train_df.describe().columns:\n",
    "    \n",
    "    fig = plt.figure(figsize=(6,6))\n",
    "    ax = fig.gca()\n",
    "    sns.boxplot(data=train_df[col])\n",
    "    ax.set_title(col)\n",
    "    plt.show()\n",
    "    "
   ]
  },
  {
   "cell_type": "code",
   "execution_count": 19,
   "id": "b707078f",
   "metadata": {},
   "outputs": [
    {
     "data": {
      "image/png": "[encoded data removed]",
      "text/plain": [
       "<Figure size 432x432 with 1 Axes>"
      ]
     },
     "metadata": {
      "needs_background": "light"
     },
     "output_type": "display_data"
    },
    {
     "data": {
      "image/png": "[encoded data removed]",
      "text/plain": [
       "<Figure size 432x432 with 1 Axes>"
      ]
     },
     "metadata": {
      "needs_background": "light"
     },
     "output_type": "display_data"
    },
    {
     "data": {
      "image/png": "[encoded data removed]",
      "text/plain": [
       "<Figure size 432x432 with 1 Axes>"
      ]
     },
     "metadata": {
      "needs_background": "light"
     },
     "output_type": "display_data"
    },
    {
     "data": {
      "image/png": "[encoded data removed]",
      "text/plain": [
       "<Figure size 432x432 with 1 Axes>"
      ]
     },
     "metadata": {
      "needs_background": "light"
     },
     "output_type": "display_data"
    },
    {
     "data": {
      "image/png": "[encoded data removed]",
      "text/plain": [
       "<Figure size 432x432 with 1 Axes>"
      ]
     },
     "metadata": {
      "needs_background": "light"
     },
     "output_type": "display_data"
    },
    {
     "data": {
      "image/png": "[encoded data removed]",
      "text/plain": [
       "<Figure size 432x432 with 1 Axes>"
      ]
     },
     "metadata": {
      "needs_background": "light"
     },
     "output_type": "display_data"
    },
    {
     "data": {
      "image/png": "[encoded data removed]",
      "text/plain": [
       "<Figure size 432x432 with 1 Axes>"
      ]
     },
     "metadata": {
      "needs_background": "light"
     },
     "output_type": "display_data"
    },
    {
     "data": {
      "image/png": "[encoded data removed]",
      "text/plain": [
       "<Figure size 432x432 with 1 Axes>"
      ]
     },
     "metadata": {
      "needs_background": "light"
     },
     "output_type": "display_data"
    },
    {
     "data": {
      "image/png": "[encoded data removed]",
      "text/plain": [
       "<Figure size 432x432 with 1 Axes>"
      ]
     },
     "metadata": {
      "needs_background": "light"
     },
     "output_type": "display_data"
    },
    {
     "data": {
      "image/png": "[encoded data removed]",
      "text/plain": [
       "<Figure size 432x432 with 1 Axes>"
      ]
     },
     "metadata": {
      "needs_background": "light"
     },
     "output_type": "display_data"
    },
    {
     "data": {
      "image/png": "[encoded data removed]",
      "text/plain": [
       "<Figure size 432x432 with 1 Axes>"
      ]
     },
     "metadata": {
      "needs_background": "light"
     },
     "output_type": "display_data"
    }
   ],
   "source": [
    "cols = ['Discounted_Purchases', 'WebPurchases', 'CatalogPurchases',\n",
    "       'StorePurchases', 'Amount_on_Wines', 'Amount_on_Fruits',\n",
    "       'Amount_on_MeatProducts', 'Amount_on_FishProducts',\n",
    "       'Amount_on_SweetProducts', 'Amount_on_GoldProds', 'WebVisitsMonth']\n",
    "\n",
    "for col in cols:\n",
    "    fig = plt.figure(figsize=(6,6))\n",
    "    ax = fig.gca()\n",
    "    sns.histplot(train_df[col])\n",
    "    ax.set_title(col)\n",
    "    plt.show()"
   ]
  },
  {
   "cell_type": "code",
   "execution_count": 20,
   "id": "92d79f88",
   "metadata": {},
   "outputs": [
    {
     "data": {
      "text/html": [
       "<div>\n",
       "<style scoped>\n",
       "    .dataframe tbody tr th:only-of-type {\n",
       "        vertical-align: middle;\n",
       "    }\n",
       "\n",
       "    .dataframe tbody tr th {\n",
       "        vertical-align: top;\n",
       "    }\n",
       "\n",
       "    .dataframe thead th {\n",
       "        text-align: right;\n",
       "    }\n",
       "</style>\n",
       "<table border=\"1\" class=\"dataframe\">\n",
       "  <thead>\n",
       "    <tr style=\"text-align: right;\">\n",
       "      <th></th>\n",
       "      <th>Year_of_Birth</th>\n",
       "      <th>Education_Level</th>\n",
       "      <th>Marital_Status</th>\n",
       "      <th>Disposable_Income</th>\n",
       "      <th>No_of_Kids_in_home</th>\n",
       "      <th>No_of_Teen_in_home</th>\n",
       "      <th>Date_Customer</th>\n",
       "      <th>Recency</th>\n",
       "      <th>Discounted_Purchases</th>\n",
       "      <th>WebPurchases</th>\n",
       "      <th>...</th>\n",
       "      <th>Amount_on_SweetProducts</th>\n",
       "      <th>Amount_on_GoldProds</th>\n",
       "      <th>WebVisitsMonth</th>\n",
       "      <th>Cmp3Accepted</th>\n",
       "      <th>Cmp4Accepted</th>\n",
       "      <th>Cmp5Accepted</th>\n",
       "      <th>Cmp1Accepted</th>\n",
       "      <th>Cmp2Accepted</th>\n",
       "      <th>Any_Complain</th>\n",
       "      <th>Response</th>\n",
       "    </tr>\n",
       "  </thead>\n",
       "  <tbody>\n",
       "    <tr>\n",
       "      <th>0</th>\n",
       "      <td>1955</td>\n",
       "      <td>Graduation</td>\n",
       "      <td>Divorced</td>\n",
       "      <td>77504.4</td>\n",
       "      <td>1</td>\n",
       "      <td>1</td>\n",
       "      <td>2014-06-22</td>\n",
       "      <td>56</td>\n",
       "      <td>2</td>\n",
       "      <td>1</td>\n",
       "      <td>...</td>\n",
       "      <td>6</td>\n",
       "      <td>20</td>\n",
       "      <td>3</td>\n",
       "      <td>0</td>\n",
       "      <td>0</td>\n",
       "      <td>0</td>\n",
       "      <td>0</td>\n",
       "      <td>0</td>\n",
       "      <td>0</td>\n",
       "      <td>0</td>\n",
       "    </tr>\n",
       "    <tr>\n",
       "      <th>1</th>\n",
       "      <td>1958</td>\n",
       "      <td>Graduation</td>\n",
       "      <td>Together</td>\n",
       "      <td>56784.0</td>\n",
       "      <td>0</td>\n",
       "      <td>1</td>\n",
       "      <td>2013-01-08</td>\n",
       "      <td>17</td>\n",
       "      <td>6</td>\n",
       "      <td>5</td>\n",
       "      <td>...</td>\n",
       "      <td>15</td>\n",
       "      <td>19</td>\n",
       "      <td>6</td>\n",
       "      <td>0</td>\n",
       "      <td>0</td>\n",
       "      <td>0</td>\n",
       "      <td>0</td>\n",
       "      <td>0</td>\n",
       "      <td>0</td>\n",
       "      <td>0</td>\n",
       "    </tr>\n",
       "    <tr>\n",
       "      <th>2</th>\n",
       "      <td>1962</td>\n",
       "      <td>Graduation</td>\n",
       "      <td>Single</td>\n",
       "      <td>103714.8</td>\n",
       "      <td>0</td>\n",
       "      <td>0</td>\n",
       "      <td>2013-11-21</td>\n",
       "      <td>17</td>\n",
       "      <td>0</td>\n",
       "      <td>7</td>\n",
       "      <td>...</td>\n",
       "      <td>18</td>\n",
       "      <td>37</td>\n",
       "      <td>2</td>\n",
       "      <td>0</td>\n",
       "      <td>0</td>\n",
       "      <td>0</td>\n",
       "      <td>1</td>\n",
       "      <td>0</td>\n",
       "      <td>0</td>\n",
       "      <td>1</td>\n",
       "    </tr>\n",
       "    <tr>\n",
       "      <th>3</th>\n",
       "      <td>1979</td>\n",
       "      <td>2n Cycle</td>\n",
       "      <td>Single</td>\n",
       "      <td>46311.6</td>\n",
       "      <td>1</td>\n",
       "      <td>0</td>\n",
       "      <td>2013-09-13</td>\n",
       "      <td>49</td>\n",
       "      <td>3</td>\n",
       "      <td>4</td>\n",
       "      <td>...</td>\n",
       "      <td>24</td>\n",
       "      <td>24</td>\n",
       "      <td>8</td>\n",
       "      <td>0</td>\n",
       "      <td>0</td>\n",
       "      <td>0</td>\n",
       "      <td>0</td>\n",
       "      <td>0</td>\n",
       "      <td>0</td>\n",
       "      <td>0</td>\n",
       "    </tr>\n",
       "    <tr>\n",
       "      <th>4</th>\n",
       "      <td>1959</td>\n",
       "      <td>Graduation</td>\n",
       "      <td>Married</td>\n",
       "      <td>87486.0</td>\n",
       "      <td>0</td>\n",
       "      <td>0</td>\n",
       "      <td>2014-01-21</td>\n",
       "      <td>59</td>\n",
       "      <td>1</td>\n",
       "      <td>3</td>\n",
       "      <td>...</td>\n",
       "      <td>165</td>\n",
       "      <td>203</td>\n",
       "      <td>1</td>\n",
       "      <td>0</td>\n",
       "      <td>0</td>\n",
       "      <td>0</td>\n",
       "      <td>1</td>\n",
       "      <td>0</td>\n",
       "      <td>0</td>\n",
       "      <td>0</td>\n",
       "    </tr>\n",
       "    <tr>\n",
       "      <th>...</th>\n",
       "      <td>...</td>\n",
       "      <td>...</td>\n",
       "      <td>...</td>\n",
       "      <td>...</td>\n",
       "      <td>...</td>\n",
       "      <td>...</td>\n",
       "      <td>...</td>\n",
       "      <td>...</td>\n",
       "      <td>...</td>\n",
       "      <td>...</td>\n",
       "      <td>...</td>\n",
       "      <td>...</td>\n",
       "      <td>...</td>\n",
       "      <td>...</td>\n",
       "      <td>...</td>\n",
       "      <td>...</td>\n",
       "      <td>...</td>\n",
       "      <td>...</td>\n",
       "      <td>...</td>\n",
       "      <td>...</td>\n",
       "      <td>...</td>\n",
       "    </tr>\n",
       "    <tr>\n",
       "      <th>1563</th>\n",
       "      <td>1970</td>\n",
       "      <td>Graduation</td>\n",
       "      <td>Married</td>\n",
       "      <td>52893.6</td>\n",
       "      <td>1</td>\n",
       "      <td>1</td>\n",
       "      <td>2014-06-19</td>\n",
       "      <td>24</td>\n",
       "      <td>2</td>\n",
       "      <td>2</td>\n",
       "      <td>...</td>\n",
       "      <td>0</td>\n",
       "      <td>4</td>\n",
       "      <td>5</td>\n",
       "      <td>0</td>\n",
       "      <td>0</td>\n",
       "      <td>0</td>\n",
       "      <td>0</td>\n",
       "      <td>0</td>\n",
       "      <td>0</td>\n",
       "      <td>0</td>\n",
       "    </tr>\n",
       "    <tr>\n",
       "      <th>1564</th>\n",
       "      <td>1980</td>\n",
       "      <td>Graduation</td>\n",
       "      <td>Single</td>\n",
       "      <td>74190.0</td>\n",
       "      <td>0</td>\n",
       "      <td>1</td>\n",
       "      <td>2013-07-08</td>\n",
       "      <td>63</td>\n",
       "      <td>1</td>\n",
       "      <td>4</td>\n",
       "      <td>...</td>\n",
       "      <td>30</td>\n",
       "      <td>27</td>\n",
       "      <td>4</td>\n",
       "      <td>0</td>\n",
       "      <td>0</td>\n",
       "      <td>0</td>\n",
       "      <td>0</td>\n",
       "      <td>0</td>\n",
       "      <td>0</td>\n",
       "      <td>0</td>\n",
       "    </tr>\n",
       "    <tr>\n",
       "      <th>1565</th>\n",
       "      <td>1952</td>\n",
       "      <td>Master</td>\n",
       "      <td>Married</td>\n",
       "      <td>80857.2</td>\n",
       "      <td>0</td>\n",
       "      <td>1</td>\n",
       "      <td>2013-01-15</td>\n",
       "      <td>74</td>\n",
       "      <td>4</td>\n",
       "      <td>2</td>\n",
       "      <td>...</td>\n",
       "      <td>0</td>\n",
       "      <td>70</td>\n",
       "      <td>7</td>\n",
       "      <td>0</td>\n",
       "      <td>1</td>\n",
       "      <td>0</td>\n",
       "      <td>0</td>\n",
       "      <td>0</td>\n",
       "      <td>0</td>\n",
       "      <td>0</td>\n",
       "    </tr>\n",
       "    <tr>\n",
       "      <th>1566</th>\n",
       "      <td>1964</td>\n",
       "      <td>PhD</td>\n",
       "      <td>Single</td>\n",
       "      <td>58701.6</td>\n",
       "      <td>1</td>\n",
       "      <td>1</td>\n",
       "      <td>2014-12-04</td>\n",
       "      <td>28</td>\n",
       "      <td>2</td>\n",
       "      <td>1</td>\n",
       "      <td>...</td>\n",
       "      <td>0</td>\n",
       "      <td>1</td>\n",
       "      <td>4</td>\n",
       "      <td>0</td>\n",
       "      <td>0</td>\n",
       "      <td>0</td>\n",
       "      <td>0</td>\n",
       "      <td>0</td>\n",
       "      <td>0</td>\n",
       "      <td>0</td>\n",
       "    </tr>\n",
       "    <tr>\n",
       "      <th>1567</th>\n",
       "      <td>1970</td>\n",
       "      <td>Graduation</td>\n",
       "      <td>Together</td>\n",
       "      <td>27873.6</td>\n",
       "      <td>1</td>\n",
       "      <td>0</td>\n",
       "      <td>2014-01-26</td>\n",
       "      <td>78</td>\n",
       "      <td>2</td>\n",
       "      <td>2</td>\n",
       "      <td>...</td>\n",
       "      <td>1</td>\n",
       "      <td>0</td>\n",
       "      <td>8</td>\n",
       "      <td>0</td>\n",
       "      <td>0</td>\n",
       "      <td>0</td>\n",
       "      <td>0</td>\n",
       "      <td>0</td>\n",
       "      <td>0</td>\n",
       "      <td>0</td>\n",
       "    </tr>\n",
       "  </tbody>\n",
       "</table>\n",
       "<p>1568 rows × 26 columns</p>\n",
       "</div>"
      ],
      "text/plain": [
       "      Year_of_Birth Education_Level Marital_Status  Disposable_Income  \\\n",
       "0              1955      Graduation       Divorced            77504.4   \n",
       "1              1958      Graduation       Together            56784.0   \n",
       "2              1962      Graduation         Single           103714.8   \n",
       "3              1979        2n Cycle         Single            46311.6   \n",
       "4              1959      Graduation        Married            87486.0   \n",
       "...             ...             ...            ...                ...   \n",
       "1563           1970      Graduation        Married            52893.6   \n",
       "1564           1980      Graduation         Single            74190.0   \n",
       "1565           1952          Master        Married            80857.2   \n",
       "1566           1964             PhD         Single            58701.6   \n",
       "1567           1970      Graduation       Together            27873.6   \n",
       "\n",
       "      No_of_Kids_in_home  No_of_Teen_in_home Date_Customer  Recency  \\\n",
       "0                      1                   1    2014-06-22       56   \n",
       "1                      0                   1    2013-01-08       17   \n",
       "2                      0                   0    2013-11-21       17   \n",
       "3                      1                   0    2013-09-13       49   \n",
       "4                      0                   0    2014-01-21       59   \n",
       "...                  ...                 ...           ...      ...   \n",
       "1563                   1                   1    2014-06-19       24   \n",
       "1564                   0                   1    2013-07-08       63   \n",
       "1565                   0                   1    2013-01-15       74   \n",
       "1566                   1                   1    2014-12-04       28   \n",
       "1567                   1                   0    2014-01-26       78   \n",
       "\n",
       "      Discounted_Purchases  WebPurchases  ...  Amount_on_SweetProducts  \\\n",
       "0                        2             1  ...                        6   \n",
       "1                        6             5  ...                       15   \n",
       "2                        0             7  ...                       18   \n",
       "3                        3             4  ...                       24   \n",
       "4                        1             3  ...                      165   \n",
       "...                    ...           ...  ...                      ...   \n",
       "1563                     2             2  ...                        0   \n",
       "1564                     1             4  ...                       30   \n",
       "1565                     4             2  ...                        0   \n",
       "1566                     2             1  ...                        0   \n",
       "1567                     2             2  ...                        1   \n",
       "\n",
       "      Amount_on_GoldProds  WebVisitsMonth  Cmp3Accepted  Cmp4Accepted  \\\n",
       "0                      20               3             0             0   \n",
       "1                      19               6             0             0   \n",
       "2                      37               2             0             0   \n",
       "3                      24               8             0             0   \n",
       "4                     203               1             0             0   \n",
       "...                   ...             ...           ...           ...   \n",
       "1563                    4               5             0             0   \n",
       "1564                   27               4             0             0   \n",
       "1565                   70               7             0             1   \n",
       "1566                    1               4             0             0   \n",
       "1567                    0               8             0             0   \n",
       "\n",
       "      Cmp5Accepted  Cmp1Accepted  Cmp2Accepted  Any_Complain  Response  \n",
       "0                0             0             0             0         0  \n",
       "1                0             0             0             0         0  \n",
       "2                0             1             0             0         1  \n",
       "3                0             0             0             0         0  \n",
       "4                0             1             0             0         0  \n",
       "...            ...           ...           ...           ...       ...  \n",
       "1563             0             0             0             0         0  \n",
       "1564             0             0             0             0         0  \n",
       "1565             0             0             0             0         0  \n",
       "1566             0             0             0             0         0  \n",
       "1567             0             0             0             0         0  \n",
       "\n",
       "[1568 rows x 26 columns]"
      ]
     },
     "execution_count": 20,
     "metadata": {},
     "output_type": "execute_result"
    }
   ],
   "source": [
    "train_df"
   ]
  },
  {
   "cell_type": "markdown",
   "id": "5554a24b",
   "metadata": {},
   "source": [
    "## FEATURE ENGINEERING"
   ]
  },
  {
   "cell_type": "code",
   "execution_count": 21,
   "id": "f2e34c2a",
   "metadata": {
    "scrolled": true
   },
   "outputs": [
    {
     "data": {
      "text/plain": [
       "Index(['Year_of_Birth', 'Education_Level', 'Marital_Status',\n",
       "       'Disposable_Income', 'No_of_Kids_in_home', 'No_of_Teen_in_home',\n",
       "       'Date_Customer', 'Recency', 'Discounted_Purchases', 'WebPurchases',\n",
       "       'CatalogPurchases', 'StorePurchases', 'Amount_on_Wines',\n",
       "       'Amount_on_Fruits', 'Amount_on_MeatProducts', 'Amount_on_FishProducts',\n",
       "       'Amount_on_SweetProducts', 'Amount_on_GoldProds', 'WebVisitsMonth',\n",
       "       'Cmp3Accepted', 'Cmp4Accepted', 'Cmp5Accepted', 'Cmp1Accepted',\n",
       "       'Cmp2Accepted', 'Any_Complain', 'Response'],\n",
       "      dtype='object')"
      ]
     },
     "execution_count": 21,
     "metadata": {},
     "output_type": "execute_result"
    }
   ],
   "source": [
    "train_df.columns"
   ]
  },
  {
   "cell_type": "code",
   "execution_count": 22,
   "id": "1933d9b6",
   "metadata": {},
   "outputs": [],
   "source": [
    "train_df['Amount']=train_df['Amount_on_Wines']+train_df['Amount_on_Fruits']+train_df['Amount_on_MeatProducts']+train_df[ 'Amount_on_FishProducts']+train_df['Amount_on_SweetProducts']+train_df['Amount_on_GoldProds']"
   ]
  },
  {
   "cell_type": "code",
   "execution_count": 23,
   "id": "d5c2452c",
   "metadata": {},
   "outputs": [],
   "source": [
    "test_df['Amount']=test_df['Amount_on_Wines']+test_df['Amount_on_Fruits']+test_df['Amount_on_MeatProducts']+test_df[ 'Amount_on_FishProducts']+test_df['Amount_on_SweetProducts']+test_df['Amount_on_GoldProds']"
   ]
  },
  {
   "cell_type": "code",
   "execution_count": 24,
   "id": "53470f3d",
   "metadata": {},
   "outputs": [],
   "source": [
    "train_df.drop(columns=['Amount_on_Wines',\n",
    "       'Amount_on_Fruits', 'Amount_on_MeatProducts', 'Amount_on_FishProducts',\n",
    "       'Amount_on_SweetProducts', 'Amount_on_GoldProds'], inplace=True)\n",
    "test_df.drop(columns=['Amount_on_Wines',\n",
    "       'Amount_on_Fruits', 'Amount_on_MeatProducts', 'Amount_on_FishProducts',\n",
    "       'Amount_on_SweetProducts', 'Amount_on_GoldProds'], inplace=True)\n"
   ]
  },
  {
   "cell_type": "code",
   "execution_count": 25,
   "id": "735754bd",
   "metadata": {
    "scrolled": true
   },
   "outputs": [
    {
     "data": {
      "text/html": [
       "<div>\n",
       "<style scoped>\n",
       "    .dataframe tbody tr th:only-of-type {\n",
       "        vertical-align: middle;\n",
       "    }\n",
       "\n",
       "    .dataframe tbody tr th {\n",
       "        vertical-align: top;\n",
       "    }\n",
       "\n",
       "    .dataframe thead th {\n",
       "        text-align: right;\n",
       "    }\n",
       "</style>\n",
       "<table border=\"1\" class=\"dataframe\">\n",
       "  <thead>\n",
       "    <tr style=\"text-align: right;\">\n",
       "      <th></th>\n",
       "      <th>Year_of_Birth</th>\n",
       "      <th>Education_Level</th>\n",
       "      <th>Marital_Status</th>\n",
       "      <th>Disposable_Income</th>\n",
       "      <th>No_of_Kids_in_home</th>\n",
       "      <th>No_of_Teen_in_home</th>\n",
       "      <th>Date_Customer</th>\n",
       "      <th>Recency</th>\n",
       "      <th>Discounted_Purchases</th>\n",
       "      <th>WebPurchases</th>\n",
       "      <th>...</th>\n",
       "      <th>WebVisitsMonth</th>\n",
       "      <th>Cmp3Accepted</th>\n",
       "      <th>Cmp4Accepted</th>\n",
       "      <th>Cmp5Accepted</th>\n",
       "      <th>Cmp1Accepted</th>\n",
       "      <th>Cmp2Accepted</th>\n",
       "      <th>Any_Complain</th>\n",
       "      <th>Response</th>\n",
       "      <th>Amount</th>\n",
       "      <th>Accepted_offers</th>\n",
       "    </tr>\n",
       "  </thead>\n",
       "  <tbody>\n",
       "    <tr>\n",
       "      <th>0</th>\n",
       "      <td>1955</td>\n",
       "      <td>Graduation</td>\n",
       "      <td>Divorced</td>\n",
       "      <td>77504.4</td>\n",
       "      <td>1</td>\n",
       "      <td>1</td>\n",
       "      <td>2014-06-22</td>\n",
       "      <td>56</td>\n",
       "      <td>2</td>\n",
       "      <td>1</td>\n",
       "      <td>...</td>\n",
       "      <td>3</td>\n",
       "      <td>0</td>\n",
       "      <td>0</td>\n",
       "      <td>0</td>\n",
       "      <td>0</td>\n",
       "      <td>0</td>\n",
       "      <td>0</td>\n",
       "      <td>0</td>\n",
       "      <td>116</td>\n",
       "      <td>0</td>\n",
       "    </tr>\n",
       "    <tr>\n",
       "      <th>1</th>\n",
       "      <td>1958</td>\n",
       "      <td>Graduation</td>\n",
       "      <td>Together</td>\n",
       "      <td>56784.0</td>\n",
       "      <td>0</td>\n",
       "      <td>1</td>\n",
       "      <td>2013-01-08</td>\n",
       "      <td>17</td>\n",
       "      <td>6</td>\n",
       "      <td>5</td>\n",
       "      <td>...</td>\n",
       "      <td>6</td>\n",
       "      <td>0</td>\n",
       "      <td>0</td>\n",
       "      <td>0</td>\n",
       "      <td>0</td>\n",
       "      <td>0</td>\n",
       "      <td>0</td>\n",
       "      <td>0</td>\n",
       "      <td>422</td>\n",
       "      <td>0</td>\n",
       "    </tr>\n",
       "    <tr>\n",
       "      <th>2</th>\n",
       "      <td>1962</td>\n",
       "      <td>Graduation</td>\n",
       "      <td>Single</td>\n",
       "      <td>103714.8</td>\n",
       "      <td>0</td>\n",
       "      <td>0</td>\n",
       "      <td>2013-11-21</td>\n",
       "      <td>17</td>\n",
       "      <td>0</td>\n",
       "      <td>7</td>\n",
       "      <td>...</td>\n",
       "      <td>2</td>\n",
       "      <td>0</td>\n",
       "      <td>0</td>\n",
       "      <td>0</td>\n",
       "      <td>1</td>\n",
       "      <td>0</td>\n",
       "      <td>0</td>\n",
       "      <td>1</td>\n",
       "      <td>1457</td>\n",
       "      <td>1</td>\n",
       "    </tr>\n",
       "    <tr>\n",
       "      <th>3</th>\n",
       "      <td>1979</td>\n",
       "      <td>2n Cycle</td>\n",
       "      <td>Single</td>\n",
       "      <td>46311.6</td>\n",
       "      <td>1</td>\n",
       "      <td>0</td>\n",
       "      <td>2013-09-13</td>\n",
       "      <td>49</td>\n",
       "      <td>3</td>\n",
       "      <td>4</td>\n",
       "      <td>...</td>\n",
       "      <td>8</td>\n",
       "      <td>0</td>\n",
       "      <td>0</td>\n",
       "      <td>0</td>\n",
       "      <td>0</td>\n",
       "      <td>0</td>\n",
       "      <td>0</td>\n",
       "      <td>0</td>\n",
       "      <td>185</td>\n",
       "      <td>0</td>\n",
       "    </tr>\n",
       "    <tr>\n",
       "      <th>4</th>\n",
       "      <td>1959</td>\n",
       "      <td>Graduation</td>\n",
       "      <td>Married</td>\n",
       "      <td>87486.0</td>\n",
       "      <td>0</td>\n",
       "      <td>0</td>\n",
       "      <td>2014-01-21</td>\n",
       "      <td>59</td>\n",
       "      <td>1</td>\n",
       "      <td>3</td>\n",
       "      <td>...</td>\n",
       "      <td>1</td>\n",
       "      <td>0</td>\n",
       "      <td>0</td>\n",
       "      <td>0</td>\n",
       "      <td>1</td>\n",
       "      <td>0</td>\n",
       "      <td>0</td>\n",
       "      <td>0</td>\n",
       "      <td>1523</td>\n",
       "      <td>1</td>\n",
       "    </tr>\n",
       "    <tr>\n",
       "      <th>...</th>\n",
       "      <td>...</td>\n",
       "      <td>...</td>\n",
       "      <td>...</td>\n",
       "      <td>...</td>\n",
       "      <td>...</td>\n",
       "      <td>...</td>\n",
       "      <td>...</td>\n",
       "      <td>...</td>\n",
       "      <td>...</td>\n",
       "      <td>...</td>\n",
       "      <td>...</td>\n",
       "      <td>...</td>\n",
       "      <td>...</td>\n",
       "      <td>...</td>\n",
       "      <td>...</td>\n",
       "      <td>...</td>\n",
       "      <td>...</td>\n",
       "      <td>...</td>\n",
       "      <td>...</td>\n",
       "      <td>...</td>\n",
       "      <td>...</td>\n",
       "    </tr>\n",
       "    <tr>\n",
       "      <th>1563</th>\n",
       "      <td>1970</td>\n",
       "      <td>Graduation</td>\n",
       "      <td>Married</td>\n",
       "      <td>52893.6</td>\n",
       "      <td>1</td>\n",
       "      <td>1</td>\n",
       "      <td>2014-06-19</td>\n",
       "      <td>24</td>\n",
       "      <td>2</td>\n",
       "      <td>2</td>\n",
       "      <td>...</td>\n",
       "      <td>5</td>\n",
       "      <td>0</td>\n",
       "      <td>0</td>\n",
       "      <td>0</td>\n",
       "      <td>0</td>\n",
       "      <td>0</td>\n",
       "      <td>0</td>\n",
       "      <td>0</td>\n",
       "      <td>49</td>\n",
       "      <td>0</td>\n",
       "    </tr>\n",
       "    <tr>\n",
       "      <th>1564</th>\n",
       "      <td>1980</td>\n",
       "      <td>Graduation</td>\n",
       "      <td>Single</td>\n",
       "      <td>74190.0</td>\n",
       "      <td>0</td>\n",
       "      <td>1</td>\n",
       "      <td>2013-07-08</td>\n",
       "      <td>63</td>\n",
       "      <td>1</td>\n",
       "      <td>4</td>\n",
       "      <td>...</td>\n",
       "      <td>4</td>\n",
       "      <td>0</td>\n",
       "      <td>0</td>\n",
       "      <td>0</td>\n",
       "      <td>0</td>\n",
       "      <td>0</td>\n",
       "      <td>0</td>\n",
       "      <td>0</td>\n",
       "      <td>432</td>\n",
       "      <td>0</td>\n",
       "    </tr>\n",
       "    <tr>\n",
       "      <th>1565</th>\n",
       "      <td>1952</td>\n",
       "      <td>Master</td>\n",
       "      <td>Married</td>\n",
       "      <td>80857.2</td>\n",
       "      <td>0</td>\n",
       "      <td>1</td>\n",
       "      <td>2013-01-15</td>\n",
       "      <td>74</td>\n",
       "      <td>4</td>\n",
       "      <td>2</td>\n",
       "      <td>...</td>\n",
       "      <td>7</td>\n",
       "      <td>0</td>\n",
       "      <td>1</td>\n",
       "      <td>0</td>\n",
       "      <td>0</td>\n",
       "      <td>0</td>\n",
       "      <td>0</td>\n",
       "      <td>0</td>\n",
       "      <td>965</td>\n",
       "      <td>1</td>\n",
       "    </tr>\n",
       "    <tr>\n",
       "      <th>1566</th>\n",
       "      <td>1964</td>\n",
       "      <td>PhD</td>\n",
       "      <td>Single</td>\n",
       "      <td>58701.6</td>\n",
       "      <td>1</td>\n",
       "      <td>1</td>\n",
       "      <td>2014-12-04</td>\n",
       "      <td>28</td>\n",
       "      <td>2</td>\n",
       "      <td>1</td>\n",
       "      <td>...</td>\n",
       "      <td>4</td>\n",
       "      <td>0</td>\n",
       "      <td>0</td>\n",
       "      <td>0</td>\n",
       "      <td>0</td>\n",
       "      <td>0</td>\n",
       "      <td>0</td>\n",
       "      <td>0</td>\n",
       "      <td>70</td>\n",
       "      <td>0</td>\n",
       "    </tr>\n",
       "    <tr>\n",
       "      <th>1567</th>\n",
       "      <td>1970</td>\n",
       "      <td>Graduation</td>\n",
       "      <td>Together</td>\n",
       "      <td>27873.6</td>\n",
       "      <td>1</td>\n",
       "      <td>0</td>\n",
       "      <td>2014-01-26</td>\n",
       "      <td>78</td>\n",
       "      <td>2</td>\n",
       "      <td>2</td>\n",
       "      <td>...</td>\n",
       "      <td>8</td>\n",
       "      <td>0</td>\n",
       "      <td>0</td>\n",
       "      <td>0</td>\n",
       "      <td>0</td>\n",
       "      <td>0</td>\n",
       "      <td>0</td>\n",
       "      <td>0</td>\n",
       "      <td>48</td>\n",
       "      <td>0</td>\n",
       "    </tr>\n",
       "  </tbody>\n",
       "</table>\n",
       "<p>1568 rows × 22 columns</p>\n",
       "</div>"
      ],
      "text/plain": [
       "      Year_of_Birth Education_Level Marital_Status  Disposable_Income  \\\n",
       "0              1955      Graduation       Divorced            77504.4   \n",
       "1              1958      Graduation       Together            56784.0   \n",
       "2              1962      Graduation         Single           103714.8   \n",
       "3              1979        2n Cycle         Single            46311.6   \n",
       "4              1959      Graduation        Married            87486.0   \n",
       "...             ...             ...            ...                ...   \n",
       "1563           1970      Graduation        Married            52893.6   \n",
       "1564           1980      Graduation         Single            74190.0   \n",
       "1565           1952          Master        Married            80857.2   \n",
       "1566           1964             PhD         Single            58701.6   \n",
       "1567           1970      Graduation       Together            27873.6   \n",
       "\n",
       "      No_of_Kids_in_home  No_of_Teen_in_home Date_Customer  Recency  \\\n",
       "0                      1                   1    2014-06-22       56   \n",
       "1                      0                   1    2013-01-08       17   \n",
       "2                      0                   0    2013-11-21       17   \n",
       "3                      1                   0    2013-09-13       49   \n",
       "4                      0                   0    2014-01-21       59   \n",
       "...                  ...                 ...           ...      ...   \n",
       "1563                   1                   1    2014-06-19       24   \n",
       "1564                   0                   1    2013-07-08       63   \n",
       "1565                   0                   1    2013-01-15       74   \n",
       "1566                   1                   1    2014-12-04       28   \n",
       "1567                   1                   0    2014-01-26       78   \n",
       "\n",
       "      Discounted_Purchases  WebPurchases  ...  WebVisitsMonth  Cmp3Accepted  \\\n",
       "0                        2             1  ...               3             0   \n",
       "1                        6             5  ...               6             0   \n",
       "2                        0             7  ...               2             0   \n",
       "3                        3             4  ...               8             0   \n",
       "4                        1             3  ...               1             0   \n",
       "...                    ...           ...  ...             ...           ...   \n",
       "1563                     2             2  ...               5             0   \n",
       "1564                     1             4  ...               4             0   \n",
       "1565                     4             2  ...               7             0   \n",
       "1566                     2             1  ...               4             0   \n",
       "1567                     2             2  ...               8             0   \n",
       "\n",
       "      Cmp4Accepted  Cmp5Accepted  Cmp1Accepted  Cmp2Accepted  Any_Complain  \\\n",
       "0                0             0             0             0             0   \n",
       "1                0             0             0             0             0   \n",
       "2                0             0             1             0             0   \n",
       "3                0             0             0             0             0   \n",
       "4                0             0             1             0             0   \n",
       "...            ...           ...           ...           ...           ...   \n",
       "1563             0             0             0             0             0   \n",
       "1564             0             0             0             0             0   \n",
       "1565             1             0             0             0             0   \n",
       "1566             0             0             0             0             0   \n",
       "1567             0             0             0             0             0   \n",
       "\n",
       "      Response  Amount  Accepted_offers  \n",
       "0            0     116                0  \n",
       "1            0     422                0  \n",
       "2            1    1457                1  \n",
       "3            0     185                0  \n",
       "4            0    1523                1  \n",
       "...        ...     ...              ...  \n",
       "1563         0      49                0  \n",
       "1564         0     432                0  \n",
       "1565         0     965                1  \n",
       "1566         0      70                0  \n",
       "1567         0      48                0  \n",
       "\n",
       "[1568 rows x 22 columns]"
      ]
     },
     "execution_count": 25,
     "metadata": {},
     "output_type": "execute_result"
    }
   ],
   "source": [
    "train_df['Accepted_offers']=0\n",
    "test_df['Accepted_offers']=0\n",
    "\n",
    "accepted_cols = [  'Cmp3Accepted', 'Cmp4Accepted', 'Cmp5Accepted', 'Cmp1Accepted',\n",
    "       'Cmp2Accepted']\n",
    "for col in accepted_cols:\n",
    "    train_df['Accepted_offers'] += train_df[col]\n",
    "    test_df['Accepted_offers'] += test_df[col]\n",
    "\n",
    "\n",
    "train_df"
   ]
  },
  {
   "cell_type": "code",
   "execution_count": 26,
   "id": "2a0fcad6",
   "metadata": {},
   "outputs": [],
   "source": [
    "train_df.drop(columns=accepted_cols, inplace=True)\n",
    "test_df.drop(columns=accepted_cols, inplace=True)"
   ]
  },
  {
   "cell_type": "code",
   "execution_count": 27,
   "id": "3a177ae3",
   "metadata": {
    "scrolled": true
   },
   "outputs": [
    {
     "data": {
      "text/html": [
       "<div>\n",
       "<style scoped>\n",
       "    .dataframe tbody tr th:only-of-type {\n",
       "        vertical-align: middle;\n",
       "    }\n",
       "\n",
       "    .dataframe tbody tr th {\n",
       "        vertical-align: top;\n",
       "    }\n",
       "\n",
       "    .dataframe thead th {\n",
       "        text-align: right;\n",
       "    }\n",
       "</style>\n",
       "<table border=\"1\" class=\"dataframe\">\n",
       "  <thead>\n",
       "    <tr style=\"text-align: right;\">\n",
       "      <th></th>\n",
       "      <th>Education_Level</th>\n",
       "      <th>Marital_Status</th>\n",
       "      <th>Disposable_Income</th>\n",
       "      <th>No_of_Kids_in_home</th>\n",
       "      <th>No_of_Teen_in_home</th>\n",
       "      <th>Date_Customer</th>\n",
       "      <th>Recency</th>\n",
       "      <th>Discounted_Purchases</th>\n",
       "      <th>WebPurchases</th>\n",
       "      <th>CatalogPurchases</th>\n",
       "      <th>StorePurchases</th>\n",
       "      <th>WebVisitsMonth</th>\n",
       "      <th>Any_Complain</th>\n",
       "      <th>Response</th>\n",
       "      <th>Amount</th>\n",
       "      <th>Accepted_offers</th>\n",
       "      <th>Age</th>\n",
       "    </tr>\n",
       "  </thead>\n",
       "  <tbody>\n",
       "    <tr>\n",
       "      <th>0</th>\n",
       "      <td>Graduation</td>\n",
       "      <td>Divorced</td>\n",
       "      <td>77504.4</td>\n",
       "      <td>1</td>\n",
       "      <td>1</td>\n",
       "      <td>2014-06-22</td>\n",
       "      <td>56</td>\n",
       "      <td>2</td>\n",
       "      <td>1</td>\n",
       "      <td>1</td>\n",
       "      <td>4</td>\n",
       "      <td>3</td>\n",
       "      <td>0</td>\n",
       "      <td>0</td>\n",
       "      <td>116</td>\n",
       "      <td>0</td>\n",
       "      <td>64</td>\n",
       "    </tr>\n",
       "    <tr>\n",
       "      <th>1</th>\n",
       "      <td>Graduation</td>\n",
       "      <td>Together</td>\n",
       "      <td>56784.0</td>\n",
       "      <td>0</td>\n",
       "      <td>1</td>\n",
       "      <td>2013-01-08</td>\n",
       "      <td>17</td>\n",
       "      <td>6</td>\n",
       "      <td>5</td>\n",
       "      <td>1</td>\n",
       "      <td>8</td>\n",
       "      <td>6</td>\n",
       "      <td>0</td>\n",
       "      <td>0</td>\n",
       "      <td>422</td>\n",
       "      <td>0</td>\n",
       "      <td>61</td>\n",
       "    </tr>\n",
       "    <tr>\n",
       "      <th>2</th>\n",
       "      <td>Graduation</td>\n",
       "      <td>Single</td>\n",
       "      <td>103714.8</td>\n",
       "      <td>0</td>\n",
       "      <td>0</td>\n",
       "      <td>2013-11-21</td>\n",
       "      <td>17</td>\n",
       "      <td>0</td>\n",
       "      <td>7</td>\n",
       "      <td>4</td>\n",
       "      <td>7</td>\n",
       "      <td>2</td>\n",
       "      <td>0</td>\n",
       "      <td>1</td>\n",
       "      <td>1457</td>\n",
       "      <td>1</td>\n",
       "      <td>57</td>\n",
       "    </tr>\n",
       "    <tr>\n",
       "      <th>3</th>\n",
       "      <td>2n Cycle</td>\n",
       "      <td>Single</td>\n",
       "      <td>46311.6</td>\n",
       "      <td>1</td>\n",
       "      <td>0</td>\n",
       "      <td>2013-09-13</td>\n",
       "      <td>49</td>\n",
       "      <td>3</td>\n",
       "      <td>4</td>\n",
       "      <td>1</td>\n",
       "      <td>3</td>\n",
       "      <td>8</td>\n",
       "      <td>0</td>\n",
       "      <td>0</td>\n",
       "      <td>185</td>\n",
       "      <td>0</td>\n",
       "      <td>40</td>\n",
       "    </tr>\n",
       "    <tr>\n",
       "      <th>4</th>\n",
       "      <td>Graduation</td>\n",
       "      <td>Married</td>\n",
       "      <td>87486.0</td>\n",
       "      <td>0</td>\n",
       "      <td>0</td>\n",
       "      <td>2014-01-21</td>\n",
       "      <td>59</td>\n",
       "      <td>1</td>\n",
       "      <td>3</td>\n",
       "      <td>7</td>\n",
       "      <td>9</td>\n",
       "      <td>1</td>\n",
       "      <td>0</td>\n",
       "      <td>0</td>\n",
       "      <td>1523</td>\n",
       "      <td>1</td>\n",
       "      <td>60</td>\n",
       "    </tr>\n",
       "  </tbody>\n",
       "</table>\n",
       "</div>"
      ],
      "text/plain": [
       "  Education_Level Marital_Status  Disposable_Income  No_of_Kids_in_home  \\\n",
       "0      Graduation       Divorced            77504.4                   1   \n",
       "1      Graduation       Together            56784.0                   0   \n",
       "2      Graduation         Single           103714.8                   0   \n",
       "3        2n Cycle         Single            46311.6                   1   \n",
       "4      Graduation        Married            87486.0                   0   \n",
       "\n",
       "   No_of_Teen_in_home Date_Customer  Recency  Discounted_Purchases  \\\n",
       "0                   1    2014-06-22       56                     2   \n",
       "1                   1    2013-01-08       17                     6   \n",
       "2                   0    2013-11-21       17                     0   \n",
       "3                   0    2013-09-13       49                     3   \n",
       "4                   0    2014-01-21       59                     1   \n",
       "\n",
       "   WebPurchases  CatalogPurchases  StorePurchases  WebVisitsMonth  \\\n",
       "0             1                 1               4               3   \n",
       "1             5                 1               8               6   \n",
       "2             7                 4               7               2   \n",
       "3             4                 1               3               8   \n",
       "4             3                 7               9               1   \n",
       "\n",
       "   Any_Complain  Response  Amount  Accepted_offers  Age  \n",
       "0             0         0     116                0   64  \n",
       "1             0         0     422                0   61  \n",
       "2             0         1    1457                1   57  \n",
       "3             0         0     185                0   40  \n",
       "4             0         0    1523                1   60  "
      ]
     },
     "execution_count": 27,
     "metadata": {},
     "output_type": "execute_result"
    }
   ],
   "source": [
    "for data in dataset:\n",
    "    data.loc[:,'Age'] = 2019 - data.loc[:,'Year_of_Birth']\n",
    "    data.drop('Year_of_Birth', axis=1, inplace=True)\n",
    "    \n",
    "\n",
    "train_df.head()"
   ]
  },
  {
   "cell_type": "code",
   "execution_count": 28,
   "id": "04492446",
   "metadata": {},
   "outputs": [],
   "source": [
    " train_df=train_df[train_df['Age'] < 90]"
   ]
  },
  {
   "cell_type": "code",
   "execution_count": 29,
   "id": "dd8edca5",
   "metadata": {
    "scrolled": true
   },
   "outputs": [],
   "source": [
    "# label = ['young', 'mature', 'old']\n",
    "# bins =[20,40,60,80]\n",
    "# train_df['Age'] = pd.cut(train_df['Age'], bins=bins, labels=label, include_lowest=True)\n",
    "# test_df['Age'] = pd.cut(test_df['Age'], bins=bins, labels=label, include_lowest=True)\n",
    "\n",
    "# train_df['Age'].replace({'young':0, 'mature':1, 'old':2}, inplace=True)  \n",
    "# test_df['Age'].replace({'young':0, 'mature':1, 'old':2}, inplace=True)  \n"
   ]
  },
  {
   "cell_type": "code",
   "execution_count": 30,
   "id": "9a860ca3",
   "metadata": {},
   "outputs": [],
   "source": [
    "train_df=train_df[train_df['Disposable_Income'] < 170000]"
   ]
  },
  {
   "cell_type": "code",
   "execution_count": 31,
   "id": "6462778b",
   "metadata": {},
   "outputs": [],
   "source": [
    "train_df['Date_Customer'] = train_df['Date_Customer'].dt.to_period('D') - pd.to_datetime('2021-10-01').to_period('D')\n",
    "test_df['Date_Customer'] = test_df['Date_Customer'].dt.to_period('D') - pd.to_datetime('2021-10-01').to_period('D')"
   ]
  },
  {
   "cell_type": "code",
   "execution_count": 32,
   "id": "4912f83a",
   "metadata": {},
   "outputs": [],
   "source": [
    "from operator import attrgetter\n",
    " \n",
    "train_df['Date_Customer'] = 0-train_df['Date_Customer'].apply(attrgetter('n'))\n",
    "test_df['Date_Customer'] = 0-test_df['Date_Customer'].apply(attrgetter('n'))\n",
    "\n"
   ]
  },
  {
   "cell_type": "code",
   "execution_count": 33,
   "id": "e61600fb",
   "metadata": {
    "scrolled": true
   },
   "outputs": [
    {
     "data": {
      "text/html": [
       "<div>\n",
       "<style scoped>\n",
       "    .dataframe tbody tr th:only-of-type {\n",
       "        vertical-align: middle;\n",
       "    }\n",
       "\n",
       "    .dataframe tbody tr th {\n",
       "        vertical-align: top;\n",
       "    }\n",
       "\n",
       "    .dataframe thead th {\n",
       "        text-align: right;\n",
       "    }\n",
       "</style>\n",
       "<table border=\"1\" class=\"dataframe\">\n",
       "  <thead>\n",
       "    <tr style=\"text-align: right;\">\n",
       "      <th></th>\n",
       "      <th>Education_Level</th>\n",
       "      <th>Marital_Status</th>\n",
       "      <th>Disposable_Income</th>\n",
       "      <th>No_of_Kids_in_home</th>\n",
       "      <th>No_of_Teen_in_home</th>\n",
       "      <th>Date_Customer</th>\n",
       "      <th>Recency</th>\n",
       "      <th>Discounted_Purchases</th>\n",
       "      <th>WebPurchases</th>\n",
       "      <th>CatalogPurchases</th>\n",
       "      <th>StorePurchases</th>\n",
       "      <th>WebVisitsMonth</th>\n",
       "      <th>Any_Complain</th>\n",
       "      <th>Response</th>\n",
       "      <th>Amount</th>\n",
       "      <th>Accepted_offers</th>\n",
       "      <th>Age</th>\n",
       "    </tr>\n",
       "  </thead>\n",
       "  <tbody>\n",
       "    <tr>\n",
       "      <th>0</th>\n",
       "      <td>Graduation</td>\n",
       "      <td>Divorced</td>\n",
       "      <td>77504.4</td>\n",
       "      <td>1</td>\n",
       "      <td>1</td>\n",
       "      <td>2658</td>\n",
       "      <td>56</td>\n",
       "      <td>2</td>\n",
       "      <td>1</td>\n",
       "      <td>1</td>\n",
       "      <td>4</td>\n",
       "      <td>3</td>\n",
       "      <td>0</td>\n",
       "      <td>0</td>\n",
       "      <td>116</td>\n",
       "      <td>0</td>\n",
       "      <td>64</td>\n",
       "    </tr>\n",
       "    <tr>\n",
       "      <th>1</th>\n",
       "      <td>Graduation</td>\n",
       "      <td>Together</td>\n",
       "      <td>56784.0</td>\n",
       "      <td>0</td>\n",
       "      <td>1</td>\n",
       "      <td>3188</td>\n",
       "      <td>17</td>\n",
       "      <td>6</td>\n",
       "      <td>5</td>\n",
       "      <td>1</td>\n",
       "      <td>8</td>\n",
       "      <td>6</td>\n",
       "      <td>0</td>\n",
       "      <td>0</td>\n",
       "      <td>422</td>\n",
       "      <td>0</td>\n",
       "      <td>61</td>\n",
       "    </tr>\n",
       "    <tr>\n",
       "      <th>2</th>\n",
       "      <td>Graduation</td>\n",
       "      <td>Single</td>\n",
       "      <td>103714.8</td>\n",
       "      <td>0</td>\n",
       "      <td>0</td>\n",
       "      <td>2871</td>\n",
       "      <td>17</td>\n",
       "      <td>0</td>\n",
       "      <td>7</td>\n",
       "      <td>4</td>\n",
       "      <td>7</td>\n",
       "      <td>2</td>\n",
       "      <td>0</td>\n",
       "      <td>1</td>\n",
       "      <td>1457</td>\n",
       "      <td>1</td>\n",
       "      <td>57</td>\n",
       "    </tr>\n",
       "    <tr>\n",
       "      <th>3</th>\n",
       "      <td>2n Cycle</td>\n",
       "      <td>Single</td>\n",
       "      <td>46311.6</td>\n",
       "      <td>1</td>\n",
       "      <td>0</td>\n",
       "      <td>2940</td>\n",
       "      <td>49</td>\n",
       "      <td>3</td>\n",
       "      <td>4</td>\n",
       "      <td>1</td>\n",
       "      <td>3</td>\n",
       "      <td>8</td>\n",
       "      <td>0</td>\n",
       "      <td>0</td>\n",
       "      <td>185</td>\n",
       "      <td>0</td>\n",
       "      <td>40</td>\n",
       "    </tr>\n",
       "    <tr>\n",
       "      <th>4</th>\n",
       "      <td>Graduation</td>\n",
       "      <td>Married</td>\n",
       "      <td>87486.0</td>\n",
       "      <td>0</td>\n",
       "      <td>0</td>\n",
       "      <td>2810</td>\n",
       "      <td>59</td>\n",
       "      <td>1</td>\n",
       "      <td>3</td>\n",
       "      <td>7</td>\n",
       "      <td>9</td>\n",
       "      <td>1</td>\n",
       "      <td>0</td>\n",
       "      <td>0</td>\n",
       "      <td>1523</td>\n",
       "      <td>1</td>\n",
       "      <td>60</td>\n",
       "    </tr>\n",
       "    <tr>\n",
       "      <th>...</th>\n",
       "      <td>...</td>\n",
       "      <td>...</td>\n",
       "      <td>...</td>\n",
       "      <td>...</td>\n",
       "      <td>...</td>\n",
       "      <td>...</td>\n",
       "      <td>...</td>\n",
       "      <td>...</td>\n",
       "      <td>...</td>\n",
       "      <td>...</td>\n",
       "      <td>...</td>\n",
       "      <td>...</td>\n",
       "      <td>...</td>\n",
       "      <td>...</td>\n",
       "      <td>...</td>\n",
       "      <td>...</td>\n",
       "      <td>...</td>\n",
       "    </tr>\n",
       "    <tr>\n",
       "      <th>1563</th>\n",
       "      <td>Graduation</td>\n",
       "      <td>Married</td>\n",
       "      <td>52893.6</td>\n",
       "      <td>1</td>\n",
       "      <td>1</td>\n",
       "      <td>2661</td>\n",
       "      <td>24</td>\n",
       "      <td>2</td>\n",
       "      <td>2</td>\n",
       "      <td>0</td>\n",
       "      <td>3</td>\n",
       "      <td>5</td>\n",
       "      <td>0</td>\n",
       "      <td>0</td>\n",
       "      <td>49</td>\n",
       "      <td>0</td>\n",
       "      <td>49</td>\n",
       "    </tr>\n",
       "    <tr>\n",
       "      <th>1564</th>\n",
       "      <td>Graduation</td>\n",
       "      <td>Single</td>\n",
       "      <td>74190.0</td>\n",
       "      <td>0</td>\n",
       "      <td>1</td>\n",
       "      <td>3007</td>\n",
       "      <td>63</td>\n",
       "      <td>1</td>\n",
       "      <td>4</td>\n",
       "      <td>2</td>\n",
       "      <td>8</td>\n",
       "      <td>4</td>\n",
       "      <td>0</td>\n",
       "      <td>0</td>\n",
       "      <td>432</td>\n",
       "      <td>0</td>\n",
       "      <td>39</td>\n",
       "    </tr>\n",
       "    <tr>\n",
       "      <th>1565</th>\n",
       "      <td>Master</td>\n",
       "      <td>Married</td>\n",
       "      <td>80857.2</td>\n",
       "      <td>0</td>\n",
       "      <td>1</td>\n",
       "      <td>3181</td>\n",
       "      <td>74</td>\n",
       "      <td>4</td>\n",
       "      <td>2</td>\n",
       "      <td>2</td>\n",
       "      <td>9</td>\n",
       "      <td>7</td>\n",
       "      <td>0</td>\n",
       "      <td>0</td>\n",
       "      <td>965</td>\n",
       "      <td>1</td>\n",
       "      <td>67</td>\n",
       "    </tr>\n",
       "    <tr>\n",
       "      <th>1566</th>\n",
       "      <td>PhD</td>\n",
       "      <td>Single</td>\n",
       "      <td>58701.6</td>\n",
       "      <td>1</td>\n",
       "      <td>1</td>\n",
       "      <td>2493</td>\n",
       "      <td>28</td>\n",
       "      <td>2</td>\n",
       "      <td>1</td>\n",
       "      <td>0</td>\n",
       "      <td>4</td>\n",
       "      <td>4</td>\n",
       "      <td>0</td>\n",
       "      <td>0</td>\n",
       "      <td>70</td>\n",
       "      <td>0</td>\n",
       "      <td>55</td>\n",
       "    </tr>\n",
       "    <tr>\n",
       "      <th>1567</th>\n",
       "      <td>Graduation</td>\n",
       "      <td>Together</td>\n",
       "      <td>27873.6</td>\n",
       "      <td>1</td>\n",
       "      <td>0</td>\n",
       "      <td>2805</td>\n",
       "      <td>78</td>\n",
       "      <td>2</td>\n",
       "      <td>2</td>\n",
       "      <td>0</td>\n",
       "      <td>3</td>\n",
       "      <td>8</td>\n",
       "      <td>0</td>\n",
       "      <td>0</td>\n",
       "      <td>48</td>\n",
       "      <td>0</td>\n",
       "      <td>49</td>\n",
       "    </tr>\n",
       "  </tbody>\n",
       "</table>\n",
       "<p>1560 rows × 17 columns</p>\n",
       "</div>"
      ],
      "text/plain": [
       "     Education_Level Marital_Status  Disposable_Income  No_of_Kids_in_home  \\\n",
       "0         Graduation       Divorced            77504.4                   1   \n",
       "1         Graduation       Together            56784.0                   0   \n",
       "2         Graduation         Single           103714.8                   0   \n",
       "3           2n Cycle         Single            46311.6                   1   \n",
       "4         Graduation        Married            87486.0                   0   \n",
       "...              ...            ...                ...                 ...   \n",
       "1563      Graduation        Married            52893.6                   1   \n",
       "1564      Graduation         Single            74190.0                   0   \n",
       "1565          Master        Married            80857.2                   0   \n",
       "1566             PhD         Single            58701.6                   1   \n",
       "1567      Graduation       Together            27873.6                   1   \n",
       "\n",
       "      No_of_Teen_in_home  Date_Customer  Recency  Discounted_Purchases  \\\n",
       "0                      1           2658       56                     2   \n",
       "1                      1           3188       17                     6   \n",
       "2                      0           2871       17                     0   \n",
       "3                      0           2940       49                     3   \n",
       "4                      0           2810       59                     1   \n",
       "...                  ...            ...      ...                   ...   \n",
       "1563                   1           2661       24                     2   \n",
       "1564                   1           3007       63                     1   \n",
       "1565                   1           3181       74                     4   \n",
       "1566                   1           2493       28                     2   \n",
       "1567                   0           2805       78                     2   \n",
       "\n",
       "      WebPurchases  CatalogPurchases  StorePurchases  WebVisitsMonth  \\\n",
       "0                1                 1               4               3   \n",
       "1                5                 1               8               6   \n",
       "2                7                 4               7               2   \n",
       "3                4                 1               3               8   \n",
       "4                3                 7               9               1   \n",
       "...            ...               ...             ...             ...   \n",
       "1563             2                 0               3               5   \n",
       "1564             4                 2               8               4   \n",
       "1565             2                 2               9               7   \n",
       "1566             1                 0               4               4   \n",
       "1567             2                 0               3               8   \n",
       "\n",
       "      Any_Complain  Response  Amount  Accepted_offers  Age  \n",
       "0                0         0     116                0   64  \n",
       "1                0         0     422                0   61  \n",
       "2                0         1    1457                1   57  \n",
       "3                0         0     185                0   40  \n",
       "4                0         0    1523                1   60  \n",
       "...            ...       ...     ...              ...  ...  \n",
       "1563             0         0      49                0   49  \n",
       "1564             0         0     432                0   39  \n",
       "1565             0         0     965                1   67  \n",
       "1566             0         0      70                0   55  \n",
       "1567             0         0      48                0   49  \n",
       "\n",
       "[1560 rows x 17 columns]"
      ]
     },
     "execution_count": 33,
     "metadata": {},
     "output_type": "execute_result"
    }
   ],
   "source": [
    "train_df"
   ]
  },
  {
   "cell_type": "code",
   "execution_count": 34,
   "id": "61103d9b",
   "metadata": {
    "scrolled": true
   },
   "outputs": [],
   "source": [
    "train_df['chilldren'] = train_df['No_of_Teen_in_home'] + train_df['No_of_Kids_in_home']\n",
    "test_df['chilldren'] = test_df['No_of_Teen_in_home'] + test_df['No_of_Kids_in_home']"
   ]
  },
  {
   "cell_type": "code",
   "execution_count": 35,
   "id": "080b5b38",
   "metadata": {},
   "outputs": [],
   "source": [
    "train_df.replace(to_replace={'2n Cycle': 'Master','Basic':'Graduation'}, inplace=True)\n",
    "test_df.replace(to_replace={'2n Cycle': 'Master','Basic':'Graduation'}, inplace=True)\n",
    "\n",
    "train_df.replace(to_replace={'Divorced':'Alone', 'Married':'Together', 'Single':'Alone', 'Widow':'Alone',  'Absurd':'Together', 'YOLO':'Alone'}, inplace=True)\n",
    "test_df.replace(to_replace={'Divorced':'Alone', 'Married':'Together', 'Single':'Alone', 'Widow':'Alone',  'Absurd':'Together', 'YOLO':'Alone'}, inplace=True)\n"
   ]
  },
  {
   "cell_type": "code",
   "execution_count": 36,
   "id": "52938e12",
   "metadata": {
    "scrolled": true
   },
   "outputs": [],
   "source": [
    "train_df.drop(columns=['No_of_Kids_in_home','No_of_Teen_in_home'], inplace=True)\n",
    "test_df.drop(columns=['No_of_Kids_in_home','No_of_Teen_in_home'], inplace=True)\n",
    "\n",
    "train_df['Education_Level'].replace({'Graduation':0, 'Master':1, 'PhD':2}, inplace=True)  \n",
    "test_df['Education_Level'].replace({'Graduation':0, 'Master':1, 'PhD':2}, inplace=True)"
   ]
  },
  {
   "cell_type": "code",
   "execution_count": 37,
   "id": "66bf81b7",
   "metadata": {
    "scrolled": true
   },
   "outputs": [
    {
     "data": {
      "text/html": [
       "<div>\n",
       "<style scoped>\n",
       "    .dataframe tbody tr th:only-of-type {\n",
       "        vertical-align: middle;\n",
       "    }\n",
       "\n",
       "    .dataframe tbody tr th {\n",
       "        vertical-align: top;\n",
       "    }\n",
       "\n",
       "    .dataframe thead th {\n",
       "        text-align: right;\n",
       "    }\n",
       "</style>\n",
       "<table border=\"1\" class=\"dataframe\">\n",
       "  <thead>\n",
       "    <tr style=\"text-align: right;\">\n",
       "      <th></th>\n",
       "      <th>Education_Level</th>\n",
       "      <th>Marital_Status</th>\n",
       "      <th>Disposable_Income</th>\n",
       "      <th>Date_Customer</th>\n",
       "      <th>Recency</th>\n",
       "      <th>Discounted_Purchases</th>\n",
       "      <th>WebPurchases</th>\n",
       "      <th>CatalogPurchases</th>\n",
       "      <th>StorePurchases</th>\n",
       "      <th>WebVisitsMonth</th>\n",
       "      <th>Any_Complain</th>\n",
       "      <th>Response</th>\n",
       "      <th>Amount</th>\n",
       "      <th>Accepted_offers</th>\n",
       "      <th>Age</th>\n",
       "      <th>chilldren</th>\n",
       "    </tr>\n",
       "  </thead>\n",
       "  <tbody>\n",
       "    <tr>\n",
       "      <th>0</th>\n",
       "      <td>0</td>\n",
       "      <td>Alone</td>\n",
       "      <td>77504.4</td>\n",
       "      <td>2658</td>\n",
       "      <td>56</td>\n",
       "      <td>2</td>\n",
       "      <td>1</td>\n",
       "      <td>1</td>\n",
       "      <td>4</td>\n",
       "      <td>3</td>\n",
       "      <td>0</td>\n",
       "      <td>0</td>\n",
       "      <td>116</td>\n",
       "      <td>0</td>\n",
       "      <td>64</td>\n",
       "      <td>2</td>\n",
       "    </tr>\n",
       "    <tr>\n",
       "      <th>1</th>\n",
       "      <td>0</td>\n",
       "      <td>Together</td>\n",
       "      <td>56784.0</td>\n",
       "      <td>3188</td>\n",
       "      <td>17</td>\n",
       "      <td>6</td>\n",
       "      <td>5</td>\n",
       "      <td>1</td>\n",
       "      <td>8</td>\n",
       "      <td>6</td>\n",
       "      <td>0</td>\n",
       "      <td>0</td>\n",
       "      <td>422</td>\n",
       "      <td>0</td>\n",
       "      <td>61</td>\n",
       "      <td>1</td>\n",
       "    </tr>\n",
       "    <tr>\n",
       "      <th>2</th>\n",
       "      <td>0</td>\n",
       "      <td>Alone</td>\n",
       "      <td>103714.8</td>\n",
       "      <td>2871</td>\n",
       "      <td>17</td>\n",
       "      <td>0</td>\n",
       "      <td>7</td>\n",
       "      <td>4</td>\n",
       "      <td>7</td>\n",
       "      <td>2</td>\n",
       "      <td>0</td>\n",
       "      <td>1</td>\n",
       "      <td>1457</td>\n",
       "      <td>1</td>\n",
       "      <td>57</td>\n",
       "      <td>0</td>\n",
       "    </tr>\n",
       "    <tr>\n",
       "      <th>3</th>\n",
       "      <td>1</td>\n",
       "      <td>Alone</td>\n",
       "      <td>46311.6</td>\n",
       "      <td>2940</td>\n",
       "      <td>49</td>\n",
       "      <td>3</td>\n",
       "      <td>4</td>\n",
       "      <td>1</td>\n",
       "      <td>3</td>\n",
       "      <td>8</td>\n",
       "      <td>0</td>\n",
       "      <td>0</td>\n",
       "      <td>185</td>\n",
       "      <td>0</td>\n",
       "      <td>40</td>\n",
       "      <td>1</td>\n",
       "    </tr>\n",
       "    <tr>\n",
       "      <th>4</th>\n",
       "      <td>0</td>\n",
       "      <td>Together</td>\n",
       "      <td>87486.0</td>\n",
       "      <td>2810</td>\n",
       "      <td>59</td>\n",
       "      <td>1</td>\n",
       "      <td>3</td>\n",
       "      <td>7</td>\n",
       "      <td>9</td>\n",
       "      <td>1</td>\n",
       "      <td>0</td>\n",
       "      <td>0</td>\n",
       "      <td>1523</td>\n",
       "      <td>1</td>\n",
       "      <td>60</td>\n",
       "      <td>0</td>\n",
       "    </tr>\n",
       "    <tr>\n",
       "      <th>...</th>\n",
       "      <td>...</td>\n",
       "      <td>...</td>\n",
       "      <td>...</td>\n",
       "      <td>...</td>\n",
       "      <td>...</td>\n",
       "      <td>...</td>\n",
       "      <td>...</td>\n",
       "      <td>...</td>\n",
       "      <td>...</td>\n",
       "      <td>...</td>\n",
       "      <td>...</td>\n",
       "      <td>...</td>\n",
       "      <td>...</td>\n",
       "      <td>...</td>\n",
       "      <td>...</td>\n",
       "      <td>...</td>\n",
       "    </tr>\n",
       "    <tr>\n",
       "      <th>1563</th>\n",
       "      <td>0</td>\n",
       "      <td>Together</td>\n",
       "      <td>52893.6</td>\n",
       "      <td>2661</td>\n",
       "      <td>24</td>\n",
       "      <td>2</td>\n",
       "      <td>2</td>\n",
       "      <td>0</td>\n",
       "      <td>3</td>\n",
       "      <td>5</td>\n",
       "      <td>0</td>\n",
       "      <td>0</td>\n",
       "      <td>49</td>\n",
       "      <td>0</td>\n",
       "      <td>49</td>\n",
       "      <td>2</td>\n",
       "    </tr>\n",
       "    <tr>\n",
       "      <th>1564</th>\n",
       "      <td>0</td>\n",
       "      <td>Alone</td>\n",
       "      <td>74190.0</td>\n",
       "      <td>3007</td>\n",
       "      <td>63</td>\n",
       "      <td>1</td>\n",
       "      <td>4</td>\n",
       "      <td>2</td>\n",
       "      <td>8</td>\n",
       "      <td>4</td>\n",
       "      <td>0</td>\n",
       "      <td>0</td>\n",
       "      <td>432</td>\n",
       "      <td>0</td>\n",
       "      <td>39</td>\n",
       "      <td>1</td>\n",
       "    </tr>\n",
       "    <tr>\n",
       "      <th>1565</th>\n",
       "      <td>1</td>\n",
       "      <td>Together</td>\n",
       "      <td>80857.2</td>\n",
       "      <td>3181</td>\n",
       "      <td>74</td>\n",
       "      <td>4</td>\n",
       "      <td>2</td>\n",
       "      <td>2</td>\n",
       "      <td>9</td>\n",
       "      <td>7</td>\n",
       "      <td>0</td>\n",
       "      <td>0</td>\n",
       "      <td>965</td>\n",
       "      <td>1</td>\n",
       "      <td>67</td>\n",
       "      <td>1</td>\n",
       "    </tr>\n",
       "    <tr>\n",
       "      <th>1566</th>\n",
       "      <td>2</td>\n",
       "      <td>Alone</td>\n",
       "      <td>58701.6</td>\n",
       "      <td>2493</td>\n",
       "      <td>28</td>\n",
       "      <td>2</td>\n",
       "      <td>1</td>\n",
       "      <td>0</td>\n",
       "      <td>4</td>\n",
       "      <td>4</td>\n",
       "      <td>0</td>\n",
       "      <td>0</td>\n",
       "      <td>70</td>\n",
       "      <td>0</td>\n",
       "      <td>55</td>\n",
       "      <td>2</td>\n",
       "    </tr>\n",
       "    <tr>\n",
       "      <th>1567</th>\n",
       "      <td>0</td>\n",
       "      <td>Together</td>\n",
       "      <td>27873.6</td>\n",
       "      <td>2805</td>\n",
       "      <td>78</td>\n",
       "      <td>2</td>\n",
       "      <td>2</td>\n",
       "      <td>0</td>\n",
       "      <td>3</td>\n",
       "      <td>8</td>\n",
       "      <td>0</td>\n",
       "      <td>0</td>\n",
       "      <td>48</td>\n",
       "      <td>0</td>\n",
       "      <td>49</td>\n",
       "      <td>1</td>\n",
       "    </tr>\n",
       "  </tbody>\n",
       "</table>\n",
       "<p>1560 rows × 16 columns</p>\n",
       "</div>"
      ],
      "text/plain": [
       "      Education_Level Marital_Status  Disposable_Income  Date_Customer  \\\n",
       "0                   0          Alone            77504.4           2658   \n",
       "1                   0       Together            56784.0           3188   \n",
       "2                   0          Alone           103714.8           2871   \n",
       "3                   1          Alone            46311.6           2940   \n",
       "4                   0       Together            87486.0           2810   \n",
       "...               ...            ...                ...            ...   \n",
       "1563                0       Together            52893.6           2661   \n",
       "1564                0          Alone            74190.0           3007   \n",
       "1565                1       Together            80857.2           3181   \n",
       "1566                2          Alone            58701.6           2493   \n",
       "1567                0       Together            27873.6           2805   \n",
       "\n",
       "      Recency  Discounted_Purchases  WebPurchases  CatalogPurchases  \\\n",
       "0          56                     2             1                 1   \n",
       "1          17                     6             5                 1   \n",
       "2          17                     0             7                 4   \n",
       "3          49                     3             4                 1   \n",
       "4          59                     1             3                 7   \n",
       "...       ...                   ...           ...               ...   \n",
       "1563       24                     2             2                 0   \n",
       "1564       63                     1             4                 2   \n",
       "1565       74                     4             2                 2   \n",
       "1566       28                     2             1                 0   \n",
       "1567       78                     2             2                 0   \n",
       "\n",
       "      StorePurchases  WebVisitsMonth  Any_Complain  Response  Amount  \\\n",
       "0                  4               3             0         0     116   \n",
       "1                  8               6             0         0     422   \n",
       "2                  7               2             0         1    1457   \n",
       "3                  3               8             0         0     185   \n",
       "4                  9               1             0         0    1523   \n",
       "...              ...             ...           ...       ...     ...   \n",
       "1563               3               5             0         0      49   \n",
       "1564               8               4             0         0     432   \n",
       "1565               9               7             0         0     965   \n",
       "1566               4               4             0         0      70   \n",
       "1567               3               8             0         0      48   \n",
       "\n",
       "      Accepted_offers  Age  chilldren  \n",
       "0                   0   64          2  \n",
       "1                   0   61          1  \n",
       "2                   1   57          0  \n",
       "3                   0   40          1  \n",
       "4                   1   60          0  \n",
       "...               ...  ...        ...  \n",
       "1563                0   49          2  \n",
       "1564                0   39          1  \n",
       "1565                1   67          1  \n",
       "1566                0   55          2  \n",
       "1567                0   49          1  \n",
       "\n",
       "[1560 rows x 16 columns]"
      ]
     },
     "execution_count": 37,
     "metadata": {},
     "output_type": "execute_result"
    }
   ],
   "source": [
    "train_df"
   ]
  },
  {
   "cell_type": "code",
   "execution_count": 38,
   "id": "eddd8d9a",
   "metadata": {},
   "outputs": [],
   "source": [
    "# train_df['Purchase'] =0\n",
    "# test_df['Purchase'] = 0\n",
    "\n",
    "# purchase_col = ['Discounted_Purchases', 'WebPurchases',\n",
    "#        'CatalogPurchases', 'StorePurchases']\n",
    "# for col in purchase_col:\n",
    "#     train_df['Purchase'] += train_df[col]\n",
    "#     test_df['Purchase'] += test_df[col]\n",
    "#     train_df.drop(col,axis=1, inplace=True)\n",
    "#     test_df.drop(col,axis=1, inplace=True)\n",
    "    "
   ]
  },
  {
   "cell_type": "code",
   "execution_count": 39,
   "id": "8dca44d9",
   "metadata": {},
   "outputs": [],
   "source": [
    "# train_df['Amount'].plot.hist()"
   ]
  },
  {
   "cell_type": "code",
   "execution_count": 40,
   "id": "2ca34d0a",
   "metadata": {},
   "outputs": [],
   "source": [
    "# np.seterr(divide = 'ignore')\n",
    "# train_df['Amount'] = np.where(train_df['Amount']>0, np.log(train_df['Amount']), 0)"
   ]
  },
  {
   "cell_type": "code",
   "execution_count": 41,
   "id": "83a03cb4",
   "metadata": {
    "scrolled": true
   },
   "outputs": [
    {
     "data": {
      "text/plain": [
       "<AxesSubplot:>"
      ]
     },
     "execution_count": 41,
     "metadata": {},
     "output_type": "execute_result"
    },
    {
     "data": {
      "image/png": "[encoded data removed]",
      "text/plain": [
       "<Figure size 432x288 with 2 Axes>"
      ]
     },
     "metadata": {
      "needs_background": "light"
     },
     "output_type": "display_data"
    }
   ],
   "source": [
    "sns.heatmap(train_df.corr())"
   ]
  },
  {
   "cell_type": "markdown",
   "id": "5052f264",
   "metadata": {},
   "source": [
    "# MODELLING "
   ]
  },
  {
   "cell_type": "code",
   "execution_count": 42,
   "id": "478cb01a",
   "metadata": {},
   "outputs": [],
   "source": [
    "X = train_df.drop('Response', axis=1)\n",
    "x_sub = test_df\n",
    "y = train_df['Response']"
   ]
  },
  {
   "cell_type": "code",
   "execution_count": 43,
   "id": "57bd258a",
   "metadata": {},
   "outputs": [],
   "source": [
    "from sklearn.impute import SimpleImputer\n",
    "from sklearn.preprocessing import OneHotEncoder, MinMaxScaler, RobustScaler, QuantileTransformer,StandardScaler\n",
    "from sklearn.pipeline import Pipeline\n",
    "from imblearn.over_sampling import SMOTE\n",
    "\n",
    "from sklearn.model_selection import KFold,StratifiedKFold,GridSearchCV,RandomizedSearchCV, train_test_split, RepeatedStratifiedKFold \n",
    "from sklearn.metrics import accuracy_score, f1_score, roc_auc_score\n",
    "from imblearn.over_sampling import SMOTE\n",
    "\n",
    "from sklearn.model_selection import train_test_split\n",
    "from sklearn.linear_model import LogisticRegression\n",
    "from sklearn.ensemble import RandomForestClassifier, GradientBoostingClassifier"
   ]
  },
  {
   "cell_type": "code",
   "execution_count": 44,
   "id": "018d2bb6",
   "metadata": {},
   "outputs": [],
   "source": [
    "x_train, x_test, y_train, y_test = train_test_split(X, y, test_size=0.25, random_state=7645)"
   ]
  },
  {
   "cell_type": "code",
   "execution_count": 45,
   "id": "ec86dcb4",
   "metadata": {},
   "outputs": [],
   "source": [
    "numerical_features = X.select_dtypes(include='number').columns.tolist()\n",
    "categorical_features = X.select_dtypes(exclude='number').columns.tolist()"
   ]
  },
  {
   "cell_type": "code",
   "execution_count": 46,
   "id": "2356e53d",
   "metadata": {},
   "outputs": [
    {
     "data": {
      "text/plain": [
       "['Marital_Status']"
      ]
     },
     "execution_count": 46,
     "metadata": {},
     "output_type": "execute_result"
    }
   ],
   "source": [
    "categorical_features"
   ]
  },
  {
   "cell_type": "code",
   "execution_count": 47,
   "id": "61c057ce",
   "metadata": {},
   "outputs": [],
   "source": [
    "numeric_pipeline = Pipeline(steps=[\n",
    "    ('impute', SimpleImputer(strategy='mean')),\n",
    "    ('scale', RobustScaler())\n",
    "])\n",
    "\n",
    "categorical_pipeline = Pipeline(steps=[\n",
    "    ('impute', SimpleImputer(strategy='most_frequent')),\n",
    "    ('one-hot', OneHotEncoder(handle_unknown='ignore', sparse=False))\n",
    "])"
   ]
  },
  {
   "cell_type": "code",
   "execution_count": 48,
   "id": "32f761f8",
   "metadata": {},
   "outputs": [],
   "source": [
    "from sklearn.compose import ColumnTransformer\n",
    "\n",
    "full_processor = ColumnTransformer(transformers=[\n",
    "    ('number', numeric_pipeline, numerical_features),\n",
    "    ('category', categorical_pipeline, categorical_features)\n",
    "    ])\n",
    "\n",
    "#  full_processor.fit_transform()"
   ]
  },
  {
   "cell_type": "code",
   "execution_count": 49,
   "id": "1413662a",
   "metadata": {},
   "outputs": [],
   "source": [
    "X_proc = full_processor.fit_transform(X)\n",
    "X_sub = full_processor.transform(x_sub)\n",
    "\n",
    "X_train, X_test, y_train, y_test = train_test_split(\n",
    "    X_proc, y, stratify=y, random_state=1121218)\n",
    "\n",
    "smote = SMOTE(random_state=786)#786\n",
    "X_smote, y_smote = smote.fit_resample(X_train, y_train)"
   ]
  },
  {
   "cell_type": "markdown",
   "id": "ec236788",
   "metadata": {},
   "source": [
    "### RANDOM FOREST"
   ]
  },
  {
   "cell_type": "code",
   "execution_count": 50,
   "id": "1e6ae2ec",
   "metadata": {
    "scrolled": false
   },
   "outputs": [
    {
     "data": {
      "text/plain": [
       "0.6371681415929203"
      ]
     },
     "execution_count": 50,
     "metadata": {},
     "output_type": "execute_result"
    }
   ],
   "source": [
    "rf = RandomForestClassifier(random_state=235) #235\n",
    "rf.fit(X_smote, y_smote)\n",
    "\n",
    "y_rf = rf.predict(X_test)\n",
    "f1_score(y_rf, y_test)"
   ]
  },
  {
   "cell_type": "code",
   "execution_count": 51,
   "id": "f4a49cc7",
   "metadata": {
    "scrolled": false
   },
   "outputs": [
    {
     "data": {
      "text/plain": [
       "{'n_estimators': [200, 400, 600, 800, 1000, 1200, 1400, 1600, 1800, 2000],\n",
       " 'max_features': ['auto', 'sqrt'],\n",
       " 'max_depth': [10, 20, 30, 40, 50, 60, 70, 80, 90, 100, 110, None],\n",
       " 'min_samples_split': [2, 5, 10],\n",
       " 'min_samples_leaf': [1, 2, 4],\n",
       " 'bootstrap': [True, False]}"
      ]
     },
     "execution_count": 51,
     "metadata": {},
     "output_type": "execute_result"
    }
   ],
   "source": [
    "n_estimators = [int(x) for x in np.linspace(start = 200, stop = 2000, num = 10)]\n",
    "max_features = ['auto', 'sqrt']\n",
    "max_depth = [int(x) for x in np.linspace(10, 110, num = 11)]\n",
    "max_depth.append(None)\n",
    "min_samples_split = [2, 5, 10]\n",
    "min_samples_leaf = [1, 2, 4]\n",
    "bootstrap = [True, False]\n",
    "\n",
    "\n",
    "random_grid = {'n_estimators': n_estimators,\n",
    "               'max_features': max_features,\n",
    "               'max_depth': max_depth,\n",
    "               'min_samples_split': min_samples_split,\n",
    "               'min_samples_leaf': min_samples_leaf,\n",
    "               'bootstrap': bootstrap}\n",
    "random_grid"
   ]
  },
  {
   "cell_type": "code",
   "execution_count": 52,
   "id": "21332833",
   "metadata": {},
   "outputs": [],
   "source": [
    "param_grid = {'n_estimators': [100,200,300],\n",
    "              'max_features': ['auto'],\n",
    "              'max_depth': [10, 20, None],\n",
    "              'min_samples_split': [2, 3,5],\n",
    "              'min_samples_leaf': [1, 2, 4],\n",
    "              'bootstrap': [ True]}"
   ]
  },
  {
   "cell_type": "code",
   "execution_count": 53,
   "id": "cc728c6a",
   "metadata": {},
   "outputs": [
    {
     "ename": "KeyboardInterrupt",
     "evalue": "",
     "output_type": "error",
     "traceback": [
      "\u001b[1;31m---------------------------------------------------------------------------\u001b[0m",
      "\u001b[1;31mKeyboardInterrupt\u001b[0m                         Traceback (most recent call last)",
      "\u001b[1;32m<ipython-input-53-a2c44644ecac>\u001b[0m in \u001b[0;36m<module>\u001b[1;34m\u001b[0m\n\u001b[0;32m      1\u001b[0m \u001b[0mgrid_rf\u001b[0m\u001b[1;33m=\u001b[0m \u001b[0mGridSearchCV\u001b[0m\u001b[1;33m(\u001b[0m\u001b[0mrf\u001b[0m\u001b[1;33m,\u001b[0m \u001b[0mparam_grid\u001b[0m\u001b[1;33m,\u001b[0m \u001b[0mcv\u001b[0m\u001b[1;33m=\u001b[0m\u001b[1;36m3\u001b[0m\u001b[1;33m,\u001b[0m\u001b[0mscoring\u001b[0m\u001b[1;33m=\u001b[0m\u001b[1;34m'f1'\u001b[0m\u001b[1;33m)\u001b[0m\u001b[1;33m\u001b[0m\u001b[1;33m\u001b[0m\u001b[0m\n\u001b[1;32m----> 2\u001b[1;33m \u001b[0mgrid_rf\u001b[0m\u001b[1;33m.\u001b[0m\u001b[0mfit\u001b[0m\u001b[1;33m(\u001b[0m\u001b[0mX_smote\u001b[0m\u001b[1;33m,\u001b[0m\u001b[0my_smote\u001b[0m\u001b[1;33m)\u001b[0m\u001b[1;33m\u001b[0m\u001b[1;33m\u001b[0m\u001b[0m\n\u001b[0m\u001b[0;32m      3\u001b[0m \u001b[1;33m\u001b[0m\u001b[0m\n\u001b[0;32m      4\u001b[0m \u001b[1;33m\u001b[0m\u001b[0m\n\u001b[0;32m      5\u001b[0m \u001b[0my_grid_rf\u001b[0m \u001b[1;33m=\u001b[0m \u001b[0mgrid_rf\u001b[0m\u001b[1;33m.\u001b[0m\u001b[0mpredict\u001b[0m\u001b[1;33m(\u001b[0m\u001b[0mX_test\u001b[0m\u001b[1;33m)\u001b[0m\u001b[1;33m\u001b[0m\u001b[1;33m\u001b[0m\u001b[0m\n",
      "\u001b[1;32mC:\\ProgramData\\Anaconda3\\lib\\site-packages\\sklearn\\utils\\validation.py\u001b[0m in \u001b[0;36minner_f\u001b[1;34m(*args, **kwargs)\u001b[0m\n\u001b[0;32m     61\u001b[0m             \u001b[0mextra_args\u001b[0m \u001b[1;33m=\u001b[0m \u001b[0mlen\u001b[0m\u001b[1;33m(\u001b[0m\u001b[0margs\u001b[0m\u001b[1;33m)\u001b[0m \u001b[1;33m-\u001b[0m \u001b[0mlen\u001b[0m\u001b[1;33m(\u001b[0m\u001b[0mall_args\u001b[0m\u001b[1;33m)\u001b[0m\u001b[1;33m\u001b[0m\u001b[1;33m\u001b[0m\u001b[0m\n\u001b[0;32m     62\u001b[0m             \u001b[1;32mif\u001b[0m \u001b[0mextra_args\u001b[0m \u001b[1;33m<=\u001b[0m \u001b[1;36m0\u001b[0m\u001b[1;33m:\u001b[0m\u001b[1;33m\u001b[0m\u001b[1;33m\u001b[0m\u001b[0m\n\u001b[1;32m---> 63\u001b[1;33m                 \u001b[1;32mreturn\u001b[0m \u001b[0mf\u001b[0m\u001b[1;33m(\u001b[0m\u001b[1;33m*\u001b[0m\u001b[0margs\u001b[0m\u001b[1;33m,\u001b[0m \u001b[1;33m**\u001b[0m\u001b[0mkwargs\u001b[0m\u001b[1;33m)\u001b[0m\u001b[1;33m\u001b[0m\u001b[1;33m\u001b[0m\u001b[0m\n\u001b[0m\u001b[0;32m     64\u001b[0m \u001b[1;33m\u001b[0m\u001b[0m\n\u001b[0;32m     65\u001b[0m             \u001b[1;31m# extra_args > 0\u001b[0m\u001b[1;33m\u001b[0m\u001b[1;33m\u001b[0m\u001b[1;33m\u001b[0m\u001b[0m\n",
      "\u001b[1;32mC:\\ProgramData\\Anaconda3\\lib\\site-packages\\sklearn\\model_selection\\_search.py\u001b[0m in \u001b[0;36mfit\u001b[1;34m(self, X, y, groups, **fit_params)\u001b[0m\n\u001b[0;32m    839\u001b[0m                 \u001b[1;32mreturn\u001b[0m \u001b[0mresults\u001b[0m\u001b[1;33m\u001b[0m\u001b[1;33m\u001b[0m\u001b[0m\n\u001b[0;32m    840\u001b[0m \u001b[1;33m\u001b[0m\u001b[0m\n\u001b[1;32m--> 841\u001b[1;33m             \u001b[0mself\u001b[0m\u001b[1;33m.\u001b[0m\u001b[0m_run_search\u001b[0m\u001b[1;33m(\u001b[0m\u001b[0mevaluate_candidates\u001b[0m\u001b[1;33m)\u001b[0m\u001b[1;33m\u001b[0m\u001b[1;33m\u001b[0m\u001b[0m\n\u001b[0m\u001b[0;32m    842\u001b[0m \u001b[1;33m\u001b[0m\u001b[0m\n\u001b[0;32m    843\u001b[0m             \u001b[1;31m# multimetric is determined here because in the case of a callable\u001b[0m\u001b[1;33m\u001b[0m\u001b[1;33m\u001b[0m\u001b[1;33m\u001b[0m\u001b[0m\n",
      "\u001b[1;32mC:\\ProgramData\\Anaconda3\\lib\\site-packages\\sklearn\\model_selection\\_search.py\u001b[0m in \u001b[0;36m_run_search\u001b[1;34m(self, evaluate_candidates)\u001b[0m\n\u001b[0;32m   1286\u001b[0m     \u001b[1;32mdef\u001b[0m \u001b[0m_run_search\u001b[0m\u001b[1;33m(\u001b[0m\u001b[0mself\u001b[0m\u001b[1;33m,\u001b[0m \u001b[0mevaluate_candidates\u001b[0m\u001b[1;33m)\u001b[0m\u001b[1;33m:\u001b[0m\u001b[1;33m\u001b[0m\u001b[1;33m\u001b[0m\u001b[0m\n\u001b[0;32m   1287\u001b[0m         \u001b[1;34m\"\"\"Search all candidates in param_grid\"\"\"\u001b[0m\u001b[1;33m\u001b[0m\u001b[1;33m\u001b[0m\u001b[0m\n\u001b[1;32m-> 1288\u001b[1;33m         \u001b[0mevaluate_candidates\u001b[0m\u001b[1;33m(\u001b[0m\u001b[0mParameterGrid\u001b[0m\u001b[1;33m(\u001b[0m\u001b[0mself\u001b[0m\u001b[1;33m.\u001b[0m\u001b[0mparam_grid\u001b[0m\u001b[1;33m)\u001b[0m\u001b[1;33m)\u001b[0m\u001b[1;33m\u001b[0m\u001b[1;33m\u001b[0m\u001b[0m\n\u001b[0m\u001b[0;32m   1289\u001b[0m \u001b[1;33m\u001b[0m\u001b[0m\n\u001b[0;32m   1290\u001b[0m \u001b[1;33m\u001b[0m\u001b[0m\n",
      "\u001b[1;32mC:\\ProgramData\\Anaconda3\\lib\\site-packages\\sklearn\\model_selection\\_search.py\u001b[0m in \u001b[0;36mevaluate_candidates\u001b[1;34m(candidate_params, cv, more_results)\u001b[0m\n\u001b[0;32m    793\u001b[0m                               n_splits, n_candidates, n_candidates * n_splits))\n\u001b[0;32m    794\u001b[0m \u001b[1;33m\u001b[0m\u001b[0m\n\u001b[1;32m--> 795\u001b[1;33m                 out = parallel(delayed(_fit_and_score)(clone(base_estimator),\n\u001b[0m\u001b[0;32m    796\u001b[0m                                                        \u001b[0mX\u001b[0m\u001b[1;33m,\u001b[0m \u001b[0my\u001b[0m\u001b[1;33m,\u001b[0m\u001b[1;33m\u001b[0m\u001b[1;33m\u001b[0m\u001b[0m\n\u001b[0;32m    797\u001b[0m                                                        \u001b[0mtrain\u001b[0m\u001b[1;33m=\u001b[0m\u001b[0mtrain\u001b[0m\u001b[1;33m,\u001b[0m \u001b[0mtest\u001b[0m\u001b[1;33m=\u001b[0m\u001b[0mtest\u001b[0m\u001b[1;33m,\u001b[0m\u001b[1;33m\u001b[0m\u001b[1;33m\u001b[0m\u001b[0m\n",
      "\u001b[1;32mC:\\ProgramData\\Anaconda3\\lib\\site-packages\\joblib\\parallel.py\u001b[0m in \u001b[0;36m__call__\u001b[1;34m(self, iterable)\u001b[0m\n\u001b[0;32m   1042\u001b[0m                 \u001b[0mself\u001b[0m\u001b[1;33m.\u001b[0m\u001b[0m_iterating\u001b[0m \u001b[1;33m=\u001b[0m \u001b[0mself\u001b[0m\u001b[1;33m.\u001b[0m\u001b[0m_original_iterator\u001b[0m \u001b[1;32mis\u001b[0m \u001b[1;32mnot\u001b[0m \u001b[1;32mNone\u001b[0m\u001b[1;33m\u001b[0m\u001b[1;33m\u001b[0m\u001b[0m\n\u001b[0;32m   1043\u001b[0m \u001b[1;33m\u001b[0m\u001b[0m\n\u001b[1;32m-> 1044\u001b[1;33m             \u001b[1;32mwhile\u001b[0m \u001b[0mself\u001b[0m\u001b[1;33m.\u001b[0m\u001b[0mdispatch_one_batch\u001b[0m\u001b[1;33m(\u001b[0m\u001b[0miterator\u001b[0m\u001b[1;33m)\u001b[0m\u001b[1;33m:\u001b[0m\u001b[1;33m\u001b[0m\u001b[1;33m\u001b[0m\u001b[0m\n\u001b[0m\u001b[0;32m   1045\u001b[0m                 \u001b[1;32mpass\u001b[0m\u001b[1;33m\u001b[0m\u001b[1;33m\u001b[0m\u001b[0m\n\u001b[0;32m   1046\u001b[0m \u001b[1;33m\u001b[0m\u001b[0m\n",
      "\u001b[1;32mC:\\ProgramData\\Anaconda3\\lib\\site-packages\\joblib\\parallel.py\u001b[0m in \u001b[0;36mdispatch_one_batch\u001b[1;34m(self, iterator)\u001b[0m\n\u001b[0;32m    857\u001b[0m                 \u001b[1;32mreturn\u001b[0m \u001b[1;32mFalse\u001b[0m\u001b[1;33m\u001b[0m\u001b[1;33m\u001b[0m\u001b[0m\n\u001b[0;32m    858\u001b[0m             \u001b[1;32melse\u001b[0m\u001b[1;33m:\u001b[0m\u001b[1;33m\u001b[0m\u001b[1;33m\u001b[0m\u001b[0m\n\u001b[1;32m--> 859\u001b[1;33m                 \u001b[0mself\u001b[0m\u001b[1;33m.\u001b[0m\u001b[0m_dispatch\u001b[0m\u001b[1;33m(\u001b[0m\u001b[0mtasks\u001b[0m\u001b[1;33m)\u001b[0m\u001b[1;33m\u001b[0m\u001b[1;33m\u001b[0m\u001b[0m\n\u001b[0m\u001b[0;32m    860\u001b[0m                 \u001b[1;32mreturn\u001b[0m \u001b[1;32mTrue\u001b[0m\u001b[1;33m\u001b[0m\u001b[1;33m\u001b[0m\u001b[0m\n\u001b[0;32m    861\u001b[0m \u001b[1;33m\u001b[0m\u001b[0m\n",
      "\u001b[1;32mC:\\ProgramData\\Anaconda3\\lib\\site-packages\\joblib\\parallel.py\u001b[0m in \u001b[0;36m_dispatch\u001b[1;34m(self, batch)\u001b[0m\n\u001b[0;32m    775\u001b[0m         \u001b[1;32mwith\u001b[0m \u001b[0mself\u001b[0m\u001b[1;33m.\u001b[0m\u001b[0m_lock\u001b[0m\u001b[1;33m:\u001b[0m\u001b[1;33m\u001b[0m\u001b[1;33m\u001b[0m\u001b[0m\n\u001b[0;32m    776\u001b[0m             \u001b[0mjob_idx\u001b[0m \u001b[1;33m=\u001b[0m \u001b[0mlen\u001b[0m\u001b[1;33m(\u001b[0m\u001b[0mself\u001b[0m\u001b[1;33m.\u001b[0m\u001b[0m_jobs\u001b[0m\u001b[1;33m)\u001b[0m\u001b[1;33m\u001b[0m\u001b[1;33m\u001b[0m\u001b[0m\n\u001b[1;32m--> 777\u001b[1;33m             \u001b[0mjob\u001b[0m \u001b[1;33m=\u001b[0m \u001b[0mself\u001b[0m\u001b[1;33m.\u001b[0m\u001b[0m_backend\u001b[0m\u001b[1;33m.\u001b[0m\u001b[0mapply_async\u001b[0m\u001b[1;33m(\u001b[0m\u001b[0mbatch\u001b[0m\u001b[1;33m,\u001b[0m \u001b[0mcallback\u001b[0m\u001b[1;33m=\u001b[0m\u001b[0mcb\u001b[0m\u001b[1;33m)\u001b[0m\u001b[1;33m\u001b[0m\u001b[1;33m\u001b[0m\u001b[0m\n\u001b[0m\u001b[0;32m    778\u001b[0m             \u001b[1;31m# A job can complete so quickly than its callback is\u001b[0m\u001b[1;33m\u001b[0m\u001b[1;33m\u001b[0m\u001b[1;33m\u001b[0m\u001b[0m\n\u001b[0;32m    779\u001b[0m             \u001b[1;31m# called before we get here, causing self._jobs to\u001b[0m\u001b[1;33m\u001b[0m\u001b[1;33m\u001b[0m\u001b[1;33m\u001b[0m\u001b[0m\n",
      "\u001b[1;32mC:\\ProgramData\\Anaconda3\\lib\\site-packages\\joblib\\_parallel_backends.py\u001b[0m in \u001b[0;36mapply_async\u001b[1;34m(self, func, callback)\u001b[0m\n\u001b[0;32m    206\u001b[0m     \u001b[1;32mdef\u001b[0m \u001b[0mapply_async\u001b[0m\u001b[1;33m(\u001b[0m\u001b[0mself\u001b[0m\u001b[1;33m,\u001b[0m \u001b[0mfunc\u001b[0m\u001b[1;33m,\u001b[0m \u001b[0mcallback\u001b[0m\u001b[1;33m=\u001b[0m\u001b[1;32mNone\u001b[0m\u001b[1;33m)\u001b[0m\u001b[1;33m:\u001b[0m\u001b[1;33m\u001b[0m\u001b[1;33m\u001b[0m\u001b[0m\n\u001b[0;32m    207\u001b[0m         \u001b[1;34m\"\"\"Schedule a func to be run\"\"\"\u001b[0m\u001b[1;33m\u001b[0m\u001b[1;33m\u001b[0m\u001b[0m\n\u001b[1;32m--> 208\u001b[1;33m         \u001b[0mresult\u001b[0m \u001b[1;33m=\u001b[0m \u001b[0mImmediateResult\u001b[0m\u001b[1;33m(\u001b[0m\u001b[0mfunc\u001b[0m\u001b[1;33m)\u001b[0m\u001b[1;33m\u001b[0m\u001b[1;33m\u001b[0m\u001b[0m\n\u001b[0m\u001b[0;32m    209\u001b[0m         \u001b[1;32mif\u001b[0m \u001b[0mcallback\u001b[0m\u001b[1;33m:\u001b[0m\u001b[1;33m\u001b[0m\u001b[1;33m\u001b[0m\u001b[0m\n\u001b[0;32m    210\u001b[0m             \u001b[0mcallback\u001b[0m\u001b[1;33m(\u001b[0m\u001b[0mresult\u001b[0m\u001b[1;33m)\u001b[0m\u001b[1;33m\u001b[0m\u001b[1;33m\u001b[0m\u001b[0m\n",
      "\u001b[1;32mC:\\ProgramData\\Anaconda3\\lib\\site-packages\\joblib\\_parallel_backends.py\u001b[0m in \u001b[0;36m__init__\u001b[1;34m(self, batch)\u001b[0m\n\u001b[0;32m    570\u001b[0m         \u001b[1;31m# Don't delay the application, to avoid keeping the input\u001b[0m\u001b[1;33m\u001b[0m\u001b[1;33m\u001b[0m\u001b[1;33m\u001b[0m\u001b[0m\n\u001b[0;32m    571\u001b[0m         \u001b[1;31m# arguments in memory\u001b[0m\u001b[1;33m\u001b[0m\u001b[1;33m\u001b[0m\u001b[1;33m\u001b[0m\u001b[0m\n\u001b[1;32m--> 572\u001b[1;33m         \u001b[0mself\u001b[0m\u001b[1;33m.\u001b[0m\u001b[0mresults\u001b[0m \u001b[1;33m=\u001b[0m \u001b[0mbatch\u001b[0m\u001b[1;33m(\u001b[0m\u001b[1;33m)\u001b[0m\u001b[1;33m\u001b[0m\u001b[1;33m\u001b[0m\u001b[0m\n\u001b[0m\u001b[0;32m    573\u001b[0m \u001b[1;33m\u001b[0m\u001b[0m\n\u001b[0;32m    574\u001b[0m     \u001b[1;32mdef\u001b[0m \u001b[0mget\u001b[0m\u001b[1;33m(\u001b[0m\u001b[0mself\u001b[0m\u001b[1;33m)\u001b[0m\u001b[1;33m:\u001b[0m\u001b[1;33m\u001b[0m\u001b[1;33m\u001b[0m\u001b[0m\n",
      "\u001b[1;32mC:\\ProgramData\\Anaconda3\\lib\\site-packages\\joblib\\parallel.py\u001b[0m in \u001b[0;36m__call__\u001b[1;34m(self)\u001b[0m\n\u001b[0;32m    260\u001b[0m         \u001b[1;31m# change the default number of processes to -1\u001b[0m\u001b[1;33m\u001b[0m\u001b[1;33m\u001b[0m\u001b[1;33m\u001b[0m\u001b[0m\n\u001b[0;32m    261\u001b[0m         \u001b[1;32mwith\u001b[0m \u001b[0mparallel_backend\u001b[0m\u001b[1;33m(\u001b[0m\u001b[0mself\u001b[0m\u001b[1;33m.\u001b[0m\u001b[0m_backend\u001b[0m\u001b[1;33m,\u001b[0m \u001b[0mn_jobs\u001b[0m\u001b[1;33m=\u001b[0m\u001b[0mself\u001b[0m\u001b[1;33m.\u001b[0m\u001b[0m_n_jobs\u001b[0m\u001b[1;33m)\u001b[0m\u001b[1;33m:\u001b[0m\u001b[1;33m\u001b[0m\u001b[1;33m\u001b[0m\u001b[0m\n\u001b[1;32m--> 262\u001b[1;33m             return [func(*args, **kwargs)\n\u001b[0m\u001b[0;32m    263\u001b[0m                     for func, args, kwargs in self.items]\n\u001b[0;32m    264\u001b[0m \u001b[1;33m\u001b[0m\u001b[0m\n",
      "\u001b[1;32mC:\\ProgramData\\Anaconda3\\lib\\site-packages\\joblib\\parallel.py\u001b[0m in \u001b[0;36m<listcomp>\u001b[1;34m(.0)\u001b[0m\n\u001b[0;32m    260\u001b[0m         \u001b[1;31m# change the default number of processes to -1\u001b[0m\u001b[1;33m\u001b[0m\u001b[1;33m\u001b[0m\u001b[1;33m\u001b[0m\u001b[0m\n\u001b[0;32m    261\u001b[0m         \u001b[1;32mwith\u001b[0m \u001b[0mparallel_backend\u001b[0m\u001b[1;33m(\u001b[0m\u001b[0mself\u001b[0m\u001b[1;33m.\u001b[0m\u001b[0m_backend\u001b[0m\u001b[1;33m,\u001b[0m \u001b[0mn_jobs\u001b[0m\u001b[1;33m=\u001b[0m\u001b[0mself\u001b[0m\u001b[1;33m.\u001b[0m\u001b[0m_n_jobs\u001b[0m\u001b[1;33m)\u001b[0m\u001b[1;33m:\u001b[0m\u001b[1;33m\u001b[0m\u001b[1;33m\u001b[0m\u001b[0m\n\u001b[1;32m--> 262\u001b[1;33m             return [func(*args, **kwargs)\n\u001b[0m\u001b[0;32m    263\u001b[0m                     for func, args, kwargs in self.items]\n\u001b[0;32m    264\u001b[0m \u001b[1;33m\u001b[0m\u001b[0m\n",
      "\u001b[1;32mC:\\ProgramData\\Anaconda3\\lib\\site-packages\\sklearn\\utils\\fixes.py\u001b[0m in \u001b[0;36m__call__\u001b[1;34m(self, *args, **kwargs)\u001b[0m\n\u001b[0;32m    220\u001b[0m     \u001b[1;32mdef\u001b[0m \u001b[0m__call__\u001b[0m\u001b[1;33m(\u001b[0m\u001b[0mself\u001b[0m\u001b[1;33m,\u001b[0m \u001b[1;33m*\u001b[0m\u001b[0margs\u001b[0m\u001b[1;33m,\u001b[0m \u001b[1;33m**\u001b[0m\u001b[0mkwargs\u001b[0m\u001b[1;33m)\u001b[0m\u001b[1;33m:\u001b[0m\u001b[1;33m\u001b[0m\u001b[1;33m\u001b[0m\u001b[0m\n\u001b[0;32m    221\u001b[0m         \u001b[1;32mwith\u001b[0m \u001b[0mconfig_context\u001b[0m\u001b[1;33m(\u001b[0m\u001b[1;33m**\u001b[0m\u001b[0mself\u001b[0m\u001b[1;33m.\u001b[0m\u001b[0mconfig\u001b[0m\u001b[1;33m)\u001b[0m\u001b[1;33m:\u001b[0m\u001b[1;33m\u001b[0m\u001b[1;33m\u001b[0m\u001b[0m\n\u001b[1;32m--> 222\u001b[1;33m             \u001b[1;32mreturn\u001b[0m \u001b[0mself\u001b[0m\u001b[1;33m.\u001b[0m\u001b[0mfunction\u001b[0m\u001b[1;33m(\u001b[0m\u001b[1;33m*\u001b[0m\u001b[0margs\u001b[0m\u001b[1;33m,\u001b[0m \u001b[1;33m**\u001b[0m\u001b[0mkwargs\u001b[0m\u001b[1;33m)\u001b[0m\u001b[1;33m\u001b[0m\u001b[1;33m\u001b[0m\u001b[0m\n\u001b[0m",
      "\u001b[1;32mC:\\ProgramData\\Anaconda3\\lib\\site-packages\\sklearn\\model_selection\\_validation.py\u001b[0m in \u001b[0;36m_fit_and_score\u001b[1;34m(estimator, X, y, scorer, train, test, verbose, parameters, fit_params, return_train_score, return_parameters, return_n_test_samples, return_times, return_estimator, split_progress, candidate_progress, error_score)\u001b[0m\n\u001b[0;32m    591\u001b[0m             \u001b[0mestimator\u001b[0m\u001b[1;33m.\u001b[0m\u001b[0mfit\u001b[0m\u001b[1;33m(\u001b[0m\u001b[0mX_train\u001b[0m\u001b[1;33m,\u001b[0m \u001b[1;33m**\u001b[0m\u001b[0mfit_params\u001b[0m\u001b[1;33m)\u001b[0m\u001b[1;33m\u001b[0m\u001b[1;33m\u001b[0m\u001b[0m\n\u001b[0;32m    592\u001b[0m         \u001b[1;32melse\u001b[0m\u001b[1;33m:\u001b[0m\u001b[1;33m\u001b[0m\u001b[1;33m\u001b[0m\u001b[0m\n\u001b[1;32m--> 593\u001b[1;33m             \u001b[0mestimator\u001b[0m\u001b[1;33m.\u001b[0m\u001b[0mfit\u001b[0m\u001b[1;33m(\u001b[0m\u001b[0mX_train\u001b[0m\u001b[1;33m,\u001b[0m \u001b[0my_train\u001b[0m\u001b[1;33m,\u001b[0m \u001b[1;33m**\u001b[0m\u001b[0mfit_params\u001b[0m\u001b[1;33m)\u001b[0m\u001b[1;33m\u001b[0m\u001b[1;33m\u001b[0m\u001b[0m\n\u001b[0m\u001b[0;32m    594\u001b[0m \u001b[1;33m\u001b[0m\u001b[0m\n\u001b[0;32m    595\u001b[0m     \u001b[1;32mexcept\u001b[0m \u001b[0mException\u001b[0m \u001b[1;32mas\u001b[0m \u001b[0me\u001b[0m\u001b[1;33m:\u001b[0m\u001b[1;33m\u001b[0m\u001b[1;33m\u001b[0m\u001b[0m\n",
      "\u001b[1;32mC:\\ProgramData\\Anaconda3\\lib\\site-packages\\sklearn\\ensemble\\_forest.py\u001b[0m in \u001b[0;36mfit\u001b[1;34m(self, X, y, sample_weight)\u001b[0m\n\u001b[0;32m    385\u001b[0m             \u001b[1;31m# parallel_backend contexts set at a higher level,\u001b[0m\u001b[1;33m\u001b[0m\u001b[1;33m\u001b[0m\u001b[1;33m\u001b[0m\u001b[0m\n\u001b[0;32m    386\u001b[0m             \u001b[1;31m# since correctness does not rely on using threads.\u001b[0m\u001b[1;33m\u001b[0m\u001b[1;33m\u001b[0m\u001b[1;33m\u001b[0m\u001b[0m\n\u001b[1;32m--> 387\u001b[1;33m             trees = Parallel(n_jobs=self.n_jobs, verbose=self.verbose,\n\u001b[0m\u001b[0;32m    388\u001b[0m                              \u001b[1;33m**\u001b[0m\u001b[0m_joblib_parallel_args\u001b[0m\u001b[1;33m(\u001b[0m\u001b[0mprefer\u001b[0m\u001b[1;33m=\u001b[0m\u001b[1;34m'threads'\u001b[0m\u001b[1;33m)\u001b[0m\u001b[1;33m)\u001b[0m\u001b[1;33m(\u001b[0m\u001b[1;33m\u001b[0m\u001b[1;33m\u001b[0m\u001b[0m\n\u001b[0;32m    389\u001b[0m                 delayed(_parallel_build_trees)(\n",
      "\u001b[1;32mC:\\ProgramData\\Anaconda3\\lib\\site-packages\\joblib\\parallel.py\u001b[0m in \u001b[0;36m__call__\u001b[1;34m(self, iterable)\u001b[0m\n\u001b[0;32m   1042\u001b[0m                 \u001b[0mself\u001b[0m\u001b[1;33m.\u001b[0m\u001b[0m_iterating\u001b[0m \u001b[1;33m=\u001b[0m \u001b[0mself\u001b[0m\u001b[1;33m.\u001b[0m\u001b[0m_original_iterator\u001b[0m \u001b[1;32mis\u001b[0m \u001b[1;32mnot\u001b[0m \u001b[1;32mNone\u001b[0m\u001b[1;33m\u001b[0m\u001b[1;33m\u001b[0m\u001b[0m\n\u001b[0;32m   1043\u001b[0m \u001b[1;33m\u001b[0m\u001b[0m\n\u001b[1;32m-> 1044\u001b[1;33m             \u001b[1;32mwhile\u001b[0m \u001b[0mself\u001b[0m\u001b[1;33m.\u001b[0m\u001b[0mdispatch_one_batch\u001b[0m\u001b[1;33m(\u001b[0m\u001b[0miterator\u001b[0m\u001b[1;33m)\u001b[0m\u001b[1;33m:\u001b[0m\u001b[1;33m\u001b[0m\u001b[1;33m\u001b[0m\u001b[0m\n\u001b[0m\u001b[0;32m   1045\u001b[0m                 \u001b[1;32mpass\u001b[0m\u001b[1;33m\u001b[0m\u001b[1;33m\u001b[0m\u001b[0m\n\u001b[0;32m   1046\u001b[0m \u001b[1;33m\u001b[0m\u001b[0m\n",
      "\u001b[1;32mC:\\ProgramData\\Anaconda3\\lib\\site-packages\\joblib\\parallel.py\u001b[0m in \u001b[0;36mdispatch_one_batch\u001b[1;34m(self, iterator)\u001b[0m\n\u001b[0;32m    857\u001b[0m                 \u001b[1;32mreturn\u001b[0m \u001b[1;32mFalse\u001b[0m\u001b[1;33m\u001b[0m\u001b[1;33m\u001b[0m\u001b[0m\n\u001b[0;32m    858\u001b[0m             \u001b[1;32melse\u001b[0m\u001b[1;33m:\u001b[0m\u001b[1;33m\u001b[0m\u001b[1;33m\u001b[0m\u001b[0m\n\u001b[1;32m--> 859\u001b[1;33m                 \u001b[0mself\u001b[0m\u001b[1;33m.\u001b[0m\u001b[0m_dispatch\u001b[0m\u001b[1;33m(\u001b[0m\u001b[0mtasks\u001b[0m\u001b[1;33m)\u001b[0m\u001b[1;33m\u001b[0m\u001b[1;33m\u001b[0m\u001b[0m\n\u001b[0m\u001b[0;32m    860\u001b[0m                 \u001b[1;32mreturn\u001b[0m \u001b[1;32mTrue\u001b[0m\u001b[1;33m\u001b[0m\u001b[1;33m\u001b[0m\u001b[0m\n\u001b[0;32m    861\u001b[0m \u001b[1;33m\u001b[0m\u001b[0m\n",
      "\u001b[1;32mC:\\ProgramData\\Anaconda3\\lib\\site-packages\\joblib\\parallel.py\u001b[0m in \u001b[0;36m_dispatch\u001b[1;34m(self, batch)\u001b[0m\n\u001b[0;32m    775\u001b[0m         \u001b[1;32mwith\u001b[0m \u001b[0mself\u001b[0m\u001b[1;33m.\u001b[0m\u001b[0m_lock\u001b[0m\u001b[1;33m:\u001b[0m\u001b[1;33m\u001b[0m\u001b[1;33m\u001b[0m\u001b[0m\n\u001b[0;32m    776\u001b[0m             \u001b[0mjob_idx\u001b[0m \u001b[1;33m=\u001b[0m \u001b[0mlen\u001b[0m\u001b[1;33m(\u001b[0m\u001b[0mself\u001b[0m\u001b[1;33m.\u001b[0m\u001b[0m_jobs\u001b[0m\u001b[1;33m)\u001b[0m\u001b[1;33m\u001b[0m\u001b[1;33m\u001b[0m\u001b[0m\n\u001b[1;32m--> 777\u001b[1;33m             \u001b[0mjob\u001b[0m \u001b[1;33m=\u001b[0m \u001b[0mself\u001b[0m\u001b[1;33m.\u001b[0m\u001b[0m_backend\u001b[0m\u001b[1;33m.\u001b[0m\u001b[0mapply_async\u001b[0m\u001b[1;33m(\u001b[0m\u001b[0mbatch\u001b[0m\u001b[1;33m,\u001b[0m \u001b[0mcallback\u001b[0m\u001b[1;33m=\u001b[0m\u001b[0mcb\u001b[0m\u001b[1;33m)\u001b[0m\u001b[1;33m\u001b[0m\u001b[1;33m\u001b[0m\u001b[0m\n\u001b[0m\u001b[0;32m    778\u001b[0m             \u001b[1;31m# A job can complete so quickly than its callback is\u001b[0m\u001b[1;33m\u001b[0m\u001b[1;33m\u001b[0m\u001b[1;33m\u001b[0m\u001b[0m\n\u001b[0;32m    779\u001b[0m             \u001b[1;31m# called before we get here, causing self._jobs to\u001b[0m\u001b[1;33m\u001b[0m\u001b[1;33m\u001b[0m\u001b[1;33m\u001b[0m\u001b[0m\n",
      "\u001b[1;32mC:\\ProgramData\\Anaconda3\\lib\\site-packages\\joblib\\_parallel_backends.py\u001b[0m in \u001b[0;36mapply_async\u001b[1;34m(self, func, callback)\u001b[0m\n\u001b[0;32m    206\u001b[0m     \u001b[1;32mdef\u001b[0m \u001b[0mapply_async\u001b[0m\u001b[1;33m(\u001b[0m\u001b[0mself\u001b[0m\u001b[1;33m,\u001b[0m \u001b[0mfunc\u001b[0m\u001b[1;33m,\u001b[0m \u001b[0mcallback\u001b[0m\u001b[1;33m=\u001b[0m\u001b[1;32mNone\u001b[0m\u001b[1;33m)\u001b[0m\u001b[1;33m:\u001b[0m\u001b[1;33m\u001b[0m\u001b[1;33m\u001b[0m\u001b[0m\n\u001b[0;32m    207\u001b[0m         \u001b[1;34m\"\"\"Schedule a func to be run\"\"\"\u001b[0m\u001b[1;33m\u001b[0m\u001b[1;33m\u001b[0m\u001b[0m\n\u001b[1;32m--> 208\u001b[1;33m         \u001b[0mresult\u001b[0m \u001b[1;33m=\u001b[0m \u001b[0mImmediateResult\u001b[0m\u001b[1;33m(\u001b[0m\u001b[0mfunc\u001b[0m\u001b[1;33m)\u001b[0m\u001b[1;33m\u001b[0m\u001b[1;33m\u001b[0m\u001b[0m\n\u001b[0m\u001b[0;32m    209\u001b[0m         \u001b[1;32mif\u001b[0m \u001b[0mcallback\u001b[0m\u001b[1;33m:\u001b[0m\u001b[1;33m\u001b[0m\u001b[1;33m\u001b[0m\u001b[0m\n\u001b[0;32m    210\u001b[0m             \u001b[0mcallback\u001b[0m\u001b[1;33m(\u001b[0m\u001b[0mresult\u001b[0m\u001b[1;33m)\u001b[0m\u001b[1;33m\u001b[0m\u001b[1;33m\u001b[0m\u001b[0m\n",
      "\u001b[1;32mC:\\ProgramData\\Anaconda3\\lib\\site-packages\\joblib\\_parallel_backends.py\u001b[0m in \u001b[0;36m__init__\u001b[1;34m(self, batch)\u001b[0m\n\u001b[0;32m    570\u001b[0m         \u001b[1;31m# Don't delay the application, to avoid keeping the input\u001b[0m\u001b[1;33m\u001b[0m\u001b[1;33m\u001b[0m\u001b[1;33m\u001b[0m\u001b[0m\n\u001b[0;32m    571\u001b[0m         \u001b[1;31m# arguments in memory\u001b[0m\u001b[1;33m\u001b[0m\u001b[1;33m\u001b[0m\u001b[1;33m\u001b[0m\u001b[0m\n\u001b[1;32m--> 572\u001b[1;33m         \u001b[0mself\u001b[0m\u001b[1;33m.\u001b[0m\u001b[0mresults\u001b[0m \u001b[1;33m=\u001b[0m \u001b[0mbatch\u001b[0m\u001b[1;33m(\u001b[0m\u001b[1;33m)\u001b[0m\u001b[1;33m\u001b[0m\u001b[1;33m\u001b[0m\u001b[0m\n\u001b[0m\u001b[0;32m    573\u001b[0m \u001b[1;33m\u001b[0m\u001b[0m\n\u001b[0;32m    574\u001b[0m     \u001b[1;32mdef\u001b[0m \u001b[0mget\u001b[0m\u001b[1;33m(\u001b[0m\u001b[0mself\u001b[0m\u001b[1;33m)\u001b[0m\u001b[1;33m:\u001b[0m\u001b[1;33m\u001b[0m\u001b[1;33m\u001b[0m\u001b[0m\n",
      "\u001b[1;32mC:\\ProgramData\\Anaconda3\\lib\\site-packages\\joblib\\parallel.py\u001b[0m in \u001b[0;36m__call__\u001b[1;34m(self)\u001b[0m\n\u001b[0;32m    260\u001b[0m         \u001b[1;31m# change the default number of processes to -1\u001b[0m\u001b[1;33m\u001b[0m\u001b[1;33m\u001b[0m\u001b[1;33m\u001b[0m\u001b[0m\n\u001b[0;32m    261\u001b[0m         \u001b[1;32mwith\u001b[0m \u001b[0mparallel_backend\u001b[0m\u001b[1;33m(\u001b[0m\u001b[0mself\u001b[0m\u001b[1;33m.\u001b[0m\u001b[0m_backend\u001b[0m\u001b[1;33m,\u001b[0m \u001b[0mn_jobs\u001b[0m\u001b[1;33m=\u001b[0m\u001b[0mself\u001b[0m\u001b[1;33m.\u001b[0m\u001b[0m_n_jobs\u001b[0m\u001b[1;33m)\u001b[0m\u001b[1;33m:\u001b[0m\u001b[1;33m\u001b[0m\u001b[1;33m\u001b[0m\u001b[0m\n\u001b[1;32m--> 262\u001b[1;33m             return [func(*args, **kwargs)\n\u001b[0m\u001b[0;32m    263\u001b[0m                     for func, args, kwargs in self.items]\n\u001b[0;32m    264\u001b[0m \u001b[1;33m\u001b[0m\u001b[0m\n",
      "\u001b[1;32mC:\\ProgramData\\Anaconda3\\lib\\site-packages\\joblib\\parallel.py\u001b[0m in \u001b[0;36m<listcomp>\u001b[1;34m(.0)\u001b[0m\n\u001b[0;32m    260\u001b[0m         \u001b[1;31m# change the default number of processes to -1\u001b[0m\u001b[1;33m\u001b[0m\u001b[1;33m\u001b[0m\u001b[1;33m\u001b[0m\u001b[0m\n\u001b[0;32m    261\u001b[0m         \u001b[1;32mwith\u001b[0m \u001b[0mparallel_backend\u001b[0m\u001b[1;33m(\u001b[0m\u001b[0mself\u001b[0m\u001b[1;33m.\u001b[0m\u001b[0m_backend\u001b[0m\u001b[1;33m,\u001b[0m \u001b[0mn_jobs\u001b[0m\u001b[1;33m=\u001b[0m\u001b[0mself\u001b[0m\u001b[1;33m.\u001b[0m\u001b[0m_n_jobs\u001b[0m\u001b[1;33m)\u001b[0m\u001b[1;33m:\u001b[0m\u001b[1;33m\u001b[0m\u001b[1;33m\u001b[0m\u001b[0m\n\u001b[1;32m--> 262\u001b[1;33m             return [func(*args, **kwargs)\n\u001b[0m\u001b[0;32m    263\u001b[0m                     for func, args, kwargs in self.items]\n\u001b[0;32m    264\u001b[0m \u001b[1;33m\u001b[0m\u001b[0m\n",
      "\u001b[1;32mC:\\ProgramData\\Anaconda3\\lib\\site-packages\\sklearn\\utils\\fixes.py\u001b[0m in \u001b[0;36m__call__\u001b[1;34m(self, *args, **kwargs)\u001b[0m\n\u001b[0;32m    220\u001b[0m     \u001b[1;32mdef\u001b[0m \u001b[0m__call__\u001b[0m\u001b[1;33m(\u001b[0m\u001b[0mself\u001b[0m\u001b[1;33m,\u001b[0m \u001b[1;33m*\u001b[0m\u001b[0margs\u001b[0m\u001b[1;33m,\u001b[0m \u001b[1;33m**\u001b[0m\u001b[0mkwargs\u001b[0m\u001b[1;33m)\u001b[0m\u001b[1;33m:\u001b[0m\u001b[1;33m\u001b[0m\u001b[1;33m\u001b[0m\u001b[0m\n\u001b[0;32m    221\u001b[0m         \u001b[1;32mwith\u001b[0m \u001b[0mconfig_context\u001b[0m\u001b[1;33m(\u001b[0m\u001b[1;33m**\u001b[0m\u001b[0mself\u001b[0m\u001b[1;33m.\u001b[0m\u001b[0mconfig\u001b[0m\u001b[1;33m)\u001b[0m\u001b[1;33m:\u001b[0m\u001b[1;33m\u001b[0m\u001b[1;33m\u001b[0m\u001b[0m\n\u001b[1;32m--> 222\u001b[1;33m             \u001b[1;32mreturn\u001b[0m \u001b[0mself\u001b[0m\u001b[1;33m.\u001b[0m\u001b[0mfunction\u001b[0m\u001b[1;33m(\u001b[0m\u001b[1;33m*\u001b[0m\u001b[0margs\u001b[0m\u001b[1;33m,\u001b[0m \u001b[1;33m**\u001b[0m\u001b[0mkwargs\u001b[0m\u001b[1;33m)\u001b[0m\u001b[1;33m\u001b[0m\u001b[1;33m\u001b[0m\u001b[0m\n\u001b[0m",
      "\u001b[1;32mC:\\ProgramData\\Anaconda3\\lib\\site-packages\\sklearn\\ensemble\\_forest.py\u001b[0m in \u001b[0;36m_parallel_build_trees\u001b[1;34m(tree, forest, X, y, sample_weight, tree_idx, n_trees, verbose, class_weight, n_samples_bootstrap)\u001b[0m\n\u001b[0;32m    167\u001b[0m                                                         indices=indices)\n\u001b[0;32m    168\u001b[0m \u001b[1;33m\u001b[0m\u001b[0m\n\u001b[1;32m--> 169\u001b[1;33m         \u001b[0mtree\u001b[0m\u001b[1;33m.\u001b[0m\u001b[0mfit\u001b[0m\u001b[1;33m(\u001b[0m\u001b[0mX\u001b[0m\u001b[1;33m,\u001b[0m \u001b[0my\u001b[0m\u001b[1;33m,\u001b[0m \u001b[0msample_weight\u001b[0m\u001b[1;33m=\u001b[0m\u001b[0mcurr_sample_weight\u001b[0m\u001b[1;33m,\u001b[0m \u001b[0mcheck_input\u001b[0m\u001b[1;33m=\u001b[0m\u001b[1;32mFalse\u001b[0m\u001b[1;33m)\u001b[0m\u001b[1;33m\u001b[0m\u001b[1;33m\u001b[0m\u001b[0m\n\u001b[0m\u001b[0;32m    170\u001b[0m     \u001b[1;32melse\u001b[0m\u001b[1;33m:\u001b[0m\u001b[1;33m\u001b[0m\u001b[1;33m\u001b[0m\u001b[0m\n\u001b[0;32m    171\u001b[0m         \u001b[0mtree\u001b[0m\u001b[1;33m.\u001b[0m\u001b[0mfit\u001b[0m\u001b[1;33m(\u001b[0m\u001b[0mX\u001b[0m\u001b[1;33m,\u001b[0m \u001b[0my\u001b[0m\u001b[1;33m,\u001b[0m \u001b[0msample_weight\u001b[0m\u001b[1;33m=\u001b[0m\u001b[0msample_weight\u001b[0m\u001b[1;33m,\u001b[0m \u001b[0mcheck_input\u001b[0m\u001b[1;33m=\u001b[0m\u001b[1;32mFalse\u001b[0m\u001b[1;33m)\u001b[0m\u001b[1;33m\u001b[0m\u001b[1;33m\u001b[0m\u001b[0m\n",
      "\u001b[1;32mC:\\ProgramData\\Anaconda3\\lib\\site-packages\\sklearn\\tree\\_classes.py\u001b[0m in \u001b[0;36mfit\u001b[1;34m(self, X, y, sample_weight, check_input, X_idx_sorted)\u001b[0m\n\u001b[0;32m    896\u001b[0m         \"\"\"\n\u001b[0;32m    897\u001b[0m \u001b[1;33m\u001b[0m\u001b[0m\n\u001b[1;32m--> 898\u001b[1;33m         super().fit(\n\u001b[0m\u001b[0;32m    899\u001b[0m             \u001b[0mX\u001b[0m\u001b[1;33m,\u001b[0m \u001b[0my\u001b[0m\u001b[1;33m,\u001b[0m\u001b[1;33m\u001b[0m\u001b[1;33m\u001b[0m\u001b[0m\n\u001b[0;32m    900\u001b[0m             \u001b[0msample_weight\u001b[0m\u001b[1;33m=\u001b[0m\u001b[0msample_weight\u001b[0m\u001b[1;33m,\u001b[0m\u001b[1;33m\u001b[0m\u001b[1;33m\u001b[0m\u001b[0m\n",
      "\u001b[1;32mC:\\ProgramData\\Anaconda3\\lib\\site-packages\\sklearn\\tree\\_classes.py\u001b[0m in \u001b[0;36mfit\u001b[1;34m(self, X, y, sample_weight, check_input, X_idx_sorted)\u001b[0m\n\u001b[0;32m    143\u001b[0m             X_idx_sorted=\"deprecated\"):\n\u001b[0;32m    144\u001b[0m \u001b[1;33m\u001b[0m\u001b[0m\n\u001b[1;32m--> 145\u001b[1;33m         \u001b[0mrandom_state\u001b[0m \u001b[1;33m=\u001b[0m \u001b[0mcheck_random_state\u001b[0m\u001b[1;33m(\u001b[0m\u001b[0mself\u001b[0m\u001b[1;33m.\u001b[0m\u001b[0mrandom_state\u001b[0m\u001b[1;33m)\u001b[0m\u001b[1;33m\u001b[0m\u001b[1;33m\u001b[0m\u001b[0m\n\u001b[0m\u001b[0;32m    146\u001b[0m \u001b[1;33m\u001b[0m\u001b[0m\n\u001b[0;32m    147\u001b[0m         \u001b[1;32mif\u001b[0m \u001b[0mself\u001b[0m\u001b[1;33m.\u001b[0m\u001b[0mccp_alpha\u001b[0m \u001b[1;33m<\u001b[0m \u001b[1;36m0.0\u001b[0m\u001b[1;33m:\u001b[0m\u001b[1;33m\u001b[0m\u001b[1;33m\u001b[0m\u001b[0m\n",
      "\u001b[1;32mC:\\ProgramData\\Anaconda3\\lib\\site-packages\\sklearn\\utils\\validation.py\u001b[0m in \u001b[0;36mcheck_random_state\u001b[1;34m(seed)\u001b[0m\n\u001b[0;32m    881\u001b[0m         \u001b[1;32mreturn\u001b[0m \u001b[0mnp\u001b[0m\u001b[1;33m.\u001b[0m\u001b[0mrandom\u001b[0m\u001b[1;33m.\u001b[0m\u001b[0mmtrand\u001b[0m\u001b[1;33m.\u001b[0m\u001b[0m_rand\u001b[0m\u001b[1;33m\u001b[0m\u001b[1;33m\u001b[0m\u001b[0m\n\u001b[0;32m    882\u001b[0m     \u001b[1;32mif\u001b[0m \u001b[0misinstance\u001b[0m\u001b[1;33m(\u001b[0m\u001b[0mseed\u001b[0m\u001b[1;33m,\u001b[0m \u001b[0mnumbers\u001b[0m\u001b[1;33m.\u001b[0m\u001b[0mIntegral\u001b[0m\u001b[1;33m)\u001b[0m\u001b[1;33m:\u001b[0m\u001b[1;33m\u001b[0m\u001b[1;33m\u001b[0m\u001b[0m\n\u001b[1;32m--> 883\u001b[1;33m         \u001b[1;32mreturn\u001b[0m \u001b[0mnp\u001b[0m\u001b[1;33m.\u001b[0m\u001b[0mrandom\u001b[0m\u001b[1;33m.\u001b[0m\u001b[0mRandomState\u001b[0m\u001b[1;33m(\u001b[0m\u001b[0mseed\u001b[0m\u001b[1;33m)\u001b[0m\u001b[1;33m\u001b[0m\u001b[1;33m\u001b[0m\u001b[0m\n\u001b[0m\u001b[0;32m    884\u001b[0m     \u001b[1;32mif\u001b[0m \u001b[0misinstance\u001b[0m\u001b[1;33m(\u001b[0m\u001b[0mseed\u001b[0m\u001b[1;33m,\u001b[0m \u001b[0mnp\u001b[0m\u001b[1;33m.\u001b[0m\u001b[0mrandom\u001b[0m\u001b[1;33m.\u001b[0m\u001b[0mRandomState\u001b[0m\u001b[1;33m)\u001b[0m\u001b[1;33m:\u001b[0m\u001b[1;33m\u001b[0m\u001b[1;33m\u001b[0m\u001b[0m\n\u001b[0;32m    885\u001b[0m         \u001b[1;32mreturn\u001b[0m \u001b[0mseed\u001b[0m\u001b[1;33m\u001b[0m\u001b[1;33m\u001b[0m\u001b[0m\n",
      "\u001b[1;32mmtrand.pyx\u001b[0m in \u001b[0;36mnumpy.random.mtrand.RandomState.__init__\u001b[1;34m()\u001b[0m\n",
      "\u001b[1;32m_mt19937.pyx\u001b[0m in \u001b[0;36mnumpy.random._mt19937.MT19937.__init__\u001b[1;34m()\u001b[0m\n",
      "\u001b[1;32mbit_generator.pyx\u001b[0m in \u001b[0;36mnumpy.random.bit_generator.BitGenerator.__init__\u001b[1;34m()\u001b[0m\n",
      "\u001b[1;32mbit_generator.pyx\u001b[0m in \u001b[0;36mnumpy.random.bit_generator.SeedSequence.__init__\u001b[1;34m()\u001b[0m\n",
      "\u001b[1;32mbit_generator.pyx\u001b[0m in \u001b[0;36mnumpy.random.bit_generator.SeedSequence.get_assembled_entropy\u001b[1;34m()\u001b[0m\n",
      "\u001b[1;32m<__array_function__ internals>\u001b[0m in \u001b[0;36mconcatenate\u001b[1;34m(*args, **kwargs)\u001b[0m\n",
      "\u001b[1;31mKeyboardInterrupt\u001b[0m: "
     ]
    }
   ],
   "source": [
    "grid_rf= GridSearchCV(rf, param_grid, cv=3,scoring='f1')\n",
    "grid_rf.fit(X_smote,y_smote)\n",
    "\n",
    "\n",
    "y_grid_rf = grid_rf.predict(X_test)\n",
    "f1_score(y_grid_rf, y_test)"
   ]
  },
  {
   "cell_type": "code",
   "execution_count": null,
   "id": "897252db",
   "metadata": {},
   "outputs": [],
   "source": [
    "grid_rf.best_params_\n"
   ]
  },
  {
   "cell_type": "code",
   "execution_count": null,
   "id": "1b40caeb",
   "metadata": {},
   "outputs": [],
   "source": [
    "param_grid = {'n_estimators': [700,800,900],\n",
    "              'max_features': ['auto'],\n",
    "              'max_depth': [None],\n",
    "              'min_samples_split': [2],\n",
    "              'min_samples_leaf': [1],\n",
    "              'bootstrap': [ True]}"
   ]
  },
  {
   "cell_type": "code",
   "execution_count": null,
   "id": "b8b9cbcc",
   "metadata": {},
   "outputs": [],
   "source": [
    "grid_rf2= GridSearchCV(rf, param_grid, cv=3,scoring='f1')\n",
    "grid_rf2.fit(X_smote,y_smote)\n",
    "\n",
    "\n",
    "y_grid_rf2 = grid_rf2.predict(X_test)\n",
    "f1_score(y_grid_rf2, y_test)"
   ]
  },
  {
   "cell_type": "code",
   "execution_count": null,
   "id": "2d17b3a7",
   "metadata": {},
   "outputs": [],
   "source": [
    "grid_rf2.best_params_"
   ]
  },
  {
   "cell_type": "code",
   "execution_count": null,
   "id": "158d3b96",
   "metadata": {},
   "outputs": [],
   "source": [
    "rf_final = RandomForestClassifier(**grid_rf2.best_params_)\n",
    "rf_final.fit(X_smote,y_smote)\n",
    "\n",
    "\n",
    "y_rf_final = rf_final.predict(X_test)\n",
    "f1_score(y_rf_final, y_test)"
   ]
  },
  {
   "cell_type": "code",
   "execution_count": null,
   "id": "30501af0",
   "metadata": {},
   "outputs": [],
   "source": [
    "gg"
   ]
  },
  {
   "cell_type": "markdown",
   "id": "33562e40",
   "metadata": {},
   "source": [
    "### LOGISTIC REGRESSION"
   ]
  },
  {
   "cell_type": "code",
   "execution_count": null,
   "id": "320fb7c8",
   "metadata": {},
   "outputs": [],
   "source": [
    "log_reg = LogisticRegression(random_state=328)\n",
    "log_reg.fit(X_train,y_train)\n",
    "\n",
    "log_smote = LogisticRegression(random_state=908)\n",
    "log_smote.fit(X_smote,y_smote)\n"
   ]
  },
  {
   "cell_type": "code",
   "execution_count": null,
   "id": "042ab61c",
   "metadata": {},
   "outputs": [],
   "source": [
    "y_log = log_reg.predict(X_test)\n",
    "f1_score(y_log,y_test)"
   ]
  },
  {
   "cell_type": "code",
   "execution_count": null,
   "id": "3674a873",
   "metadata": {},
   "outputs": [],
   "source": [
    "y_log_smote = log_smote.predict(X_test)\n",
    "f1_score(y_log_smote,y_test)"
   ]
  },
  {
   "cell_type": "code",
   "execution_count": null,
   "id": "8d44b18a",
   "metadata": {},
   "outputs": [],
   "source": [
    "param_grid = {\n",
    "              'max_iter':[100, 200, 300],\n",
    "              'C':[1.0, 0.1, 0.01],\n",
    "             }\n",
    "\n",
    "cv = RepeatedStratifiedKFold(n_splits=10, n_repeats=3, random_state=1)"
   ]
  },
  {
   "cell_type": "code",
   "execution_count": null,
   "id": "28f931db",
   "metadata": {},
   "outputs": [],
   "source": [
    "grid_log = GridSearchCV(log_reg, param_grid, cv=cv , scoring='f1')\n",
    "grid_log.fit(X_train,y_train)\n",
    "\n",
    "y_grid_log = grid_log.predict(X_test)\n",
    "f1_score(y_grid_log, y_test)"
   ]
  },
  {
   "cell_type": "code",
   "execution_count": null,
   "id": "a61452b7",
   "metadata": {},
   "outputs": [],
   "source": [
    "grid_log.best_params_"
   ]
  },
  {
   "cell_type": "code",
   "execution_count": null,
   "id": "797c683f",
   "metadata": {},
   "outputs": [],
   "source": [
    "param_grid = {'max_iter':[300,500,700],\n",
    "              'C':[0.1,10, 20, 50, 100],\n",
    "            'penalty' :['l2'],\n",
    "             }\n",
    "grid_log2 = GridSearchCV(log_reg, param_grid, cv=3 , scoring='f1')\n",
    "grid_log2.fit(X_train,y_train)\n",
    "\n",
    "y_grid_log2 = grid_log2.predict(X_test)\n",
    "f1_score(y_grid_log2, y_test)"
   ]
  },
  {
   "cell_type": "code",
   "execution_count": null,
   "id": "6cda09ab",
   "metadata": {
    "scrolled": true
   },
   "outputs": [],
   "source": [
    "grid_log2.best_score_"
   ]
  },
  {
   "cell_type": "code",
   "execution_count": null,
   "id": "cb46675e",
   "metadata": {},
   "outputs": [],
   "source": [
    "X_proc = full_processor.fit_transform(X)\n",
    "X_sub = full_processor.transform(x_sub)\n",
    "\n",
    "X_train, X_test, y_train, y_test = train_test_split(\n",
    "    X_proc, y, stratify=y, random_state=1121218)\n",
    "\n",
    "smote = SMOTE(random_state=786)\n",
    "X_smote, y_smote = smote.fit_resample(X_train, y_train)"
   ]
  },
  {
   "cell_type": "markdown",
   "id": "a60b9d7b",
   "metadata": {},
   "source": [
    "### GRADIENT BOOSTING"
   ]
  },
  {
   "cell_type": "code",
   "execution_count": null,
   "id": "f1c620cb",
   "metadata": {
    "scrolled": true
   },
   "outputs": [],
   "source": [
    "gb = GradientBoostingClassifier(max_depth=2, n_estimators=500, max_features='auto', loss='exponential', random_state=6)\n",
    "gb.fit(X_smote, y_smote)\n",
    "\n"
   ]
  },
  {
   "cell_type": "code",
   "execution_count": null,
   "id": "863155fc",
   "metadata": {},
   "outputs": [],
   "source": [
    "y_gb = gb.predict(X_test)\n",
    "f1_score(y_gb, y_test)"
   ]
  },
  {
   "cell_type": "code",
   "execution_count": null,
   "id": "4e16f09a",
   "metadata": {},
   "outputs": [],
   "source": [
    "param_grid = {\n",
    "\n",
    "    \"learning_rate\": [0.1, 0.01, 0.05],\n",
    "  \n",
    "}"
   ]
  },
  {
   "cell_type": "code",
   "execution_count": null,
   "id": "67874153",
   "metadata": {},
   "outputs": [],
   "source": [
    "grid_gb= GridSearchCV(gb, param_grid, cv=3,scoring='f1')\n",
    "grid_gb.fit(X_train,y_train)\n",
    "\n",
    "\n",
    "y_grid_gb = grid_gb.predict(X_test)\n",
    "f1_score(y_grid_gb, y_test)"
   ]
  },
  {
   "cell_type": "code",
   "execution_count": null,
   "id": "0a2bcec8",
   "metadata": {},
   "outputs": [],
   "source": [
    "grid_gb.best_score_"
   ]
  },
  {
   "cell_type": "code",
   "execution_count": null,
   "id": "5e9a280c",
   "metadata": {
    "scrolled": true
   },
   "outputs": [],
   "source": [
    "grid_gb.best_params_"
   ]
  },
  {
   "cell_type": "code",
   "execution_count": null,
   "id": "6f5889ee",
   "metadata": {},
   "outputs": [],
   "source": [
    "param_grid = {\n",
    "    \"max_depth\": [3],\n",
    "    \"n_estimators\": [200],\n",
    "    \"max_features\": ['log2'],\n",
    "    \"learning_rate\": [0.1],\n",
    "    \"loss\": ['deviance']\n",
    "}"
   ]
  },
  {
   "cell_type": "code",
   "execution_count": null,
   "id": "879ecfd0",
   "metadata": {},
   "outputs": [],
   "source": [
    "grid_gb2 = GridSearchCV(gb, param_grid, cv=3,scoring='f1')\n",
    "grid_gb2.fit(X_train,y_train)\n",
    "\n",
    "\n",
    "y_grid_gb2= grid_gb2.predict(X_test)\n",
    "f1_score(y_grid_gb2, y_test)"
   ]
  },
  {
   "cell_type": "code",
   "execution_count": null,
   "id": "96797398",
   "metadata": {},
   "outputs": [],
   "source": [
    "grid_gb2.best_params_"
   ]
  },
  {
   "cell_type": "code",
   "execution_count": null,
   "id": "0d65760b",
   "metadata": {},
   "outputs": [],
   "source": [
    "grid_gb2.best_score_"
   ]
  },
  {
   "cell_type": "markdown",
   "id": "547f564a",
   "metadata": {},
   "source": [
    "### XGBOOST"
   ]
  },
  {
   "cell_type": "code",
   "execution_count": null,
   "id": "d636af77",
   "metadata": {},
   "outputs": [],
   "source": [
    "import xgboost as xgb"
   ]
  },
  {
   "cell_type": "code",
   "execution_count": null,
   "id": "f9e1cf43",
   "metadata": {
    "scrolled": true
   },
   "outputs": [],
   "source": [
    "xgb = xgb.XGBClassifier(use_label_encoder=False, eval_metric='mlogloss')\n",
    "xgb.fit(X_smote,y_smote)\n",
    "\n",
    "y_xgp =  xgb.predict(X_test)\n",
    "f1_score(y_xgp,y_test)"
   ]
  },
  {
   "cell_type": "code",
   "execution_count": null,
   "id": "c3bfece9",
   "metadata": {},
   "outputs": [],
   "source": [
    "param_grid = {\n",
    "    \"max_depth\": [3, 4, 5, 7],\n",
    "    \"learning_rate\": [0.1, 0.01, 0.05],\n",
    "    \"gamma\": [0, 0.25, 1],\n",
    "    \"reg_lambda\": [0, 1, 10],\n",
    "    \"scale_pos_weight\": [1, 3, 5],\n",
    "    \"subsample\": [0.8],\n",
    "    \"colsample_bytree\": [0.5],\n",
    "    \"n_estimators\":[10,20,30]\n",
    "}"
   ]
  },
  {
   "cell_type": "code",
   "execution_count": null,
   "id": "58a10f15",
   "metadata": {
    "scrolled": true
   },
   "outputs": [],
   "source": [
    "grid_xgb= GridSearchCV(xgb, param_grid, cv=3,scoring='f1')\n",
    "grid_xgb.fit(X_smote,y_smote)\n"
   ]
  },
  {
   "cell_type": "code",
   "execution_count": null,
   "id": "33b996f3",
   "metadata": {},
   "outputs": [],
   "source": [
    "y_grid_xgb =  grid_xgb.predict(X_test)\n",
    "f1_score(y_grid_xgb,y_test)\n"
   ]
  },
  {
   "cell_type": "code",
   "execution_count": null,
   "id": "27caf2a8",
   "metadata": {
    "scrolled": true
   },
   "outputs": [],
   "source": [
    "grid_xgb.best_params_"
   ]
  },
  {
   "cell_type": "code",
   "execution_count": null,
   "id": "53e4e064",
   "metadata": {
    "scrolled": true
   },
   "outputs": [],
   "source": [
    "grid_xgb.best_score_"
   ]
  },
  {
   "cell_type": "code",
   "execution_count": null,
   "id": "4537ea5f",
   "metadata": {},
   "outputs": [],
   "source": [
    "pd.DataFrame(grid_xgb.cv_results_).sort_values"
   ]
  },
  {
   "cell_type": "code",
   "execution_count": null,
   "id": "017a431e",
   "metadata": {},
   "outputs": [],
   "source": [
    "param_grid = {\n",
    "    \"max_depth\": [10,11,12],\n",
    "    \"learning_rate\": [0.05],\n",
    "    \"gamma\": [0.25],\n",
    "    \"reg_lambda\": [0],\n",
    "    \"scale_pos_weight\": [1],\n",
    "    \"subsample\": [0.8],\n",
    "    \"colsample_bytree\": [0.5],\n",
    "}"
   ]
  },
  {
   "cell_type": "code",
   "execution_count": null,
   "id": "a911a1d6",
   "metadata": {},
   "outputs": [],
   "source": [
    "grid_xgb2= GridSearchCV(xgb, param_grid, cv=3, scoring='f1')\n",
    "grid_xgb2.fit(X_smote,y_smote)\n"
   ]
  },
  {
   "cell_type": "code",
   "execution_count": null,
   "id": "95c835ec",
   "metadata": {},
   "outputs": [],
   "source": [
    "y_grid_xgb2=grid_xgb2.predict(X_test)\n",
    "f1_score(y_grid_xgb2,y_test)\n"
   ]
  },
  {
   "cell_type": "code",
   "execution_count": null,
   "id": "81b8dba4",
   "metadata": {},
   "outputs": [],
   "source": [
    "grid_xgb2.best_params_"
   ]
  },
  {
   "cell_type": "code",
   "execution_count": null,
   "id": "61e59dd2",
   "metadata": {},
   "outputs": [],
   "source": [
    "grid_xgb2.best_score_"
   ]
  },
  {
   "cell_type": "code",
   "execution_count": null,
   "id": "26dde7a3",
   "metadata": {},
   "outputs": [],
   "source": [
    "import xgboost as xgb"
   ]
  },
  {
   "cell_type": "code",
   "execution_count": null,
   "id": "62b4fd16",
   "metadata": {},
   "outputs": [],
   "source": [
    "final_xgb = xgb.XGBClassifier(**grid_xgb.best_params_, use_label_encoder=False, eval_metric='mlogloss')\n",
    "\n"
   ]
  },
  {
   "cell_type": "code",
   "execution_count": null,
   "id": "05315be1",
   "metadata": {
    "scrolled": true
   },
   "outputs": [],
   "source": [
    "final_xgb.fit(X_train,y_train)\n",
    "y_fxgb = final_xgb.predict(X_test)\n",
    "f1_score(y_fxgb, y_test)"
   ]
  },
  {
   "cell_type": "markdown",
   "id": "46bdf526",
   "metadata": {},
   "source": [
    "### CAT BOOST"
   ]
  },
  {
   "cell_type": "code",
   "execution_count": 61,
   "id": "81b0284a",
   "metadata": {},
   "outputs": [],
   "source": [
    "import lightgbm as lgb  \n",
    "from catboost import CatBoostClassifier\n",
    "from sklearn.metrics import f1_score\n",
    "\n",
    "cat_mod=CatBoostClassifier(random_state=100)\n",
    "\n"
   ]
  },
  {
   "cell_type": "code",
   "execution_count": 62,
   "id": "ff0ae815",
   "metadata": {},
   "outputs": [
    {
     "name": "stderr",
     "output_type": "stream",
     "text": [
      "You should provide test set for use best model. use_best_model parameter has been switched to false value.\n"
     ]
    },
    {
     "name": "stdout",
     "output_type": "stream",
     "text": [
      "Learning rate set to 0.013797\n",
      "0:\tlearn: 0.6814789\ttotal: 149ms\tremaining: 2m 28s\n",
      "1:\tlearn: 0.6723450\ttotal: 155ms\tremaining: 1m 17s\n",
      "2:\tlearn: 0.6631072\ttotal: 162ms\tremaining: 53.7s\n",
      "3:\tlearn: 0.6560748\ttotal: 168ms\tremaining: 41.8s\n",
      "4:\tlearn: 0.6469740\ttotal: 174ms\tremaining: 34.7s\n",
      "5:\tlearn: 0.6385356\ttotal: 180ms\tremaining: 29.9s\n",
      "6:\tlearn: 0.6306359\ttotal: 186ms\tremaining: 26.4s\n",
      "7:\tlearn: 0.6212124\ttotal: 193ms\tremaining: 24s\n",
      "8:\tlearn: 0.6127969\ttotal: 200ms\tremaining: 22s\n",
      "9:\tlearn: 0.6068325\ttotal: 206ms\tremaining: 20.4s\n",
      "10:\tlearn: 0.5994361\ttotal: 213ms\tremaining: 19.1s\n",
      "11:\tlearn: 0.5929055\ttotal: 219ms\tremaining: 18s\n",
      "12:\tlearn: 0.5852893\ttotal: 225ms\tremaining: 17.1s\n",
      "13:\tlearn: 0.5779506\ttotal: 232ms\tremaining: 16.3s\n",
      "14:\tlearn: 0.5718965\ttotal: 239ms\tremaining: 15.7s\n",
      "15:\tlearn: 0.5650910\ttotal: 245ms\tremaining: 15.1s\n",
      "16:\tlearn: 0.5589495\ttotal: 251ms\tremaining: 14.5s\n",
      "17:\tlearn: 0.5524263\ttotal: 257ms\tremaining: 14s\n",
      "18:\tlearn: 0.5459401\ttotal: 264ms\tremaining: 13.6s\n",
      "19:\tlearn: 0.5406035\ttotal: 270ms\tremaining: 13.2s\n",
      "20:\tlearn: 0.5342941\ttotal: 276ms\tremaining: 12.8s\n",
      "21:\tlearn: 0.5295274\ttotal: 282ms\tremaining: 12.5s\n",
      "22:\tlearn: 0.5241863\ttotal: 288ms\tremaining: 12.2s\n",
      "23:\tlearn: 0.5183809\ttotal: 293ms\tremaining: 11.9s\n",
      "24:\tlearn: 0.5136786\ttotal: 300ms\tremaining: 11.7s\n",
      "25:\tlearn: 0.5089008\ttotal: 306ms\tremaining: 11.4s\n",
      "26:\tlearn: 0.5049192\ttotal: 311ms\tremaining: 11.2s\n",
      "27:\tlearn: 0.5002319\ttotal: 317ms\tremaining: 11s\n",
      "28:\tlearn: 0.4950073\ttotal: 323ms\tremaining: 10.8s\n",
      "29:\tlearn: 0.4905287\ttotal: 329ms\tremaining: 10.6s\n",
      "30:\tlearn: 0.4859434\ttotal: 335ms\tremaining: 10.5s\n",
      "31:\tlearn: 0.4807003\ttotal: 340ms\tremaining: 10.3s\n",
      "32:\tlearn: 0.4765349\ttotal: 346ms\tremaining: 10.1s\n",
      "33:\tlearn: 0.4726005\ttotal: 351ms\tremaining: 9.96s\n",
      "34:\tlearn: 0.4691339\ttotal: 356ms\tremaining: 9.81s\n",
      "35:\tlearn: 0.4650784\ttotal: 361ms\tremaining: 9.67s\n",
      "36:\tlearn: 0.4616535\ttotal: 366ms\tremaining: 9.54s\n",
      "37:\tlearn: 0.4582962\ttotal: 372ms\tremaining: 9.41s\n",
      "38:\tlearn: 0.4545466\ttotal: 377ms\tremaining: 9.29s\n",
      "39:\tlearn: 0.4506907\ttotal: 383ms\tremaining: 9.2s\n",
      "40:\tlearn: 0.4476768\ttotal: 389ms\tremaining: 9.09s\n",
      "41:\tlearn: 0.4441059\ttotal: 394ms\tremaining: 9s\n",
      "42:\tlearn: 0.4413522\ttotal: 400ms\tremaining: 8.89s\n",
      "43:\tlearn: 0.4374487\ttotal: 405ms\tremaining: 8.8s\n",
      "44:\tlearn: 0.4342470\ttotal: 411ms\tremaining: 8.72s\n",
      "45:\tlearn: 0.4303705\ttotal: 417ms\tremaining: 8.64s\n",
      "46:\tlearn: 0.4270768\ttotal: 422ms\tremaining: 8.56s\n",
      "47:\tlearn: 0.4239344\ttotal: 427ms\tremaining: 8.47s\n",
      "48:\tlearn: 0.4210181\ttotal: 432ms\tremaining: 8.39s\n",
      "49:\tlearn: 0.4184592\ttotal: 438ms\tremaining: 8.31s\n",
      "50:\tlearn: 0.4159054\ttotal: 443ms\tremaining: 8.24s\n",
      "51:\tlearn: 0.4134604\ttotal: 448ms\tremaining: 8.18s\n",
      "52:\tlearn: 0.4107171\ttotal: 454ms\tremaining: 8.11s\n",
      "53:\tlearn: 0.4077162\ttotal: 459ms\tremaining: 8.04s\n",
      "54:\tlearn: 0.4048814\ttotal: 464ms\tremaining: 7.97s\n",
      "55:\tlearn: 0.4024780\ttotal: 469ms\tremaining: 7.91s\n",
      "56:\tlearn: 0.3996375\ttotal: 474ms\tremaining: 7.84s\n",
      "57:\tlearn: 0.3976066\ttotal: 479ms\tremaining: 7.78s\n",
      "58:\tlearn: 0.3952306\ttotal: 484ms\tremaining: 7.72s\n",
      "59:\tlearn: 0.3933565\ttotal: 489ms\tremaining: 7.67s\n",
      "60:\tlearn: 0.3911630\ttotal: 494ms\tremaining: 7.61s\n",
      "61:\tlearn: 0.3887220\ttotal: 500ms\tremaining: 7.56s\n",
      "62:\tlearn: 0.3867112\ttotal: 505ms\tremaining: 7.51s\n",
      "63:\tlearn: 0.3846540\ttotal: 510ms\tremaining: 7.46s\n",
      "64:\tlearn: 0.3826202\ttotal: 516ms\tremaining: 7.42s\n",
      "65:\tlearn: 0.3801404\ttotal: 521ms\tremaining: 7.37s\n",
      "66:\tlearn: 0.3778447\ttotal: 526ms\tremaining: 7.33s\n",
      "67:\tlearn: 0.3756041\ttotal: 532ms\tremaining: 7.29s\n",
      "68:\tlearn: 0.3735587\ttotal: 537ms\tremaining: 7.24s\n",
      "69:\tlearn: 0.3712007\ttotal: 542ms\tremaining: 7.2s\n",
      "70:\tlearn: 0.3686942\ttotal: 547ms\tremaining: 7.16s\n",
      "71:\tlearn: 0.3663475\ttotal: 553ms\tremaining: 7.12s\n",
      "72:\tlearn: 0.3640834\ttotal: 558ms\tremaining: 7.08s\n",
      "73:\tlearn: 0.3622225\ttotal: 563ms\tremaining: 7.04s\n",
      "74:\tlearn: 0.3599164\ttotal: 568ms\tremaining: 7.01s\n",
      "75:\tlearn: 0.3582433\ttotal: 574ms\tremaining: 6.98s\n",
      "76:\tlearn: 0.3562934\ttotal: 580ms\tremaining: 6.95s\n",
      "77:\tlearn: 0.3543089\ttotal: 586ms\tremaining: 6.92s\n",
      "78:\tlearn: 0.3526273\ttotal: 591ms\tremaining: 6.89s\n",
      "79:\tlearn: 0.3507829\ttotal: 597ms\tremaining: 6.87s\n",
      "80:\tlearn: 0.3493902\ttotal: 603ms\tremaining: 6.84s\n",
      "81:\tlearn: 0.3472759\ttotal: 608ms\tremaining: 6.81s\n",
      "82:\tlearn: 0.3453227\ttotal: 614ms\tremaining: 6.79s\n",
      "83:\tlearn: 0.3437442\ttotal: 620ms\tremaining: 6.76s\n",
      "84:\tlearn: 0.3421684\ttotal: 625ms\tremaining: 6.73s\n",
      "85:\tlearn: 0.3407071\ttotal: 630ms\tremaining: 6.7s\n",
      "86:\tlearn: 0.3388635\ttotal: 636ms\tremaining: 6.67s\n",
      "87:\tlearn: 0.3370390\ttotal: 641ms\tremaining: 6.64s\n",
      "88:\tlearn: 0.3355798\ttotal: 646ms\tremaining: 6.61s\n",
      "89:\tlearn: 0.3343167\ttotal: 651ms\tremaining: 6.58s\n",
      "90:\tlearn: 0.3330648\ttotal: 656ms\tremaining: 6.56s\n",
      "91:\tlearn: 0.3316186\ttotal: 662ms\tremaining: 6.53s\n",
      "92:\tlearn: 0.3298062\ttotal: 667ms\tremaining: 6.5s\n",
      "93:\tlearn: 0.3278917\ttotal: 672ms\tremaining: 6.48s\n",
      "94:\tlearn: 0.3269087\ttotal: 678ms\tremaining: 6.45s\n",
      "95:\tlearn: 0.3251679\ttotal: 683ms\tremaining: 6.43s\n",
      "96:\tlearn: 0.3239911\ttotal: 688ms\tremaining: 6.41s\n",
      "97:\tlearn: 0.3222837\ttotal: 694ms\tremaining: 6.39s\n",
      "98:\tlearn: 0.3210021\ttotal: 699ms\tremaining: 6.36s\n",
      "99:\tlearn: 0.3193541\ttotal: 705ms\tremaining: 6.34s\n",
      "100:\tlearn: 0.3178007\ttotal: 710ms\tremaining: 6.32s\n",
      "101:\tlearn: 0.3163189\ttotal: 715ms\tremaining: 6.3s\n",
      "102:\tlearn: 0.3152053\ttotal: 721ms\tremaining: 6.28s\n",
      "103:\tlearn: 0.3136426\ttotal: 726ms\tremaining: 6.25s\n",
      "104:\tlearn: 0.3122056\ttotal: 731ms\tremaining: 6.23s\n",
      "105:\tlearn: 0.3105872\ttotal: 737ms\tremaining: 6.21s\n",
      "106:\tlearn: 0.3093602\ttotal: 742ms\tremaining: 6.19s\n",
      "107:\tlearn: 0.3081384\ttotal: 747ms\tremaining: 6.17s\n",
      "108:\tlearn: 0.3071143\ttotal: 753ms\tremaining: 6.15s\n",
      "109:\tlearn: 0.3058390\ttotal: 759ms\tremaining: 6.14s\n",
      "110:\tlearn: 0.3045653\ttotal: 764ms\tremaining: 6.12s\n",
      "111:\tlearn: 0.3032206\ttotal: 770ms\tremaining: 6.1s\n",
      "112:\tlearn: 0.3020301\ttotal: 776ms\tremaining: 6.09s\n",
      "113:\tlearn: 0.3009157\ttotal: 781ms\tremaining: 6.07s\n",
      "114:\tlearn: 0.2992166\ttotal: 787ms\tremaining: 6.05s\n",
      "115:\tlearn: 0.2979485\ttotal: 793ms\tremaining: 6.04s\n",
      "116:\tlearn: 0.2968548\ttotal: 799ms\tremaining: 6.03s\n",
      "117:\tlearn: 0.2956437\ttotal: 805ms\tremaining: 6.02s\n",
      "118:\tlearn: 0.2944743\ttotal: 811ms\tremaining: 6s\n",
      "119:\tlearn: 0.2933788\ttotal: 816ms\tremaining: 5.98s\n",
      "120:\tlearn: 0.2921695\ttotal: 822ms\tremaining: 5.97s\n",
      "121:\tlearn: 0.2908710\ttotal: 828ms\tremaining: 5.96s\n",
      "122:\tlearn: 0.2894932\ttotal: 834ms\tremaining: 5.94s\n",
      "123:\tlearn: 0.2882806\ttotal: 840ms\tremaining: 5.93s\n",
      "124:\tlearn: 0.2872519\ttotal: 846ms\tremaining: 5.92s\n",
      "125:\tlearn: 0.2862981\ttotal: 852ms\tremaining: 5.91s\n",
      "126:\tlearn: 0.2851676\ttotal: 857ms\tremaining: 5.89s\n",
      "127:\tlearn: 0.2839230\ttotal: 863ms\tremaining: 5.88s\n",
      "128:\tlearn: 0.2828051\ttotal: 868ms\tremaining: 5.86s\n",
      "129:\tlearn: 0.2821016\ttotal: 873ms\tremaining: 5.84s\n",
      "130:\tlearn: 0.2813430\ttotal: 879ms\tremaining: 5.83s\n",
      "131:\tlearn: 0.2801296\ttotal: 885ms\tremaining: 5.82s\n",
      "132:\tlearn: 0.2791451\ttotal: 890ms\tremaining: 5.8s\n",
      "133:\tlearn: 0.2778379\ttotal: 896ms\tremaining: 5.79s\n",
      "134:\tlearn: 0.2768827\ttotal: 902ms\tremaining: 5.78s\n",
      "135:\tlearn: 0.2758940\ttotal: 907ms\tremaining: 5.76s\n",
      "136:\tlearn: 0.2748307\ttotal: 913ms\tremaining: 5.75s\n",
      "137:\tlearn: 0.2736453\ttotal: 918ms\tremaining: 5.74s\n",
      "138:\tlearn: 0.2726223\ttotal: 924ms\tremaining: 5.72s\n",
      "139:\tlearn: 0.2720072\ttotal: 930ms\tremaining: 5.71s\n",
      "140:\tlearn: 0.2711660\ttotal: 937ms\tremaining: 5.71s\n",
      "141:\tlearn: 0.2705817\ttotal: 942ms\tremaining: 5.69s\n",
      "142:\tlearn: 0.2695145\ttotal: 948ms\tremaining: 5.68s\n",
      "143:\tlearn: 0.2684923\ttotal: 954ms\tremaining: 5.67s\n",
      "144:\tlearn: 0.2675896\ttotal: 959ms\tremaining: 5.65s\n",
      "145:\tlearn: 0.2664866\ttotal: 965ms\tremaining: 5.64s\n",
      "146:\tlearn: 0.2658271\ttotal: 971ms\tremaining: 5.63s\n",
      "147:\tlearn: 0.2650019\ttotal: 977ms\tremaining: 5.62s\n",
      "148:\tlearn: 0.2642233\ttotal: 982ms\tremaining: 5.61s\n",
      "149:\tlearn: 0.2634119\ttotal: 987ms\tremaining: 5.59s\n",
      "150:\tlearn: 0.2626486\ttotal: 993ms\tremaining: 5.58s\n",
      "151:\tlearn: 0.2618932\ttotal: 998ms\tremaining: 5.57s\n",
      "152:\tlearn: 0.2608996\ttotal: 1s\tremaining: 5.55s\n",
      "153:\tlearn: 0.2599317\ttotal: 1.01s\tremaining: 5.54s\n",
      "154:\tlearn: 0.2592171\ttotal: 1.01s\tremaining: 5.53s\n",
      "155:\tlearn: 0.2583216\ttotal: 1.02s\tremaining: 5.51s\n",
      "156:\tlearn: 0.2576074\ttotal: 1.02s\tremaining: 5.5s\n",
      "157:\tlearn: 0.2566222\ttotal: 1.03s\tremaining: 5.49s\n",
      "158:\tlearn: 0.2555922\ttotal: 1.03s\tremaining: 5.47s\n",
      "159:\tlearn: 0.2548051\ttotal: 1.04s\tremaining: 5.46s\n",
      "160:\tlearn: 0.2537292\ttotal: 1.05s\tremaining: 5.45s\n",
      "161:\tlearn: 0.2527794\ttotal: 1.05s\tremaining: 5.44s\n",
      "162:\tlearn: 0.2522005\ttotal: 1.06s\tremaining: 5.43s\n",
      "163:\tlearn: 0.2513999\ttotal: 1.06s\tremaining: 5.42s\n",
      "164:\tlearn: 0.2506986\ttotal: 1.07s\tremaining: 5.41s\n",
      "165:\tlearn: 0.2502342\ttotal: 1.07s\tremaining: 5.39s\n",
      "166:\tlearn: 0.2497581\ttotal: 1.08s\tremaining: 5.38s\n",
      "167:\tlearn: 0.2492885\ttotal: 1.08s\tremaining: 5.37s\n",
      "168:\tlearn: 0.2482441\ttotal: 1.09s\tremaining: 5.36s\n",
      "169:\tlearn: 0.2475697\ttotal: 1.09s\tremaining: 5.34s\n",
      "170:\tlearn: 0.2467862\ttotal: 1.1s\tremaining: 5.33s\n",
      "171:\tlearn: 0.2461599\ttotal: 1.1s\tremaining: 5.32s\n",
      "172:\tlearn: 0.2455892\ttotal: 1.11s\tremaining: 5.31s\n"
     ]
    },
    {
     "name": "stdout",
     "output_type": "stream",
     "text": [
      "173:\tlearn: 0.2450107\ttotal: 1.12s\tremaining: 5.3s\n",
      "174:\tlearn: 0.2443698\ttotal: 1.12s\tremaining: 5.29s\n",
      "175:\tlearn: 0.2437121\ttotal: 1.13s\tremaining: 5.28s\n",
      "176:\tlearn: 0.2430262\ttotal: 1.13s\tremaining: 5.27s\n",
      "177:\tlearn: 0.2422515\ttotal: 1.14s\tremaining: 5.26s\n",
      "178:\tlearn: 0.2414788\ttotal: 1.15s\tremaining: 5.26s\n",
      "179:\tlearn: 0.2406392\ttotal: 1.15s\tremaining: 5.25s\n",
      "180:\tlearn: 0.2401151\ttotal: 1.16s\tremaining: 5.24s\n",
      "181:\tlearn: 0.2392461\ttotal: 1.16s\tremaining: 5.23s\n",
      "182:\tlearn: 0.2383621\ttotal: 1.17s\tremaining: 5.22s\n",
      "183:\tlearn: 0.2375945\ttotal: 1.17s\tremaining: 5.21s\n",
      "184:\tlearn: 0.2369714\ttotal: 1.18s\tremaining: 5.2s\n",
      "185:\tlearn: 0.2362693\ttotal: 1.19s\tremaining: 5.19s\n",
      "186:\tlearn: 0.2356961\ttotal: 1.19s\tremaining: 5.18s\n",
      "187:\tlearn: 0.2350441\ttotal: 1.2s\tremaining: 5.17s\n",
      "188:\tlearn: 0.2345828\ttotal: 1.2s\tremaining: 5.16s\n",
      "189:\tlearn: 0.2341175\ttotal: 1.21s\tremaining: 5.15s\n",
      "190:\tlearn: 0.2336165\ttotal: 1.21s\tremaining: 5.14s\n",
      "191:\tlearn: 0.2331647\ttotal: 1.22s\tremaining: 5.13s\n",
      "192:\tlearn: 0.2326062\ttotal: 1.22s\tremaining: 5.12s\n",
      "193:\tlearn: 0.2316432\ttotal: 1.23s\tremaining: 5.11s\n",
      "194:\tlearn: 0.2310201\ttotal: 1.24s\tremaining: 5.1s\n",
      "195:\tlearn: 0.2305127\ttotal: 1.24s\tremaining: 5.09s\n",
      "196:\tlearn: 0.2298145\ttotal: 1.25s\tremaining: 5.08s\n",
      "197:\tlearn: 0.2291765\ttotal: 1.25s\tremaining: 5.07s\n",
      "198:\tlearn: 0.2286054\ttotal: 1.26s\tremaining: 5.06s\n",
      "199:\tlearn: 0.2281755\ttotal: 1.26s\tremaining: 5.05s\n",
      "200:\tlearn: 0.2273908\ttotal: 1.27s\tremaining: 5.04s\n",
      "201:\tlearn: 0.2267788\ttotal: 1.27s\tremaining: 5.03s\n",
      "202:\tlearn: 0.2259363\ttotal: 1.28s\tremaining: 5.02s\n",
      "203:\tlearn: 0.2251581\ttotal: 1.28s\tremaining: 5.01s\n",
      "204:\tlearn: 0.2245839\ttotal: 1.29s\tremaining: 5s\n",
      "205:\tlearn: 0.2240409\ttotal: 1.29s\tremaining: 4.99s\n",
      "206:\tlearn: 0.2234661\ttotal: 1.3s\tremaining: 4.99s\n",
      "207:\tlearn: 0.2228926\ttotal: 1.31s\tremaining: 4.98s\n",
      "208:\tlearn: 0.2224823\ttotal: 1.31s\tremaining: 4.97s\n",
      "209:\tlearn: 0.2216100\ttotal: 1.32s\tremaining: 4.97s\n",
      "210:\tlearn: 0.2210677\ttotal: 1.33s\tremaining: 4.96s\n",
      "211:\tlearn: 0.2204220\ttotal: 1.33s\tremaining: 4.95s\n",
      "212:\tlearn: 0.2196132\ttotal: 1.34s\tremaining: 4.95s\n",
      "213:\tlearn: 0.2188691\ttotal: 1.34s\tremaining: 4.93s\n",
      "214:\tlearn: 0.2184181\ttotal: 1.35s\tremaining: 4.92s\n",
      "215:\tlearn: 0.2180023\ttotal: 1.35s\tremaining: 4.92s\n",
      "216:\tlearn: 0.2173154\ttotal: 1.36s\tremaining: 4.91s\n",
      "217:\tlearn: 0.2169838\ttotal: 1.36s\tremaining: 4.9s\n",
      "218:\tlearn: 0.2165534\ttotal: 1.37s\tremaining: 4.89s\n",
      "219:\tlearn: 0.2159631\ttotal: 1.38s\tremaining: 4.88s\n",
      "220:\tlearn: 0.2156374\ttotal: 1.38s\tremaining: 4.87s\n",
      "221:\tlearn: 0.2151072\ttotal: 1.39s\tremaining: 4.86s\n",
      "222:\tlearn: 0.2145565\ttotal: 1.39s\tremaining: 4.85s\n",
      "223:\tlearn: 0.2140043\ttotal: 1.4s\tremaining: 4.85s\n",
      "224:\tlearn: 0.2132360\ttotal: 1.4s\tremaining: 4.84s\n",
      "225:\tlearn: 0.2128279\ttotal: 1.41s\tremaining: 4.83s\n",
      "226:\tlearn: 0.2121604\ttotal: 1.42s\tremaining: 4.82s\n",
      "227:\tlearn: 0.2117568\ttotal: 1.42s\tremaining: 4.81s\n",
      "228:\tlearn: 0.2113145\ttotal: 1.43s\tremaining: 4.8s\n",
      "229:\tlearn: 0.2108012\ttotal: 1.43s\tremaining: 4.79s\n",
      "230:\tlearn: 0.2102882\ttotal: 1.44s\tremaining: 4.79s\n",
      "231:\tlearn: 0.2096060\ttotal: 1.44s\tremaining: 4.78s\n",
      "232:\tlearn: 0.2091125\ttotal: 1.45s\tremaining: 4.77s\n",
      "233:\tlearn: 0.2086224\ttotal: 1.45s\tremaining: 4.76s\n",
      "234:\tlearn: 0.2080682\ttotal: 1.46s\tremaining: 4.75s\n",
      "235:\tlearn: 0.2075778\ttotal: 1.47s\tremaining: 4.74s\n",
      "236:\tlearn: 0.2072528\ttotal: 1.47s\tremaining: 4.73s\n",
      "237:\tlearn: 0.2068493\ttotal: 1.48s\tremaining: 4.73s\n",
      "238:\tlearn: 0.2063768\ttotal: 1.48s\tremaining: 4.72s\n",
      "239:\tlearn: 0.2057658\ttotal: 1.49s\tremaining: 4.71s\n",
      "240:\tlearn: 0.2054624\ttotal: 1.49s\tremaining: 4.71s\n",
      "241:\tlearn: 0.2050857\ttotal: 1.5s\tremaining: 4.7s\n",
      "242:\tlearn: 0.2047610\ttotal: 1.5s\tremaining: 4.69s\n",
      "243:\tlearn: 0.2042997\ttotal: 1.51s\tremaining: 4.68s\n",
      "244:\tlearn: 0.2036671\ttotal: 1.52s\tremaining: 4.68s\n",
      "245:\tlearn: 0.2031808\ttotal: 1.52s\tremaining: 4.67s\n",
      "246:\tlearn: 0.2026421\ttotal: 1.53s\tremaining: 4.66s\n",
      "247:\tlearn: 0.2021517\ttotal: 1.53s\tremaining: 4.65s\n",
      "248:\tlearn: 0.2018799\ttotal: 1.54s\tremaining: 4.64s\n",
      "249:\tlearn: 0.2014721\ttotal: 1.54s\tremaining: 4.64s\n",
      "250:\tlearn: 0.2010725\ttotal: 1.55s\tremaining: 4.63s\n",
      "251:\tlearn: 0.2006717\ttotal: 1.56s\tremaining: 4.62s\n",
      "252:\tlearn: 0.1998816\ttotal: 1.56s\tremaining: 4.61s\n",
      "253:\tlearn: 0.1993258\ttotal: 1.57s\tremaining: 4.6s\n",
      "254:\tlearn: 0.1989558\ttotal: 1.57s\tremaining: 4.59s\n",
      "255:\tlearn: 0.1985845\ttotal: 1.58s\tremaining: 4.59s\n",
      "256:\tlearn: 0.1980487\ttotal: 1.58s\tremaining: 4.58s\n",
      "257:\tlearn: 0.1974436\ttotal: 1.59s\tremaining: 4.57s\n",
      "258:\tlearn: 0.1968958\ttotal: 1.59s\tremaining: 4.56s\n",
      "259:\tlearn: 0.1963418\ttotal: 1.6s\tremaining: 4.55s\n",
      "260:\tlearn: 0.1959515\ttotal: 1.6s\tremaining: 4.55s\n",
      "261:\tlearn: 0.1957426\ttotal: 1.61s\tremaining: 4.54s\n",
      "262:\tlearn: 0.1953190\ttotal: 1.62s\tremaining: 4.53s\n",
      "263:\tlearn: 0.1949813\ttotal: 1.62s\tremaining: 4.52s\n",
      "264:\tlearn: 0.1944311\ttotal: 1.63s\tremaining: 4.51s\n",
      "265:\tlearn: 0.1940925\ttotal: 1.63s\tremaining: 4.5s\n",
      "266:\tlearn: 0.1936223\ttotal: 1.64s\tremaining: 4.5s\n",
      "267:\tlearn: 0.1932224\ttotal: 1.64s\tremaining: 4.49s\n",
      "268:\tlearn: 0.1927325\ttotal: 1.65s\tremaining: 4.49s\n",
      "269:\tlearn: 0.1923237\ttotal: 1.66s\tremaining: 4.48s\n",
      "270:\tlearn: 0.1919161\ttotal: 1.66s\tremaining: 4.47s\n",
      "271:\tlearn: 0.1914928\ttotal: 1.67s\tremaining: 4.46s\n",
      "272:\tlearn: 0.1909965\ttotal: 1.67s\tremaining: 4.46s\n",
      "273:\tlearn: 0.1905267\ttotal: 1.69s\tremaining: 4.48s\n",
      "274:\tlearn: 0.1900594\ttotal: 1.7s\tremaining: 4.48s\n",
      "275:\tlearn: 0.1895119\ttotal: 1.7s\tremaining: 4.47s\n",
      "276:\tlearn: 0.1891834\ttotal: 1.71s\tremaining: 4.46s\n",
      "277:\tlearn: 0.1887814\ttotal: 1.72s\tremaining: 4.45s\n",
      "278:\tlearn: 0.1884331\ttotal: 1.72s\tremaining: 4.45s\n",
      "279:\tlearn: 0.1878567\ttotal: 1.73s\tremaining: 4.44s\n",
      "280:\tlearn: 0.1871990\ttotal: 1.73s\tremaining: 4.43s\n",
      "281:\tlearn: 0.1867781\ttotal: 1.74s\tremaining: 4.42s\n",
      "282:\tlearn: 0.1864422\ttotal: 1.74s\tremaining: 4.42s\n",
      "283:\tlearn: 0.1860245\ttotal: 1.75s\tremaining: 4.41s\n",
      "284:\tlearn: 0.1854535\ttotal: 1.75s\tremaining: 4.4s\n",
      "285:\tlearn: 0.1850621\ttotal: 1.76s\tremaining: 4.39s\n",
      "286:\tlearn: 0.1846014\ttotal: 1.76s\tremaining: 4.38s\n",
      "287:\tlearn: 0.1843470\ttotal: 1.77s\tremaining: 4.38s\n",
      "288:\tlearn: 0.1837508\ttotal: 1.78s\tremaining: 4.37s\n",
      "289:\tlearn: 0.1832148\ttotal: 1.78s\tremaining: 4.36s\n",
      "290:\tlearn: 0.1828248\ttotal: 1.79s\tremaining: 4.35s\n",
      "291:\tlearn: 0.1824731\ttotal: 1.79s\tremaining: 4.35s\n",
      "292:\tlearn: 0.1820313\ttotal: 1.8s\tremaining: 4.34s\n",
      "293:\tlearn: 0.1817900\ttotal: 1.8s\tremaining: 4.33s\n",
      "294:\tlearn: 0.1814942\ttotal: 1.81s\tremaining: 4.32s\n",
      "295:\tlearn: 0.1811701\ttotal: 1.81s\tremaining: 4.32s\n",
      "296:\tlearn: 0.1807347\ttotal: 1.82s\tremaining: 4.31s\n",
      "297:\tlearn: 0.1804080\ttotal: 1.82s\tremaining: 4.3s\n",
      "298:\tlearn: 0.1800349\ttotal: 1.83s\tremaining: 4.29s\n",
      "299:\tlearn: 0.1795372\ttotal: 1.84s\tremaining: 4.29s\n",
      "300:\tlearn: 0.1790426\ttotal: 1.84s\tremaining: 4.28s\n",
      "301:\tlearn: 0.1787401\ttotal: 1.85s\tremaining: 4.27s\n",
      "302:\tlearn: 0.1783195\ttotal: 1.85s\tremaining: 4.26s\n",
      "303:\tlearn: 0.1780022\ttotal: 1.86s\tremaining: 4.26s\n",
      "304:\tlearn: 0.1777802\ttotal: 1.86s\tremaining: 4.25s\n",
      "305:\tlearn: 0.1774442\ttotal: 1.87s\tremaining: 4.24s\n",
      "306:\tlearn: 0.1769758\ttotal: 1.88s\tremaining: 4.24s\n",
      "307:\tlearn: 0.1765648\ttotal: 1.88s\tremaining: 4.23s\n",
      "308:\tlearn: 0.1762480\ttotal: 1.89s\tremaining: 4.22s\n",
      "309:\tlearn: 0.1758525\ttotal: 1.89s\tremaining: 4.21s\n",
      "310:\tlearn: 0.1755203\ttotal: 1.9s\tremaining: 4.21s\n",
      "311:\tlearn: 0.1752567\ttotal: 1.9s\tremaining: 4.2s\n",
      "312:\tlearn: 0.1748229\ttotal: 1.91s\tremaining: 4.19s\n",
      "313:\tlearn: 0.1743993\ttotal: 1.91s\tremaining: 4.18s\n",
      "314:\tlearn: 0.1740632\ttotal: 1.92s\tremaining: 4.17s\n",
      "315:\tlearn: 0.1736579\ttotal: 1.93s\tremaining: 4.17s\n",
      "316:\tlearn: 0.1732406\ttotal: 1.93s\tremaining: 4.16s\n",
      "317:\tlearn: 0.1729843\ttotal: 1.94s\tremaining: 4.15s\n",
      "318:\tlearn: 0.1726566\ttotal: 1.94s\tremaining: 4.14s\n",
      "319:\tlearn: 0.1723084\ttotal: 1.95s\tremaining: 4.14s\n",
      "320:\tlearn: 0.1718815\ttotal: 1.95s\tremaining: 4.13s\n",
      "321:\tlearn: 0.1715265\ttotal: 1.96s\tremaining: 4.13s\n",
      "322:\tlearn: 0.1712482\ttotal: 1.97s\tremaining: 4.12s\n",
      "323:\tlearn: 0.1708082\ttotal: 1.97s\tremaining: 4.11s\n",
      "324:\tlearn: 0.1705327\ttotal: 1.98s\tremaining: 4.11s\n",
      "325:\tlearn: 0.1702724\ttotal: 1.98s\tremaining: 4.1s\n",
      "326:\tlearn: 0.1699967\ttotal: 1.99s\tremaining: 4.09s\n",
      "327:\tlearn: 0.1695639\ttotal: 1.99s\tremaining: 4.08s\n",
      "328:\tlearn: 0.1691917\ttotal: 2s\tremaining: 4.07s\n",
      "329:\tlearn: 0.1689252\ttotal: 2s\tremaining: 4.07s\n",
      "330:\tlearn: 0.1686374\ttotal: 2.01s\tremaining: 4.06s\n",
      "331:\tlearn: 0.1684034\ttotal: 2.02s\tremaining: 4.05s\n",
      "332:\tlearn: 0.1681364\ttotal: 2.02s\tremaining: 4.05s\n",
      "333:\tlearn: 0.1679178\ttotal: 2.03s\tremaining: 4.04s\n",
      "334:\tlearn: 0.1676869\ttotal: 2.03s\tremaining: 4.03s\n",
      "335:\tlearn: 0.1674268\ttotal: 2.04s\tremaining: 4.03s\n",
      "336:\tlearn: 0.1671748\ttotal: 2.04s\tremaining: 4.02s\n",
      "337:\tlearn: 0.1667114\ttotal: 2.05s\tremaining: 4.01s\n",
      "338:\tlearn: 0.1664729\ttotal: 2.05s\tremaining: 4.01s\n",
      "339:\tlearn: 0.1660468\ttotal: 2.06s\tremaining: 4s\n",
      "340:\tlearn: 0.1657007\ttotal: 2.06s\tremaining: 3.99s\n",
      "341:\tlearn: 0.1652920\ttotal: 2.07s\tremaining: 3.98s\n",
      "342:\tlearn: 0.1648849\ttotal: 2.08s\tremaining: 3.98s\n",
      "343:\tlearn: 0.1644154\ttotal: 2.08s\tremaining: 3.97s\n",
      "344:\tlearn: 0.1641260\ttotal: 2.09s\tremaining: 3.96s\n",
      "345:\tlearn: 0.1637544\ttotal: 2.09s\tremaining: 3.95s\n",
      "346:\tlearn: 0.1634616\ttotal: 2.1s\tremaining: 3.94s\n",
      "347:\tlearn: 0.1631614\ttotal: 2.1s\tremaining: 3.94s\n",
      "348:\tlearn: 0.1628743\ttotal: 2.11s\tremaining: 3.93s\n",
      "349:\tlearn: 0.1625634\ttotal: 2.11s\tremaining: 3.92s\n",
      "350:\tlearn: 0.1621758\ttotal: 2.12s\tremaining: 3.92s\n",
      "351:\tlearn: 0.1617449\ttotal: 2.12s\tremaining: 3.91s\n",
      "352:\tlearn: 0.1614798\ttotal: 2.13s\tremaining: 3.9s\n",
      "353:\tlearn: 0.1610415\ttotal: 2.13s\tremaining: 3.89s\n",
      "354:\tlearn: 0.1606887\ttotal: 2.14s\tremaining: 3.89s\n",
      "355:\tlearn: 0.1603646\ttotal: 2.14s\tremaining: 3.88s\n",
      "356:\tlearn: 0.1599872\ttotal: 2.15s\tremaining: 3.87s\n",
      "357:\tlearn: 0.1596557\ttotal: 2.15s\tremaining: 3.86s\n",
      "358:\tlearn: 0.1592907\ttotal: 2.16s\tremaining: 3.86s\n",
      "359:\tlearn: 0.1589971\ttotal: 2.17s\tremaining: 3.85s\n",
      "360:\tlearn: 0.1585977\ttotal: 2.17s\tremaining: 3.84s\n",
      "361:\tlearn: 0.1581997\ttotal: 2.18s\tremaining: 3.84s\n"
     ]
    },
    {
     "name": "stdout",
     "output_type": "stream",
     "text": [
      "362:\tlearn: 0.1579075\ttotal: 2.18s\tremaining: 3.83s\n",
      "363:\tlearn: 0.1574791\ttotal: 2.19s\tremaining: 3.82s\n",
      "364:\tlearn: 0.1572703\ttotal: 2.19s\tremaining: 3.82s\n",
      "365:\tlearn: 0.1569673\ttotal: 2.2s\tremaining: 3.81s\n",
      "366:\tlearn: 0.1566730\ttotal: 2.21s\tremaining: 3.8s\n",
      "367:\tlearn: 0.1563124\ttotal: 2.21s\tremaining: 3.8s\n",
      "368:\tlearn: 0.1561014\ttotal: 2.22s\tremaining: 3.79s\n",
      "369:\tlearn: 0.1557764\ttotal: 2.22s\tremaining: 3.78s\n",
      "370:\tlearn: 0.1554509\ttotal: 2.23s\tremaining: 3.78s\n",
      "371:\tlearn: 0.1550824\ttotal: 2.23s\tremaining: 3.77s\n",
      "372:\tlearn: 0.1548753\ttotal: 2.24s\tremaining: 3.76s\n",
      "373:\tlearn: 0.1544477\ttotal: 2.24s\tremaining: 3.75s\n",
      "374:\tlearn: 0.1542029\ttotal: 2.25s\tremaining: 3.75s\n",
      "375:\tlearn: 0.1538393\ttotal: 2.25s\tremaining: 3.74s\n",
      "376:\tlearn: 0.1536215\ttotal: 2.26s\tremaining: 3.73s\n",
      "377:\tlearn: 0.1532787\ttotal: 2.26s\tremaining: 3.73s\n",
      "378:\tlearn: 0.1529951\ttotal: 2.27s\tremaining: 3.72s\n",
      "379:\tlearn: 0.1527654\ttotal: 2.27s\tremaining: 3.71s\n",
      "380:\tlearn: 0.1523654\ttotal: 2.28s\tremaining: 3.7s\n",
      "381:\tlearn: 0.1520776\ttotal: 2.29s\tremaining: 3.7s\n",
      "382:\tlearn: 0.1519079\ttotal: 2.29s\tremaining: 3.69s\n",
      "383:\tlearn: 0.1516098\ttotal: 2.3s\tremaining: 3.68s\n",
      "384:\tlearn: 0.1514465\ttotal: 2.3s\tremaining: 3.68s\n",
      "385:\tlearn: 0.1510428\ttotal: 2.31s\tremaining: 3.67s\n",
      "386:\tlearn: 0.1508302\ttotal: 2.31s\tremaining: 3.66s\n",
      "387:\tlearn: 0.1506994\ttotal: 2.32s\tremaining: 3.66s\n",
      "388:\tlearn: 0.1503927\ttotal: 2.32s\tremaining: 3.65s\n",
      "389:\tlearn: 0.1500040\ttotal: 2.33s\tremaining: 3.64s\n",
      "390:\tlearn: 0.1498824\ttotal: 2.33s\tremaining: 3.63s\n",
      "391:\tlearn: 0.1496672\ttotal: 2.34s\tremaining: 3.63s\n",
      "392:\tlearn: 0.1492958\ttotal: 2.34s\tremaining: 3.62s\n",
      "393:\tlearn: 0.1489723\ttotal: 2.35s\tremaining: 3.61s\n",
      "394:\tlearn: 0.1486604\ttotal: 2.35s\tremaining: 3.61s\n",
      "395:\tlearn: 0.1484272\ttotal: 2.36s\tremaining: 3.6s\n",
      "396:\tlearn: 0.1481642\ttotal: 2.37s\tremaining: 3.59s\n",
      "397:\tlearn: 0.1479309\ttotal: 2.37s\tremaining: 3.59s\n",
      "398:\tlearn: 0.1477581\ttotal: 2.38s\tremaining: 3.58s\n",
      "399:\tlearn: 0.1474865\ttotal: 2.38s\tremaining: 3.58s\n",
      "400:\tlearn: 0.1472486\ttotal: 2.39s\tremaining: 3.57s\n",
      "401:\tlearn: 0.1470473\ttotal: 2.39s\tremaining: 3.56s\n",
      "402:\tlearn: 0.1466544\ttotal: 2.4s\tremaining: 3.56s\n",
      "403:\tlearn: 0.1464381\ttotal: 2.4s\tremaining: 3.55s\n",
      "404:\tlearn: 0.1459887\ttotal: 2.41s\tremaining: 3.54s\n",
      "405:\tlearn: 0.1457202\ttotal: 2.42s\tremaining: 3.53s\n",
      "406:\tlearn: 0.1454427\ttotal: 2.42s\tremaining: 3.53s\n",
      "407:\tlearn: 0.1452170\ttotal: 2.43s\tremaining: 3.52s\n",
      "408:\tlearn: 0.1449393\ttotal: 2.43s\tremaining: 3.51s\n",
      "409:\tlearn: 0.1447151\ttotal: 2.44s\tremaining: 3.51s\n",
      "410:\tlearn: 0.1445590\ttotal: 2.44s\tremaining: 3.5s\n",
      "411:\tlearn: 0.1443176\ttotal: 2.45s\tremaining: 3.49s\n",
      "412:\tlearn: 0.1439267\ttotal: 2.45s\tremaining: 3.49s\n",
      "413:\tlearn: 0.1436134\ttotal: 2.46s\tremaining: 3.48s\n",
      "414:\tlearn: 0.1433436\ttotal: 2.46s\tremaining: 3.47s\n",
      "415:\tlearn: 0.1430748\ttotal: 2.47s\tremaining: 3.47s\n",
      "416:\tlearn: 0.1427185\ttotal: 2.47s\tremaining: 3.46s\n",
      "417:\tlearn: 0.1424913\ttotal: 2.48s\tremaining: 3.45s\n",
      "418:\tlearn: 0.1422519\ttotal: 2.48s\tremaining: 3.45s\n",
      "419:\tlearn: 0.1420329\ttotal: 2.49s\tremaining: 3.44s\n",
      "420:\tlearn: 0.1417895\ttotal: 2.5s\tremaining: 3.43s\n",
      "421:\tlearn: 0.1415407\ttotal: 2.5s\tremaining: 3.42s\n",
      "422:\tlearn: 0.1413370\ttotal: 2.51s\tremaining: 3.42s\n",
      "423:\tlearn: 0.1411350\ttotal: 2.51s\tremaining: 3.41s\n",
      "424:\tlearn: 0.1409209\ttotal: 2.52s\tremaining: 3.4s\n",
      "425:\tlearn: 0.1406757\ttotal: 2.52s\tremaining: 3.4s\n",
      "426:\tlearn: 0.1404480\ttotal: 2.53s\tremaining: 3.39s\n",
      "427:\tlearn: 0.1402654\ttotal: 2.53s\tremaining: 3.38s\n",
      "428:\tlearn: 0.1400431\ttotal: 2.54s\tremaining: 3.38s\n",
      "429:\tlearn: 0.1398317\ttotal: 2.54s\tremaining: 3.37s\n",
      "430:\tlearn: 0.1396323\ttotal: 2.55s\tremaining: 3.36s\n",
      "431:\tlearn: 0.1394470\ttotal: 2.55s\tremaining: 3.36s\n",
      "432:\tlearn: 0.1392504\ttotal: 2.56s\tremaining: 3.35s\n",
      "433:\tlearn: 0.1389735\ttotal: 2.56s\tremaining: 3.34s\n",
      "434:\tlearn: 0.1387563\ttotal: 2.57s\tremaining: 3.34s\n",
      "435:\tlearn: 0.1385340\ttotal: 2.57s\tremaining: 3.33s\n",
      "436:\tlearn: 0.1382932\ttotal: 2.58s\tremaining: 3.32s\n",
      "437:\tlearn: 0.1379813\ttotal: 2.58s\tremaining: 3.31s\n",
      "438:\tlearn: 0.1378258\ttotal: 2.59s\tremaining: 3.31s\n",
      "439:\tlearn: 0.1375876\ttotal: 2.59s\tremaining: 3.3s\n",
      "440:\tlearn: 0.1373657\ttotal: 2.6s\tremaining: 3.29s\n",
      "441:\tlearn: 0.1371339\ttotal: 2.6s\tremaining: 3.29s\n",
      "442:\tlearn: 0.1369466\ttotal: 2.61s\tremaining: 3.28s\n",
      "443:\tlearn: 0.1366908\ttotal: 2.61s\tremaining: 3.27s\n",
      "444:\tlearn: 0.1364293\ttotal: 2.62s\tremaining: 3.27s\n",
      "445:\tlearn: 0.1362924\ttotal: 2.62s\tremaining: 3.26s\n",
      "446:\tlearn: 0.1359055\ttotal: 2.63s\tremaining: 3.25s\n",
      "447:\tlearn: 0.1357014\ttotal: 2.63s\tremaining: 3.24s\n",
      "448:\tlearn: 0.1354696\ttotal: 2.64s\tremaining: 3.24s\n",
      "449:\tlearn: 0.1351926\ttotal: 2.64s\tremaining: 3.23s\n",
      "450:\tlearn: 0.1349452\ttotal: 2.65s\tremaining: 3.22s\n",
      "451:\tlearn: 0.1347079\ttotal: 2.65s\tremaining: 3.21s\n",
      "452:\tlearn: 0.1344905\ttotal: 2.66s\tremaining: 3.21s\n",
      "453:\tlearn: 0.1342244\ttotal: 2.66s\tremaining: 3.2s\n",
      "454:\tlearn: 0.1339503\ttotal: 2.67s\tremaining: 3.19s\n",
      "455:\tlearn: 0.1338025\ttotal: 2.67s\tremaining: 3.19s\n",
      "456:\tlearn: 0.1335708\ttotal: 2.67s\tremaining: 3.18s\n",
      "457:\tlearn: 0.1333195\ttotal: 2.68s\tremaining: 3.17s\n",
      "458:\tlearn: 0.1330743\ttotal: 2.68s\tremaining: 3.16s\n",
      "459:\tlearn: 0.1328777\ttotal: 2.69s\tremaining: 3.16s\n",
      "460:\tlearn: 0.1327042\ttotal: 2.69s\tremaining: 3.15s\n",
      "461:\tlearn: 0.1324856\ttotal: 2.7s\tremaining: 3.14s\n",
      "462:\tlearn: 0.1323035\ttotal: 2.7s\tremaining: 3.14s\n",
      "463:\tlearn: 0.1320184\ttotal: 2.71s\tremaining: 3.13s\n",
      "464:\tlearn: 0.1317114\ttotal: 2.71s\tremaining: 3.12s\n",
      "465:\tlearn: 0.1313508\ttotal: 2.72s\tremaining: 3.12s\n",
      "466:\tlearn: 0.1310596\ttotal: 2.72s\tremaining: 3.11s\n",
      "467:\tlearn: 0.1308328\ttotal: 2.73s\tremaining: 3.1s\n",
      "468:\tlearn: 0.1305457\ttotal: 2.73s\tremaining: 3.1s\n",
      "469:\tlearn: 0.1303735\ttotal: 2.74s\tremaining: 3.09s\n",
      "470:\tlearn: 0.1301622\ttotal: 2.74s\tremaining: 3.08s\n",
      "471:\tlearn: 0.1299877\ttotal: 2.75s\tremaining: 3.08s\n",
      "472:\tlearn: 0.1296724\ttotal: 2.75s\tremaining: 3.07s\n",
      "473:\tlearn: 0.1295334\ttotal: 2.76s\tremaining: 3.06s\n",
      "474:\tlearn: 0.1292150\ttotal: 2.76s\tremaining: 3.05s\n",
      "475:\tlearn: 0.1290429\ttotal: 2.77s\tremaining: 3.05s\n",
      "476:\tlearn: 0.1289329\ttotal: 2.77s\tremaining: 3.04s\n",
      "477:\tlearn: 0.1286954\ttotal: 2.78s\tremaining: 3.03s\n",
      "478:\tlearn: 0.1285407\ttotal: 2.78s\tremaining: 3.03s\n",
      "479:\tlearn: 0.1283320\ttotal: 2.79s\tremaining: 3.02s\n",
      "480:\tlearn: 0.1281415\ttotal: 2.79s\tremaining: 3.01s\n",
      "481:\tlearn: 0.1278932\ttotal: 2.8s\tremaining: 3.01s\n",
      "482:\tlearn: 0.1277321\ttotal: 2.8s\tremaining: 3s\n",
      "483:\tlearn: 0.1275018\ttotal: 2.81s\tremaining: 2.99s\n",
      "484:\tlearn: 0.1272261\ttotal: 2.81s\tremaining: 2.99s\n",
      "485:\tlearn: 0.1269632\ttotal: 2.82s\tremaining: 2.98s\n",
      "486:\tlearn: 0.1267863\ttotal: 2.82s\tremaining: 2.98s\n",
      "487:\tlearn: 0.1265766\ttotal: 2.83s\tremaining: 2.97s\n",
      "488:\tlearn: 0.1264041\ttotal: 2.83s\tremaining: 2.96s\n",
      "489:\tlearn: 0.1262081\ttotal: 2.84s\tremaining: 2.95s\n",
      "490:\tlearn: 0.1259354\ttotal: 2.84s\tremaining: 2.95s\n",
      "491:\tlearn: 0.1256853\ttotal: 2.85s\tremaining: 2.94s\n",
      "492:\tlearn: 0.1254302\ttotal: 2.85s\tremaining: 2.93s\n",
      "493:\tlearn: 0.1252059\ttotal: 2.86s\tremaining: 2.93s\n",
      "494:\tlearn: 0.1250546\ttotal: 2.86s\tremaining: 2.92s\n",
      "495:\tlearn: 0.1248979\ttotal: 2.87s\tremaining: 2.91s\n",
      "496:\tlearn: 0.1247348\ttotal: 2.87s\tremaining: 2.91s\n",
      "497:\tlearn: 0.1244866\ttotal: 2.88s\tremaining: 2.9s\n",
      "498:\tlearn: 0.1243053\ttotal: 2.88s\tremaining: 2.89s\n",
      "499:\tlearn: 0.1241662\ttotal: 2.89s\tremaining: 2.89s\n",
      "500:\tlearn: 0.1239483\ttotal: 2.89s\tremaining: 2.88s\n",
      "501:\tlearn: 0.1237456\ttotal: 2.9s\tremaining: 2.87s\n",
      "502:\tlearn: 0.1235308\ttotal: 2.9s\tremaining: 2.87s\n",
      "503:\tlearn: 0.1233128\ttotal: 2.91s\tremaining: 2.86s\n",
      "504:\tlearn: 0.1230258\ttotal: 2.91s\tremaining: 2.85s\n",
      "505:\tlearn: 0.1228352\ttotal: 2.92s\tremaining: 2.85s\n",
      "506:\tlearn: 0.1226254\ttotal: 2.92s\tremaining: 2.84s\n",
      "507:\tlearn: 0.1223868\ttotal: 2.93s\tremaining: 2.83s\n",
      "508:\tlearn: 0.1221837\ttotal: 2.93s\tremaining: 2.83s\n",
      "509:\tlearn: 0.1220170\ttotal: 2.94s\tremaining: 2.82s\n",
      "510:\tlearn: 0.1218492\ttotal: 2.94s\tremaining: 2.82s\n",
      "511:\tlearn: 0.1215916\ttotal: 2.95s\tremaining: 2.81s\n",
      "512:\tlearn: 0.1212965\ttotal: 2.95s\tremaining: 2.8s\n",
      "513:\tlearn: 0.1211567\ttotal: 2.96s\tremaining: 2.8s\n",
      "514:\tlearn: 0.1209991\ttotal: 2.96s\tremaining: 2.79s\n",
      "515:\tlearn: 0.1208416\ttotal: 2.97s\tremaining: 2.78s\n",
      "516:\tlearn: 0.1206533\ttotal: 2.97s\tremaining: 2.78s\n",
      "517:\tlearn: 0.1204777\ttotal: 2.98s\tremaining: 2.77s\n",
      "518:\tlearn: 0.1203367\ttotal: 2.98s\tremaining: 2.76s\n",
      "519:\tlearn: 0.1202427\ttotal: 2.99s\tremaining: 2.76s\n",
      "520:\tlearn: 0.1200356\ttotal: 2.99s\tremaining: 2.75s\n",
      "521:\tlearn: 0.1198795\ttotal: 3s\tremaining: 2.74s\n",
      "522:\tlearn: 0.1196894\ttotal: 3s\tremaining: 2.74s\n",
      "523:\tlearn: 0.1194150\ttotal: 3.01s\tremaining: 2.73s\n",
      "524:\tlearn: 0.1192974\ttotal: 3.01s\tremaining: 2.72s\n",
      "525:\tlearn: 0.1190144\ttotal: 3.02s\tremaining: 2.72s\n",
      "526:\tlearn: 0.1188723\ttotal: 3.02s\tremaining: 2.71s\n",
      "527:\tlearn: 0.1185568\ttotal: 3.02s\tremaining: 2.71s\n",
      "528:\tlearn: 0.1184472\ttotal: 3.03s\tremaining: 2.7s\n",
      "529:\tlearn: 0.1181846\ttotal: 3.04s\tremaining: 2.69s\n",
      "530:\tlearn: 0.1180851\ttotal: 3.04s\tremaining: 2.69s\n",
      "531:\tlearn: 0.1178669\ttotal: 3.05s\tremaining: 2.68s\n",
      "532:\tlearn: 0.1177210\ttotal: 3.05s\tremaining: 2.67s\n",
      "533:\tlearn: 0.1175180\ttotal: 3.06s\tremaining: 2.67s\n",
      "534:\tlearn: 0.1173134\ttotal: 3.06s\tremaining: 2.66s\n",
      "535:\tlearn: 0.1171458\ttotal: 3.08s\tremaining: 2.67s\n",
      "536:\tlearn: 0.1169388\ttotal: 3.09s\tremaining: 2.66s\n",
      "537:\tlearn: 0.1168578\ttotal: 3.09s\tremaining: 2.65s\n",
      "538:\tlearn: 0.1166994\ttotal: 3.1s\tremaining: 2.65s\n"
     ]
    },
    {
     "name": "stdout",
     "output_type": "stream",
     "text": [
      "539:\tlearn: 0.1164628\ttotal: 3.1s\tremaining: 2.64s\n",
      "540:\tlearn: 0.1163087\ttotal: 3.11s\tremaining: 2.64s\n",
      "541:\tlearn: 0.1161132\ttotal: 3.12s\tremaining: 2.63s\n",
      "542:\tlearn: 0.1159601\ttotal: 3.12s\tremaining: 2.63s\n",
      "543:\tlearn: 0.1158123\ttotal: 3.13s\tremaining: 2.62s\n",
      "544:\tlearn: 0.1156444\ttotal: 3.13s\tremaining: 2.61s\n",
      "545:\tlearn: 0.1154957\ttotal: 3.14s\tremaining: 2.61s\n",
      "546:\tlearn: 0.1151591\ttotal: 3.14s\tremaining: 2.6s\n",
      "547:\tlearn: 0.1150727\ttotal: 3.15s\tremaining: 2.6s\n",
      "548:\tlearn: 0.1149126\ttotal: 3.15s\tremaining: 2.59s\n",
      "549:\tlearn: 0.1147058\ttotal: 3.16s\tremaining: 2.58s\n",
      "550:\tlearn: 0.1144441\ttotal: 3.17s\tremaining: 2.58s\n",
      "551:\tlearn: 0.1142911\ttotal: 3.17s\tremaining: 2.57s\n",
      "552:\tlearn: 0.1140288\ttotal: 3.18s\tremaining: 2.57s\n",
      "553:\tlearn: 0.1138459\ttotal: 3.18s\tremaining: 2.56s\n",
      "554:\tlearn: 0.1136669\ttotal: 3.19s\tremaining: 2.56s\n",
      "555:\tlearn: 0.1134018\ttotal: 3.19s\tremaining: 2.55s\n",
      "556:\tlearn: 0.1133371\ttotal: 3.2s\tremaining: 2.54s\n",
      "557:\tlearn: 0.1130857\ttotal: 3.2s\tremaining: 2.54s\n",
      "558:\tlearn: 0.1129769\ttotal: 3.21s\tremaining: 2.53s\n",
      "559:\tlearn: 0.1127497\ttotal: 3.21s\tremaining: 2.52s\n",
      "560:\tlearn: 0.1126157\ttotal: 3.22s\tremaining: 2.52s\n",
      "561:\tlearn: 0.1124628\ttotal: 3.22s\tremaining: 2.51s\n",
      "562:\tlearn: 0.1123248\ttotal: 3.23s\tremaining: 2.51s\n",
      "563:\tlearn: 0.1120081\ttotal: 3.23s\tremaining: 2.5s\n",
      "564:\tlearn: 0.1119023\ttotal: 3.24s\tremaining: 2.49s\n",
      "565:\tlearn: 0.1116272\ttotal: 3.24s\tremaining: 2.49s\n",
      "566:\tlearn: 0.1114881\ttotal: 3.25s\tremaining: 2.48s\n",
      "567:\tlearn: 0.1113789\ttotal: 3.25s\tremaining: 2.47s\n",
      "568:\tlearn: 0.1111592\ttotal: 3.26s\tremaining: 2.47s\n",
      "569:\tlearn: 0.1109967\ttotal: 3.26s\tremaining: 2.46s\n",
      "570:\tlearn: 0.1107497\ttotal: 3.27s\tremaining: 2.46s\n",
      "571:\tlearn: 0.1106562\ttotal: 3.27s\tremaining: 2.45s\n",
      "572:\tlearn: 0.1104056\ttotal: 3.28s\tremaining: 2.44s\n",
      "573:\tlearn: 0.1101690\ttotal: 3.28s\tremaining: 2.44s\n",
      "574:\tlearn: 0.1099675\ttotal: 3.29s\tremaining: 2.43s\n",
      "575:\tlearn: 0.1097931\ttotal: 3.29s\tremaining: 2.42s\n",
      "576:\tlearn: 0.1095626\ttotal: 3.3s\tremaining: 2.42s\n",
      "577:\tlearn: 0.1094736\ttotal: 3.3s\tremaining: 2.41s\n",
      "578:\tlearn: 0.1091388\ttotal: 3.31s\tremaining: 2.41s\n",
      "579:\tlearn: 0.1089224\ttotal: 3.31s\tremaining: 2.4s\n",
      "580:\tlearn: 0.1087472\ttotal: 3.32s\tremaining: 2.39s\n",
      "581:\tlearn: 0.1086434\ttotal: 3.32s\tremaining: 2.39s\n",
      "582:\tlearn: 0.1085932\ttotal: 3.33s\tremaining: 2.38s\n",
      "583:\tlearn: 0.1085592\ttotal: 3.33s\tremaining: 2.37s\n",
      "584:\tlearn: 0.1084296\ttotal: 3.34s\tremaining: 2.37s\n",
      "585:\tlearn: 0.1083652\ttotal: 3.34s\tremaining: 2.36s\n",
      "586:\tlearn: 0.1082369\ttotal: 3.35s\tremaining: 2.35s\n",
      "587:\tlearn: 0.1081753\ttotal: 3.35s\tremaining: 2.35s\n",
      "588:\tlearn: 0.1080412\ttotal: 3.36s\tremaining: 2.34s\n",
      "589:\tlearn: 0.1078770\ttotal: 3.36s\tremaining: 2.34s\n",
      "590:\tlearn: 0.1076990\ttotal: 3.37s\tremaining: 2.33s\n",
      "591:\tlearn: 0.1074908\ttotal: 3.37s\tremaining: 2.32s\n",
      "592:\tlearn: 0.1073775\ttotal: 3.38s\tremaining: 2.32s\n",
      "593:\tlearn: 0.1071773\ttotal: 3.38s\tremaining: 2.31s\n",
      "594:\tlearn: 0.1069775\ttotal: 3.39s\tremaining: 2.31s\n",
      "595:\tlearn: 0.1068135\ttotal: 3.39s\tremaining: 2.3s\n",
      "596:\tlearn: 0.1066165\ttotal: 3.4s\tremaining: 2.29s\n",
      "597:\tlearn: 0.1064183\ttotal: 3.4s\tremaining: 2.29s\n",
      "598:\tlearn: 0.1061986\ttotal: 3.41s\tremaining: 2.28s\n",
      "599:\tlearn: 0.1059779\ttotal: 3.41s\tremaining: 2.28s\n",
      "600:\tlearn: 0.1058879\ttotal: 3.42s\tremaining: 2.27s\n",
      "601:\tlearn: 0.1057441\ttotal: 3.42s\tremaining: 2.26s\n",
      "602:\tlearn: 0.1055548\ttotal: 3.43s\tremaining: 2.26s\n",
      "603:\tlearn: 0.1054018\ttotal: 3.44s\tremaining: 2.25s\n",
      "604:\tlearn: 0.1053013\ttotal: 3.44s\tremaining: 2.25s\n",
      "605:\tlearn: 0.1051090\ttotal: 3.44s\tremaining: 2.24s\n",
      "606:\tlearn: 0.1049428\ttotal: 3.45s\tremaining: 2.23s\n",
      "607:\tlearn: 0.1047375\ttotal: 3.46s\tremaining: 2.23s\n",
      "608:\tlearn: 0.1044916\ttotal: 3.46s\tremaining: 2.22s\n",
      "609:\tlearn: 0.1042697\ttotal: 3.46s\tremaining: 2.21s\n",
      "610:\tlearn: 0.1040386\ttotal: 3.47s\tremaining: 2.21s\n",
      "611:\tlearn: 0.1038970\ttotal: 3.48s\tremaining: 2.2s\n",
      "612:\tlearn: 0.1038033\ttotal: 3.48s\tremaining: 2.2s\n",
      "613:\tlearn: 0.1036429\ttotal: 3.48s\tremaining: 2.19s\n",
      "614:\tlearn: 0.1034524\ttotal: 3.49s\tremaining: 2.19s\n",
      "615:\tlearn: 0.1032880\ttotal: 3.5s\tremaining: 2.18s\n",
      "616:\tlearn: 0.1030513\ttotal: 3.5s\tremaining: 2.17s\n",
      "617:\tlearn: 0.1027535\ttotal: 3.5s\tremaining: 2.17s\n",
      "618:\tlearn: 0.1025977\ttotal: 3.51s\tremaining: 2.16s\n",
      "619:\tlearn: 0.1024763\ttotal: 3.52s\tremaining: 2.15s\n",
      "620:\tlearn: 0.1023305\ttotal: 3.52s\tremaining: 2.15s\n",
      "621:\tlearn: 0.1022127\ttotal: 3.52s\tremaining: 2.14s\n",
      "622:\tlearn: 0.1020214\ttotal: 3.53s\tremaining: 2.14s\n",
      "623:\tlearn: 0.1018127\ttotal: 3.54s\tremaining: 2.13s\n",
      "624:\tlearn: 0.1016368\ttotal: 3.54s\tremaining: 2.12s\n",
      "625:\tlearn: 0.1015353\ttotal: 3.54s\tremaining: 2.12s\n",
      "626:\tlearn: 0.1014853\ttotal: 3.55s\tremaining: 2.11s\n",
      "627:\tlearn: 0.1013303\ttotal: 3.55s\tremaining: 2.1s\n",
      "628:\tlearn: 0.1012449\ttotal: 3.56s\tremaining: 2.1s\n",
      "629:\tlearn: 0.1010825\ttotal: 3.56s\tremaining: 2.09s\n",
      "630:\tlearn: 0.1009266\ttotal: 3.57s\tremaining: 2.09s\n",
      "631:\tlearn: 0.1008931\ttotal: 3.57s\tremaining: 2.08s\n",
      "632:\tlearn: 0.1007755\ttotal: 3.58s\tremaining: 2.08s\n",
      "633:\tlearn: 0.1005323\ttotal: 3.58s\tremaining: 2.07s\n",
      "634:\tlearn: 0.1003806\ttotal: 3.59s\tremaining: 2.06s\n",
      "635:\tlearn: 0.1002754\ttotal: 3.59s\tremaining: 2.06s\n",
      "636:\tlearn: 0.1000939\ttotal: 3.6s\tremaining: 2.05s\n",
      "637:\tlearn: 0.0999335\ttotal: 3.6s\tremaining: 2.04s\n",
      "638:\tlearn: 0.0997496\ttotal: 3.61s\tremaining: 2.04s\n",
      "639:\tlearn: 0.0995668\ttotal: 3.61s\tremaining: 2.03s\n",
      "640:\tlearn: 0.0993463\ttotal: 3.62s\tremaining: 2.03s\n",
      "641:\tlearn: 0.0992318\ttotal: 3.62s\tremaining: 2.02s\n",
      "642:\tlearn: 0.0990439\ttotal: 3.63s\tremaining: 2.01s\n",
      "643:\tlearn: 0.0989473\ttotal: 3.63s\tremaining: 2.01s\n",
      "644:\tlearn: 0.0988253\ttotal: 3.64s\tremaining: 2s\n",
      "645:\tlearn: 0.0987207\ttotal: 3.64s\tremaining: 2s\n",
      "646:\tlearn: 0.0986877\ttotal: 3.65s\tremaining: 1.99s\n",
      "647:\tlearn: 0.0984920\ttotal: 3.65s\tremaining: 1.98s\n",
      "648:\tlearn: 0.0984122\ttotal: 3.66s\tremaining: 1.98s\n",
      "649:\tlearn: 0.0983118\ttotal: 3.66s\tremaining: 1.97s\n",
      "650:\tlearn: 0.0981636\ttotal: 3.67s\tremaining: 1.97s\n",
      "651:\tlearn: 0.0980254\ttotal: 3.67s\tremaining: 1.96s\n",
      "652:\tlearn: 0.0978400\ttotal: 3.68s\tremaining: 1.95s\n",
      "653:\tlearn: 0.0975814\ttotal: 3.68s\tremaining: 1.95s\n",
      "654:\tlearn: 0.0973905\ttotal: 3.69s\tremaining: 1.94s\n",
      "655:\tlearn: 0.0971983\ttotal: 3.69s\tremaining: 1.94s\n",
      "656:\tlearn: 0.0971369\ttotal: 3.7s\tremaining: 1.93s\n",
      "657:\tlearn: 0.0970949\ttotal: 3.7s\tremaining: 1.92s\n",
      "658:\tlearn: 0.0969278\ttotal: 3.71s\tremaining: 1.92s\n",
      "659:\tlearn: 0.0968173\ttotal: 3.71s\tremaining: 1.91s\n",
      "660:\tlearn: 0.0966820\ttotal: 3.72s\tremaining: 1.91s\n",
      "661:\tlearn: 0.0965034\ttotal: 3.72s\tremaining: 1.9s\n",
      "662:\tlearn: 0.0963135\ttotal: 3.73s\tremaining: 1.89s\n",
      "663:\tlearn: 0.0961947\ttotal: 3.73s\tremaining: 1.89s\n",
      "664:\tlearn: 0.0961385\ttotal: 3.74s\tremaining: 1.88s\n",
      "665:\tlearn: 0.0959840\ttotal: 3.74s\tremaining: 1.88s\n",
      "666:\tlearn: 0.0958167\ttotal: 3.75s\tremaining: 1.87s\n",
      "667:\tlearn: 0.0956293\ttotal: 3.75s\tremaining: 1.86s\n",
      "668:\tlearn: 0.0954575\ttotal: 3.75s\tremaining: 1.86s\n",
      "669:\tlearn: 0.0953737\ttotal: 3.76s\tremaining: 1.85s\n",
      "670:\tlearn: 0.0952235\ttotal: 3.77s\tremaining: 1.85s\n",
      "671:\tlearn: 0.0951119\ttotal: 3.77s\tremaining: 1.84s\n",
      "672:\tlearn: 0.0949540\ttotal: 3.77s\tremaining: 1.83s\n",
      "673:\tlearn: 0.0948546\ttotal: 3.78s\tremaining: 1.83s\n",
      "674:\tlearn: 0.0946436\ttotal: 3.78s\tremaining: 1.82s\n",
      "675:\tlearn: 0.0945190\ttotal: 3.79s\tremaining: 1.82s\n",
      "676:\tlearn: 0.0944090\ttotal: 3.79s\tremaining: 1.81s\n",
      "677:\tlearn: 0.0942030\ttotal: 3.8s\tremaining: 1.8s\n",
      "678:\tlearn: 0.0939648\ttotal: 3.8s\tremaining: 1.8s\n",
      "679:\tlearn: 0.0937125\ttotal: 3.81s\tremaining: 1.79s\n",
      "680:\tlearn: 0.0936172\ttotal: 3.81s\tremaining: 1.79s\n",
      "681:\tlearn: 0.0934503\ttotal: 3.82s\tremaining: 1.78s\n",
      "682:\tlearn: 0.0932547\ttotal: 3.82s\tremaining: 1.77s\n",
      "683:\tlearn: 0.0931385\ttotal: 3.83s\tremaining: 1.77s\n",
      "684:\tlearn: 0.0929655\ttotal: 3.83s\tremaining: 1.76s\n",
      "685:\tlearn: 0.0929162\ttotal: 3.84s\tremaining: 1.76s\n",
      "686:\tlearn: 0.0928714\ttotal: 3.84s\tremaining: 1.75s\n",
      "687:\tlearn: 0.0926997\ttotal: 3.85s\tremaining: 1.75s\n",
      "688:\tlearn: 0.0924640\ttotal: 3.85s\tremaining: 1.74s\n",
      "689:\tlearn: 0.0923637\ttotal: 3.86s\tremaining: 1.73s\n",
      "690:\tlearn: 0.0922685\ttotal: 3.86s\tremaining: 1.73s\n",
      "691:\tlearn: 0.0920675\ttotal: 3.87s\tremaining: 1.72s\n",
      "692:\tlearn: 0.0919858\ttotal: 3.87s\tremaining: 1.72s\n",
      "693:\tlearn: 0.0918256\ttotal: 3.88s\tremaining: 1.71s\n",
      "694:\tlearn: 0.0917681\ttotal: 3.88s\tremaining: 1.7s\n",
      "695:\tlearn: 0.0915760\ttotal: 3.89s\tremaining: 1.7s\n",
      "696:\tlearn: 0.0914693\ttotal: 3.89s\tremaining: 1.69s\n",
      "697:\tlearn: 0.0913539\ttotal: 3.9s\tremaining: 1.69s\n",
      "698:\tlearn: 0.0911918\ttotal: 3.9s\tremaining: 1.68s\n",
      "699:\tlearn: 0.0910374\ttotal: 3.91s\tremaining: 1.67s\n",
      "700:\tlearn: 0.0908317\ttotal: 3.91s\tremaining: 1.67s\n",
      "701:\tlearn: 0.0906763\ttotal: 3.92s\tremaining: 1.66s\n",
      "702:\tlearn: 0.0906055\ttotal: 3.92s\tremaining: 1.66s\n",
      "703:\tlearn: 0.0905038\ttotal: 3.93s\tremaining: 1.65s\n",
      "704:\tlearn: 0.0903617\ttotal: 3.93s\tremaining: 1.65s\n",
      "705:\tlearn: 0.0902246\ttotal: 3.94s\tremaining: 1.64s\n",
      "706:\tlearn: 0.0900408\ttotal: 3.94s\tremaining: 1.63s\n",
      "707:\tlearn: 0.0899416\ttotal: 3.95s\tremaining: 1.63s\n",
      "708:\tlearn: 0.0897816\ttotal: 3.95s\tremaining: 1.62s\n",
      "709:\tlearn: 0.0896512\ttotal: 3.96s\tremaining: 1.62s\n",
      "710:\tlearn: 0.0894524\ttotal: 3.96s\tremaining: 1.61s\n",
      "711:\tlearn: 0.0892540\ttotal: 3.97s\tremaining: 1.6s\n",
      "712:\tlearn: 0.0891978\ttotal: 3.97s\tremaining: 1.6s\n",
      "713:\tlearn: 0.0890690\ttotal: 3.98s\tremaining: 1.59s\n",
      "714:\tlearn: 0.0888770\ttotal: 3.98s\tremaining: 1.59s\n",
      "715:\tlearn: 0.0887191\ttotal: 3.98s\tremaining: 1.58s\n",
      "716:\tlearn: 0.0886195\ttotal: 3.99s\tremaining: 1.57s\n"
     ]
    },
    {
     "name": "stdout",
     "output_type": "stream",
     "text": [
      "717:\tlearn: 0.0884145\ttotal: 4s\tremaining: 1.57s\n",
      "718:\tlearn: 0.0883532\ttotal: 4s\tremaining: 1.56s\n",
      "719:\tlearn: 0.0881939\ttotal: 4.01s\tremaining: 1.56s\n",
      "720:\tlearn: 0.0880372\ttotal: 4.01s\tremaining: 1.55s\n",
      "721:\tlearn: 0.0878985\ttotal: 4.02s\tremaining: 1.55s\n",
      "722:\tlearn: 0.0877252\ttotal: 4.02s\tremaining: 1.54s\n",
      "723:\tlearn: 0.0875540\ttotal: 4.03s\tremaining: 1.53s\n",
      "724:\tlearn: 0.0874191\ttotal: 4.03s\tremaining: 1.53s\n",
      "725:\tlearn: 0.0872495\ttotal: 4.04s\tremaining: 1.52s\n",
      "726:\tlearn: 0.0871699\ttotal: 4.04s\tremaining: 1.52s\n",
      "727:\tlearn: 0.0870657\ttotal: 4.04s\tremaining: 1.51s\n",
      "728:\tlearn: 0.0869281\ttotal: 4.05s\tremaining: 1.5s\n",
      "729:\tlearn: 0.0868057\ttotal: 4.05s\tremaining: 1.5s\n",
      "730:\tlearn: 0.0866199\ttotal: 4.06s\tremaining: 1.49s\n",
      "731:\tlearn: 0.0865818\ttotal: 4.06s\tremaining: 1.49s\n",
      "732:\tlearn: 0.0864452\ttotal: 4.07s\tremaining: 1.48s\n",
      "733:\tlearn: 0.0863770\ttotal: 4.07s\tremaining: 1.48s\n",
      "734:\tlearn: 0.0862092\ttotal: 4.08s\tremaining: 1.47s\n",
      "735:\tlearn: 0.0860877\ttotal: 4.08s\tremaining: 1.47s\n",
      "736:\tlearn: 0.0859152\ttotal: 4.09s\tremaining: 1.46s\n",
      "737:\tlearn: 0.0857935\ttotal: 4.09s\tremaining: 1.45s\n",
      "738:\tlearn: 0.0856138\ttotal: 4.1s\tremaining: 1.45s\n",
      "739:\tlearn: 0.0855948\ttotal: 4.1s\tremaining: 1.44s\n",
      "740:\tlearn: 0.0854197\ttotal: 4.11s\tremaining: 1.44s\n",
      "741:\tlearn: 0.0853995\ttotal: 4.11s\tremaining: 1.43s\n",
      "742:\tlearn: 0.0852422\ttotal: 4.12s\tremaining: 1.42s\n",
      "743:\tlearn: 0.0851278\ttotal: 4.12s\tremaining: 1.42s\n",
      "744:\tlearn: 0.0850044\ttotal: 4.13s\tremaining: 1.41s\n",
      "745:\tlearn: 0.0849774\ttotal: 4.13s\tremaining: 1.41s\n",
      "746:\tlearn: 0.0848471\ttotal: 4.14s\tremaining: 1.4s\n",
      "747:\tlearn: 0.0847392\ttotal: 4.14s\tremaining: 1.4s\n",
      "748:\tlearn: 0.0846151\ttotal: 4.15s\tremaining: 1.39s\n",
      "749:\tlearn: 0.0844244\ttotal: 4.15s\tremaining: 1.38s\n",
      "750:\tlearn: 0.0842635\ttotal: 4.16s\tremaining: 1.38s\n",
      "751:\tlearn: 0.0840942\ttotal: 4.16s\tremaining: 1.37s\n",
      "752:\tlearn: 0.0840379\ttotal: 4.17s\tremaining: 1.37s\n",
      "753:\tlearn: 0.0839609\ttotal: 4.17s\tremaining: 1.36s\n",
      "754:\tlearn: 0.0837806\ttotal: 4.18s\tremaining: 1.35s\n",
      "755:\tlearn: 0.0836644\ttotal: 4.18s\tremaining: 1.35s\n",
      "756:\tlearn: 0.0835018\ttotal: 4.18s\tremaining: 1.34s\n",
      "757:\tlearn: 0.0834288\ttotal: 4.19s\tremaining: 1.34s\n",
      "758:\tlearn: 0.0833215\ttotal: 4.2s\tremaining: 1.33s\n",
      "759:\tlearn: 0.0831706\ttotal: 4.2s\tremaining: 1.33s\n",
      "760:\tlearn: 0.0830059\ttotal: 4.21s\tremaining: 1.32s\n",
      "761:\tlearn: 0.0829149\ttotal: 4.21s\tremaining: 1.31s\n",
      "762:\tlearn: 0.0828278\ttotal: 4.22s\tremaining: 1.31s\n",
      "763:\tlearn: 0.0827378\ttotal: 4.22s\tremaining: 1.3s\n",
      "764:\tlearn: 0.0826031\ttotal: 4.23s\tremaining: 1.3s\n",
      "765:\tlearn: 0.0824731\ttotal: 4.23s\tremaining: 1.29s\n",
      "766:\tlearn: 0.0823394\ttotal: 4.24s\tremaining: 1.29s\n",
      "767:\tlearn: 0.0822158\ttotal: 4.24s\tremaining: 1.28s\n",
      "768:\tlearn: 0.0820889\ttotal: 4.25s\tremaining: 1.27s\n",
      "769:\tlearn: 0.0819596\ttotal: 4.25s\tremaining: 1.27s\n",
      "770:\tlearn: 0.0818573\ttotal: 4.25s\tremaining: 1.26s\n",
      "771:\tlearn: 0.0817292\ttotal: 4.26s\tremaining: 1.26s\n",
      "772:\tlearn: 0.0816073\ttotal: 4.26s\tremaining: 1.25s\n",
      "773:\tlearn: 0.0814840\ttotal: 4.27s\tremaining: 1.25s\n",
      "774:\tlearn: 0.0813906\ttotal: 4.27s\tremaining: 1.24s\n",
      "775:\tlearn: 0.0813094\ttotal: 4.28s\tremaining: 1.24s\n",
      "776:\tlearn: 0.0811343\ttotal: 4.28s\tremaining: 1.23s\n",
      "777:\tlearn: 0.0809569\ttotal: 4.29s\tremaining: 1.22s\n",
      "778:\tlearn: 0.0808580\ttotal: 4.29s\tremaining: 1.22s\n",
      "779:\tlearn: 0.0807787\ttotal: 4.3s\tremaining: 1.21s\n",
      "780:\tlearn: 0.0806269\ttotal: 4.3s\tremaining: 1.21s\n",
      "781:\tlearn: 0.0805629\ttotal: 4.31s\tremaining: 1.2s\n",
      "782:\tlearn: 0.0804562\ttotal: 4.31s\tremaining: 1.2s\n",
      "783:\tlearn: 0.0803992\ttotal: 4.32s\tremaining: 1.19s\n",
      "784:\tlearn: 0.0803233\ttotal: 4.32s\tremaining: 1.18s\n",
      "785:\tlearn: 0.0801836\ttotal: 4.33s\tremaining: 1.18s\n",
      "786:\tlearn: 0.0800713\ttotal: 4.33s\tremaining: 1.17s\n",
      "787:\tlearn: 0.0800152\ttotal: 4.33s\tremaining: 1.17s\n",
      "788:\tlearn: 0.0798540\ttotal: 4.34s\tremaining: 1.16s\n",
      "789:\tlearn: 0.0797342\ttotal: 4.34s\tremaining: 1.16s\n",
      "790:\tlearn: 0.0796216\ttotal: 4.35s\tremaining: 1.15s\n",
      "791:\tlearn: 0.0795229\ttotal: 4.35s\tremaining: 1.14s\n",
      "792:\tlearn: 0.0793912\ttotal: 4.36s\tremaining: 1.14s\n",
      "793:\tlearn: 0.0792184\ttotal: 4.36s\tremaining: 1.13s\n",
      "794:\tlearn: 0.0790277\ttotal: 4.37s\tremaining: 1.13s\n",
      "795:\tlearn: 0.0789096\ttotal: 4.37s\tremaining: 1.12s\n",
      "796:\tlearn: 0.0787535\ttotal: 4.38s\tremaining: 1.11s\n",
      "797:\tlearn: 0.0786090\ttotal: 4.38s\tremaining: 1.11s\n",
      "798:\tlearn: 0.0784636\ttotal: 4.39s\tremaining: 1.1s\n",
      "799:\tlearn: 0.0783752\ttotal: 4.39s\tremaining: 1.1s\n",
      "800:\tlearn: 0.0782632\ttotal: 4.4s\tremaining: 1.09s\n",
      "801:\tlearn: 0.0781361\ttotal: 4.41s\tremaining: 1.09s\n",
      "802:\tlearn: 0.0780657\ttotal: 4.41s\tremaining: 1.08s\n",
      "803:\tlearn: 0.0779462\ttotal: 4.42s\tremaining: 1.08s\n",
      "804:\tlearn: 0.0779028\ttotal: 4.42s\tremaining: 1.07s\n",
      "805:\tlearn: 0.0777845\ttotal: 4.42s\tremaining: 1.06s\n",
      "806:\tlearn: 0.0776515\ttotal: 4.43s\tremaining: 1.06s\n",
      "807:\tlearn: 0.0775044\ttotal: 4.43s\tremaining: 1.05s\n",
      "808:\tlearn: 0.0773419\ttotal: 4.44s\tremaining: 1.05s\n",
      "809:\tlearn: 0.0772510\ttotal: 4.45s\tremaining: 1.04s\n",
      "810:\tlearn: 0.0771649\ttotal: 4.45s\tremaining: 1.04s\n",
      "811:\tlearn: 0.0770478\ttotal: 4.45s\tremaining: 1.03s\n",
      "812:\tlearn: 0.0769317\ttotal: 4.46s\tremaining: 1.02s\n",
      "813:\tlearn: 0.0768641\ttotal: 4.46s\tremaining: 1.02s\n",
      "814:\tlearn: 0.0767629\ttotal: 4.47s\tremaining: 1.01s\n",
      "815:\tlearn: 0.0766292\ttotal: 4.47s\tremaining: 1.01s\n",
      "816:\tlearn: 0.0765205\ttotal: 4.48s\tremaining: 1s\n",
      "817:\tlearn: 0.0764734\ttotal: 4.48s\tremaining: 998ms\n",
      "818:\tlearn: 0.0763914\ttotal: 4.49s\tremaining: 992ms\n",
      "819:\tlearn: 0.0763072\ttotal: 4.49s\tremaining: 986ms\n",
      "820:\tlearn: 0.0760945\ttotal: 4.5s\tremaining: 981ms\n",
      "821:\tlearn: 0.0759837\ttotal: 4.5s\tremaining: 975ms\n",
      "822:\tlearn: 0.0759425\ttotal: 4.51s\tremaining: 969ms\n",
      "823:\tlearn: 0.0758699\ttotal: 4.51s\tremaining: 964ms\n",
      "824:\tlearn: 0.0757448\ttotal: 4.52s\tremaining: 958ms\n",
      "825:\tlearn: 0.0756972\ttotal: 4.52s\tremaining: 953ms\n",
      "826:\tlearn: 0.0755700\ttotal: 4.53s\tremaining: 947ms\n",
      "827:\tlearn: 0.0754773\ttotal: 4.53s\tremaining: 941ms\n",
      "828:\tlearn: 0.0753489\ttotal: 4.54s\tremaining: 936ms\n",
      "829:\tlearn: 0.0752803\ttotal: 4.54s\tremaining: 930ms\n",
      "830:\tlearn: 0.0751735\ttotal: 4.54s\tremaining: 924ms\n",
      "831:\tlearn: 0.0750598\ttotal: 4.55s\tremaining: 919ms\n",
      "832:\tlearn: 0.0749548\ttotal: 4.55s\tremaining: 913ms\n",
      "833:\tlearn: 0.0748069\ttotal: 4.56s\tremaining: 908ms\n",
      "834:\tlearn: 0.0747355\ttotal: 4.57s\tremaining: 902ms\n",
      "835:\tlearn: 0.0746112\ttotal: 4.57s\tremaining: 897ms\n",
      "836:\tlearn: 0.0745654\ttotal: 4.58s\tremaining: 891ms\n",
      "837:\tlearn: 0.0744264\ttotal: 4.58s\tremaining: 886ms\n",
      "838:\tlearn: 0.0743609\ttotal: 4.59s\tremaining: 880ms\n",
      "839:\tlearn: 0.0742093\ttotal: 4.59s\tremaining: 875ms\n",
      "840:\tlearn: 0.0741019\ttotal: 4.6s\tremaining: 869ms\n",
      "841:\tlearn: 0.0739653\ttotal: 4.6s\tremaining: 863ms\n",
      "842:\tlearn: 0.0738373\ttotal: 4.61s\tremaining: 858ms\n",
      "843:\tlearn: 0.0737616\ttotal: 4.61s\tremaining: 852ms\n",
      "844:\tlearn: 0.0736700\ttotal: 4.62s\tremaining: 847ms\n",
      "845:\tlearn: 0.0735378\ttotal: 4.62s\tremaining: 841ms\n",
      "846:\tlearn: 0.0734421\ttotal: 4.63s\tremaining: 835ms\n",
      "847:\tlearn: 0.0733694\ttotal: 4.63s\tremaining: 830ms\n",
      "848:\tlearn: 0.0732792\ttotal: 4.63s\tremaining: 824ms\n",
      "849:\tlearn: 0.0731568\ttotal: 4.64s\tremaining: 819ms\n",
      "850:\tlearn: 0.0730250\ttotal: 4.64s\tremaining: 813ms\n",
      "851:\tlearn: 0.0729189\ttotal: 4.65s\tremaining: 808ms\n",
      "852:\tlearn: 0.0727876\ttotal: 4.65s\tremaining: 802ms\n",
      "853:\tlearn: 0.0726623\ttotal: 4.66s\tremaining: 796ms\n",
      "854:\tlearn: 0.0725974\ttotal: 4.66s\tremaining: 791ms\n",
      "855:\tlearn: 0.0725567\ttotal: 4.67s\tremaining: 785ms\n",
      "856:\tlearn: 0.0724521\ttotal: 4.67s\tremaining: 780ms\n",
      "857:\tlearn: 0.0724127\ttotal: 4.68s\tremaining: 774ms\n",
      "858:\tlearn: 0.0723093\ttotal: 4.68s\tremaining: 769ms\n",
      "859:\tlearn: 0.0722985\ttotal: 4.69s\tremaining: 763ms\n",
      "860:\tlearn: 0.0722197\ttotal: 4.69s\tremaining: 757ms\n",
      "861:\tlearn: 0.0721822\ttotal: 4.7s\tremaining: 752ms\n",
      "862:\tlearn: 0.0721179\ttotal: 4.7s\tremaining: 746ms\n",
      "863:\tlearn: 0.0720037\ttotal: 4.71s\tremaining: 741ms\n",
      "864:\tlearn: 0.0719049\ttotal: 4.71s\tremaining: 735ms\n",
      "865:\tlearn: 0.0718421\ttotal: 4.71s\tremaining: 730ms\n",
      "866:\tlearn: 0.0717787\ttotal: 4.72s\tremaining: 724ms\n",
      "867:\tlearn: 0.0716735\ttotal: 4.72s\tremaining: 719ms\n",
      "868:\tlearn: 0.0716025\ttotal: 4.73s\tremaining: 713ms\n",
      "869:\tlearn: 0.0715425\ttotal: 4.73s\tremaining: 707ms\n",
      "870:\tlearn: 0.0714459\ttotal: 4.74s\tremaining: 702ms\n",
      "871:\tlearn: 0.0713160\ttotal: 4.74s\tremaining: 696ms\n",
      "872:\tlearn: 0.0712173\ttotal: 4.75s\tremaining: 691ms\n",
      "873:\tlearn: 0.0711570\ttotal: 4.75s\tremaining: 685ms\n",
      "874:\tlearn: 0.0710482\ttotal: 4.76s\tremaining: 680ms\n",
      "875:\tlearn: 0.0709906\ttotal: 4.76s\tremaining: 674ms\n",
      "876:\tlearn: 0.0708537\ttotal: 4.77s\tremaining: 669ms\n",
      "877:\tlearn: 0.0707490\ttotal: 4.78s\tremaining: 664ms\n",
      "878:\tlearn: 0.0706308\ttotal: 4.78s\tremaining: 658ms\n",
      "879:\tlearn: 0.0705884\ttotal: 4.79s\tremaining: 653ms\n",
      "880:\tlearn: 0.0704982\ttotal: 4.79s\tremaining: 647ms\n",
      "881:\tlearn: 0.0704018\ttotal: 4.79s\tremaining: 641ms\n",
      "882:\tlearn: 0.0702449\ttotal: 4.8s\tremaining: 636ms\n",
      "883:\tlearn: 0.0701087\ttotal: 4.8s\tremaining: 630ms\n",
      "884:\tlearn: 0.0700229\ttotal: 4.81s\tremaining: 625ms\n",
      "885:\tlearn: 0.0698699\ttotal: 4.81s\tremaining: 620ms\n",
      "886:\tlearn: 0.0697606\ttotal: 4.82s\tremaining: 614ms\n",
      "887:\tlearn: 0.0696645\ttotal: 4.82s\tremaining: 609ms\n",
      "888:\tlearn: 0.0695466\ttotal: 4.83s\tremaining: 603ms\n",
      "889:\tlearn: 0.0694583\ttotal: 4.83s\tremaining: 598ms\n",
      "890:\tlearn: 0.0693422\ttotal: 4.84s\tremaining: 592ms\n",
      "891:\tlearn: 0.0692407\ttotal: 4.84s\tremaining: 587ms\n",
      "892:\tlearn: 0.0691249\ttotal: 4.85s\tremaining: 581ms\n",
      "893:\tlearn: 0.0690097\ttotal: 4.85s\tremaining: 576ms\n",
      "894:\tlearn: 0.0689378\ttotal: 4.86s\tremaining: 570ms\n",
      "895:\tlearn: 0.0688792\ttotal: 4.86s\tremaining: 565ms\n",
      "896:\tlearn: 0.0688233\ttotal: 4.87s\tremaining: 559ms\n",
      "897:\tlearn: 0.0687179\ttotal: 4.87s\tremaining: 554ms\n",
      "898:\tlearn: 0.0686177\ttotal: 4.88s\tremaining: 548ms\n",
      "899:\tlearn: 0.0685829\ttotal: 4.88s\tremaining: 543ms\n",
      "900:\tlearn: 0.0685062\ttotal: 4.89s\tremaining: 537ms\n",
      "901:\tlearn: 0.0684197\ttotal: 4.89s\tremaining: 532ms\n",
      "902:\tlearn: 0.0683569\ttotal: 4.9s\tremaining: 526ms\n",
      "903:\tlearn: 0.0683218\ttotal: 4.9s\tremaining: 521ms\n",
      "904:\tlearn: 0.0681964\ttotal: 4.91s\tremaining: 515ms\n",
      "905:\tlearn: 0.0681274\ttotal: 4.91s\tremaining: 510ms\n",
      "906:\tlearn: 0.0680453\ttotal: 4.92s\tremaining: 504ms\n",
      "907:\tlearn: 0.0678952\ttotal: 4.92s\tremaining: 499ms\n"
     ]
    },
    {
     "name": "stdout",
     "output_type": "stream",
     "text": [
      "908:\tlearn: 0.0677674\ttotal: 4.93s\tremaining: 493ms\n",
      "909:\tlearn: 0.0676607\ttotal: 4.93s\tremaining: 488ms\n",
      "910:\tlearn: 0.0675119\ttotal: 4.94s\tremaining: 482ms\n",
      "911:\tlearn: 0.0674595\ttotal: 4.94s\tremaining: 477ms\n",
      "912:\tlearn: 0.0673674\ttotal: 4.95s\tremaining: 471ms\n",
      "913:\tlearn: 0.0672435\ttotal: 4.95s\tremaining: 466ms\n",
      "914:\tlearn: 0.0671298\ttotal: 4.96s\tremaining: 461ms\n",
      "915:\tlearn: 0.0670478\ttotal: 4.96s\tremaining: 455ms\n",
      "916:\tlearn: 0.0669828\ttotal: 4.97s\tremaining: 450ms\n",
      "917:\tlearn: 0.0669199\ttotal: 4.97s\tremaining: 444ms\n",
      "918:\tlearn: 0.0667852\ttotal: 4.98s\tremaining: 439ms\n",
      "919:\tlearn: 0.0666887\ttotal: 4.98s\tremaining: 433ms\n",
      "920:\tlearn: 0.0666201\ttotal: 4.99s\tremaining: 428ms\n",
      "921:\tlearn: 0.0665413\ttotal: 4.99s\tremaining: 422ms\n",
      "922:\tlearn: 0.0664319\ttotal: 5s\tremaining: 417ms\n",
      "923:\tlearn: 0.0663621\ttotal: 5s\tremaining: 411ms\n",
      "924:\tlearn: 0.0662641\ttotal: 5.01s\tremaining: 406ms\n",
      "925:\tlearn: 0.0662511\ttotal: 5.01s\tremaining: 401ms\n",
      "926:\tlearn: 0.0661809\ttotal: 5.02s\tremaining: 395ms\n",
      "927:\tlearn: 0.0661064\ttotal: 5.02s\tremaining: 390ms\n",
      "928:\tlearn: 0.0660485\ttotal: 5.03s\tremaining: 384ms\n",
      "929:\tlearn: 0.0659441\ttotal: 5.03s\tremaining: 379ms\n",
      "930:\tlearn: 0.0658106\ttotal: 5.04s\tremaining: 373ms\n",
      "931:\tlearn: 0.0657479\ttotal: 5.04s\tremaining: 368ms\n",
      "932:\tlearn: 0.0656319\ttotal: 5.05s\tremaining: 362ms\n",
      "933:\tlearn: 0.0655708\ttotal: 5.05s\tremaining: 357ms\n",
      "934:\tlearn: 0.0654581\ttotal: 5.05s\tremaining: 351ms\n",
      "935:\tlearn: 0.0653693\ttotal: 5.06s\tremaining: 346ms\n",
      "936:\tlearn: 0.0653144\ttotal: 5.07s\tremaining: 341ms\n",
      "937:\tlearn: 0.0652585\ttotal: 5.07s\tremaining: 335ms\n",
      "938:\tlearn: 0.0651804\ttotal: 5.07s\tremaining: 330ms\n",
      "939:\tlearn: 0.0651190\ttotal: 5.08s\tremaining: 324ms\n",
      "940:\tlearn: 0.0650170\ttotal: 5.08s\tremaining: 319ms\n",
      "941:\tlearn: 0.0649131\ttotal: 5.09s\tremaining: 313ms\n",
      "942:\tlearn: 0.0647873\ttotal: 5.09s\tremaining: 308ms\n",
      "943:\tlearn: 0.0647023\ttotal: 5.1s\tremaining: 302ms\n",
      "944:\tlearn: 0.0645823\ttotal: 5.1s\tremaining: 297ms\n",
      "945:\tlearn: 0.0644757\ttotal: 5.11s\tremaining: 292ms\n",
      "946:\tlearn: 0.0643953\ttotal: 5.11s\tremaining: 286ms\n",
      "947:\tlearn: 0.0643438\ttotal: 5.12s\tremaining: 281ms\n",
      "948:\tlearn: 0.0642645\ttotal: 5.13s\tremaining: 275ms\n",
      "949:\tlearn: 0.0642078\ttotal: 5.13s\tremaining: 270ms\n",
      "950:\tlearn: 0.0641344\ttotal: 5.13s\tremaining: 265ms\n",
      "951:\tlearn: 0.0640612\ttotal: 5.14s\tremaining: 259ms\n",
      "952:\tlearn: 0.0639578\ttotal: 5.14s\tremaining: 254ms\n",
      "953:\tlearn: 0.0638545\ttotal: 5.15s\tremaining: 248ms\n",
      "954:\tlearn: 0.0638021\ttotal: 5.15s\tremaining: 243ms\n",
      "955:\tlearn: 0.0636967\ttotal: 5.16s\tremaining: 237ms\n",
      "956:\tlearn: 0.0635928\ttotal: 5.16s\tremaining: 232ms\n",
      "957:\tlearn: 0.0634934\ttotal: 5.17s\tremaining: 227ms\n",
      "958:\tlearn: 0.0633878\ttotal: 5.17s\tremaining: 221ms\n",
      "959:\tlearn: 0.0632862\ttotal: 5.18s\tremaining: 216ms\n",
      "960:\tlearn: 0.0631780\ttotal: 5.18s\tremaining: 210ms\n",
      "961:\tlearn: 0.0631023\ttotal: 5.19s\tremaining: 205ms\n",
      "962:\tlearn: 0.0630179\ttotal: 5.19s\tremaining: 200ms\n",
      "963:\tlearn: 0.0628953\ttotal: 5.2s\tremaining: 194ms\n",
      "964:\tlearn: 0.0627948\ttotal: 5.2s\tremaining: 189ms\n",
      "965:\tlearn: 0.0627117\ttotal: 5.21s\tremaining: 183ms\n",
      "966:\tlearn: 0.0626142\ttotal: 5.21s\tremaining: 178ms\n",
      "967:\tlearn: 0.0625176\ttotal: 5.22s\tremaining: 173ms\n",
      "968:\tlearn: 0.0624389\ttotal: 5.22s\tremaining: 167ms\n",
      "969:\tlearn: 0.0623412\ttotal: 5.23s\tremaining: 162ms\n",
      "970:\tlearn: 0.0622614\ttotal: 5.23s\tremaining: 156ms\n",
      "971:\tlearn: 0.0621955\ttotal: 5.24s\tremaining: 151ms\n",
      "972:\tlearn: 0.0621187\ttotal: 5.24s\tremaining: 145ms\n",
      "973:\tlearn: 0.0620502\ttotal: 5.25s\tremaining: 140ms\n",
      "974:\tlearn: 0.0619722\ttotal: 5.25s\tremaining: 135ms\n",
      "975:\tlearn: 0.0618716\ttotal: 5.26s\tremaining: 129ms\n",
      "976:\tlearn: 0.0617878\ttotal: 5.26s\tremaining: 124ms\n",
      "977:\tlearn: 0.0616845\ttotal: 5.26s\tremaining: 118ms\n",
      "978:\tlearn: 0.0615839\ttotal: 5.27s\tremaining: 113ms\n",
      "979:\tlearn: 0.0615262\ttotal: 5.28s\tremaining: 108ms\n",
      "980:\tlearn: 0.0614122\ttotal: 5.28s\tremaining: 102ms\n",
      "981:\tlearn: 0.0613585\ttotal: 5.28s\tremaining: 96.9ms\n",
      "982:\tlearn: 0.0613011\ttotal: 5.29s\tremaining: 91.5ms\n",
      "983:\tlearn: 0.0612336\ttotal: 5.29s\tremaining: 86.1ms\n",
      "984:\tlearn: 0.0612039\ttotal: 5.3s\tremaining: 80.7ms\n",
      "985:\tlearn: 0.0611467\ttotal: 5.31s\tremaining: 75.3ms\n",
      "986:\tlearn: 0.0610970\ttotal: 5.31s\tremaining: 70ms\n",
      "987:\tlearn: 0.0610234\ttotal: 5.32s\tremaining: 64.6ms\n",
      "988:\tlearn: 0.0609317\ttotal: 5.32s\tremaining: 59.2ms\n",
      "989:\tlearn: 0.0608329\ttotal: 5.33s\tremaining: 53.8ms\n",
      "990:\tlearn: 0.0607507\ttotal: 5.33s\tremaining: 48.4ms\n",
      "991:\tlearn: 0.0606537\ttotal: 5.34s\tremaining: 43ms\n",
      "992:\tlearn: 0.0605813\ttotal: 5.34s\tremaining: 37.6ms\n",
      "993:\tlearn: 0.0604813\ttotal: 5.34s\tremaining: 32.3ms\n",
      "994:\tlearn: 0.0603839\ttotal: 5.35s\tremaining: 26.9ms\n",
      "995:\tlearn: 0.0602933\ttotal: 5.36s\tremaining: 21.5ms\n",
      "996:\tlearn: 0.0602025\ttotal: 5.36s\tremaining: 16.1ms\n",
      "997:\tlearn: 0.0601374\ttotal: 5.37s\tremaining: 10.8ms\n",
      "998:\tlearn: 0.0601068\ttotal: 5.37s\tremaining: 5.38ms\n",
      "999:\tlearn: 0.0600273\ttotal: 5.37s\tremaining: 0us\n",
      "Catboost F1 score on validation set is :  0.6825396825396826\n"
     ]
    }
   ],
   "source": [
    "cat_mod.fit(X_smote, y_smote, use_best_model=True,)\n",
    "\n",
    "y_cat=cat_mod.predict(X_test,)\n",
    "\n",
    "\n",
    "print(\"Catboost F1 score on validation set is : \",f1_score(y_test,y_cat))\n"
   ]
  },
  {
   "cell_type": "code",
   "execution_count": null,
   "id": "e5202d40",
   "metadata": {},
   "outputs": [],
   "source": [
    "params = {'depth':[3,1,2,6,4,5,7,8,9,10],\n",
    "          'iterations':[250,100,500,1000],\n",
    "          'learning_rate':[0.03,0.001,0.01,0.1,0.2,0.3], \n",
    "          'l2_leaf_reg':[3,1,5,10,100],\n",
    "          'border_count':[32,5,10,20,50,100,200],\n",
    "          'ctr_border_count':[50,5,10,20,100,200],\n",
    "          'thread_count':[4]}"
   ]
  },
  {
   "cell_type": "code",
   "execution_count": 58,
   "id": "4c0fd6a8",
   "metadata": {},
   "outputs": [],
   "source": [
    "from sklearn.metrics import f1_score\n",
    "lgbc = lgb.LGBMClassifier()\n",
    "\n",
    "lgbc.fit(X_train, y_train)\n",
    "y_lgbc = lgbc.predict(X_test)\n",
    "f1_score(y_lgbc,y_test)"
   ]
  },
  {
   "cell_type": "code",
   "execution_count": null,
   "id": "d7d9d58d",
   "metadata": {},
   "outputs": [],
   "source": [
    "param_grid = {\n",
    "        # \"device_type\": trial.suggest_categorical(\"device_type\", ['gpu']),\n",
    "        \"n_estimators\": trial.suggest_categorical(\"n_estimators\", [10000]),\n",
    "        \"learning_rate\": trial.suggest_float(\"learning_rate\", 0.01, 0.3),\n",
    "        \"num_leaves\": trial.suggest_int(\"num_leaves\", 20, 3000, step=20),\n",
    "        \"max_depth\": trial.suggest_int(\"max_depth\", 3, 12),\n",
    "        \"min_data_in_leaf\": trial.suggest_int(\"min_data_in_leaf\", 200, 10000, step=100),\n",
    "        \"lambda_l1\": trial.suggest_int(\"lambda_l1\", 0, 100, step=5),\n",
    "        \"lambda_l2\": trial.suggest_int(\"lambda_l2\", 0, 100, step=5),\n",
    "        \"min_gain_to_split\": trial.suggest_float(\"min_gain_to_split\", 0, 15),\n",
    "        \"bagging_fraction\": trial.suggest_float(\n",
    "            \"bagging_fraction\", 0.2, 0.95, step=0.1\n",
    "        ),\n",
    "        \"bagging_freq\": trial.suggest_categorical(\"bagging_freq\", [1]),\n",
    "        \"feature_fraction\": trial.suggest_float(\n",
    "            \"feature_fraction\", 0.2, 0.95, step=0.1)\n",
    "}"
   ]
  },
  {
   "cell_type": "code",
   "execution_count": null,
   "id": "88ef2db3",
   "metadata": {},
   "outputs": [],
   "source": [
    "grid_cb= GridSearchCV(cat_mod, param_grid=params, cv=cv_, scoring='f1')\n",
    "grid_cb.fit(X_train,y_train)\n"
   ]
  },
  {
   "cell_type": "markdown",
   "id": "75ddc001",
   "metadata": {},
   "source": [
    "# SUBMISSION"
   ]
  },
  {
   "cell_type": "code",
   "execution_count": 59,
   "id": "ee299c0a",
   "metadata": {},
   "outputs": [
    {
     "ename": "NameError",
     "evalue": "name 'cat_mod' is not defined",
     "output_type": "error",
     "traceback": [
      "\u001b[1;31m---------------------------------------------------------------------------\u001b[0m",
      "\u001b[1;31mNameError\u001b[0m                                 Traceback (most recent call last)",
      "\u001b[1;32m<ipython-input-59-25afc37cf0ac>\u001b[0m in \u001b[0;36m<module>\u001b[1;34m\u001b[0m\n\u001b[1;32m----> 1\u001b[1;33m \u001b[0msubmission_file\u001b[0m\u001b[1;33m[\u001b[0m\u001b[1;34m'Response'\u001b[0m\u001b[1;33m]\u001b[0m \u001b[1;33m=\u001b[0m \u001b[0mcat_mod\u001b[0m\u001b[1;33m.\u001b[0m\u001b[0mpredict\u001b[0m\u001b[1;33m(\u001b[0m\u001b[0mX_sub\u001b[0m\u001b[1;33m)\u001b[0m\u001b[1;33m\u001b[0m\u001b[1;33m\u001b[0m\u001b[0m\n\u001b[0m",
      "\u001b[1;31mNameError\u001b[0m: name 'cat_mod' is not defined"
     ]
    }
   ],
   "source": [
    "submission_file['Response'] = cat_mod.predict(X_sub)"
   ]
  },
  {
   "cell_type": "code",
   "execution_count": null,
   "id": "21b35025",
   "metadata": {},
   "outputs": [],
   "source": [
    "submission_file.to_csv(r\"C:\\Users\\Atehe Stephen\\Documents\\New folder\\cat1.csv\", index=False)"
   ]
  },
  {
   "cell_type": "code",
   "execution_count": null,
   "id": "2115736a",
   "metadata": {},
   "outputs": [],
   "source": []
  }
 ],
 "metadata": {
  "kernelspec": {
   "display_name": "Python 3",
   "language": "python",
   "name": "python3"
  },
  "language_info": {
   "codemirror_mode": {
    "name": "ipython",
    "version": 3
   },
   "file_extension": ".py",
   "mimetype": "text/x-python",
   "name": "python",
   "nbconvert_exporter": "python",
   "pygments_lexer": "ipython3",
   "version": "3.8.8"
  }
 },
 "nbformat": 4,
 "nbformat_minor": 5
}
