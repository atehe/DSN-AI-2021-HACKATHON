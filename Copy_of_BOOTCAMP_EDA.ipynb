{
  "nbformat": 4,
  "nbformat_minor": 5,
  "metadata": {
    "kernelspec": {
      "display_name": "Python 3",
      "language": "python",
      "name": "python3"
    },
    "language_info": {
      "codemirror_mode": {
        "name": "ipython",
        "version": 3
      },
      "file_extension": ".py",
      "mimetype": "text/x-python",
      "name": "python",
      "nbconvert_exporter": "python",
      "pygments_lexer": "ipython3",
      "version": "3.8.8"
    },
    "colab": {
      "name": "Copy of BOOTCAMP EDA.ipynb",
      "provenance": [],
      "collapsed_sections": [
        "2db7fb5f"
      ],
      "include_colab_link": true
    }
  },
  "cells": [
    {
      "cell_type": "markdown",
      "metadata": {
        "id": "view-in-github",
        "colab_type": "text"
      },
      "source": [
        "<a href=\"https://colab.research.google.com/github/atehe/DSN-AI-2021-HACKATHON/blob/main/Copy_of_BOOTCAMP_EDA.ipynb\" target=\"_parent\"><img src=\"https://colab.research.google.com/assets/colab-badge.svg\" alt=\"Open In Colab\"/></a>"
      ]
    },
    {
      "cell_type": "code",
      "metadata": {
        "id": "b861ecb6"
      },
      "source": [
        "import pandas as pd\n",
        "import numpy as np\n",
        "import matplotlib.pyplot as plt\n",
        "import seaborn as sns"
      ],
      "id": "b861ecb6",
      "execution_count": null,
      "outputs": []
    },
    {
      "cell_type": "code",
      "metadata": {
        "scrolled": false,
        "id": "d2631583",
        "colab": {
          "base_uri": "https://localhost:8080/",
          "height": 242
        },
        "outputId": "0769a8be-e2c3-4724-f71e-44419cb12ad4"
      },
      "source": [
        "url = 'http://syllabus.africacode.net/projects/data-science-specific/bootcamp-exploratory-data-analysis/data.csv'\n",
        "df = pd.read_csv(url)\n",
        "df.head()"
      ],
      "id": "d2631583",
      "execution_count": null,
      "outputs": [
        {
          "output_type": "execute_result",
          "data": {
            "text/html": [
              "<div>\n",
              "<style scoped>\n",
              "    .dataframe tbody tr th:only-of-type {\n",
              "        vertical-align: middle;\n",
              "    }\n",
              "\n",
              "    .dataframe tbody tr th {\n",
              "        vertical-align: top;\n",
              "    }\n",
              "\n",
              "    .dataframe thead th {\n",
              "        text-align: right;\n",
              "    }\n",
              "</style>\n",
              "<table border=\"1\" class=\"dataframe\">\n",
              "  <thead>\n",
              "    <tr style=\"text-align: right;\">\n",
              "      <th></th>\n",
              "      <th>Country</th>\n",
              "      <th>Region</th>\n",
              "      <th>Population</th>\n",
              "      <th>Under15</th>\n",
              "      <th>Over60</th>\n",
              "      <th>FertilityRate</th>\n",
              "      <th>LifeExpectancy</th>\n",
              "      <th>ChildMortality</th>\n",
              "      <th>CellularSubscribers</th>\n",
              "      <th>LiteracyRate</th>\n",
              "      <th>GNI</th>\n",
              "      <th>PrimarySchoolEnrollmentMale</th>\n",
              "      <th>PrimarySchoolEnrollmentFemale</th>\n",
              "    </tr>\n",
              "  </thead>\n",
              "  <tbody>\n",
              "    <tr>\n",
              "      <th>0</th>\n",
              "      <td>Afghanistan</td>\n",
              "      <td>Eastern Mediterranean</td>\n",
              "      <td>29825</td>\n",
              "      <td>47.42</td>\n",
              "      <td>3.82</td>\n",
              "      <td>5.40</td>\n",
              "      <td>60</td>\n",
              "      <td>98.5</td>\n",
              "      <td>54.26</td>\n",
              "      <td>NaN</td>\n",
              "      <td>1140.0</td>\n",
              "      <td>NaN</td>\n",
              "      <td>NaN</td>\n",
              "    </tr>\n",
              "    <tr>\n",
              "      <th>1</th>\n",
              "      <td>Albania</td>\n",
              "      <td>Europe</td>\n",
              "      <td>3162</td>\n",
              "      <td>21.33</td>\n",
              "      <td>14.93</td>\n",
              "      <td>1.75</td>\n",
              "      <td>74</td>\n",
              "      <td>16.7</td>\n",
              "      <td>96.39</td>\n",
              "      <td>NaN</td>\n",
              "      <td>8820.0</td>\n",
              "      <td>NaN</td>\n",
              "      <td>NaN</td>\n",
              "    </tr>\n",
              "    <tr>\n",
              "      <th>2</th>\n",
              "      <td>Algeria</td>\n",
              "      <td>Africa</td>\n",
              "      <td>38482</td>\n",
              "      <td>27.42</td>\n",
              "      <td>7.17</td>\n",
              "      <td>2.83</td>\n",
              "      <td>73</td>\n",
              "      <td>20.0</td>\n",
              "      <td>98.99</td>\n",
              "      <td>NaN</td>\n",
              "      <td>8310.0</td>\n",
              "      <td>98.2</td>\n",
              "      <td>96.4</td>\n",
              "    </tr>\n",
              "    <tr>\n",
              "      <th>3</th>\n",
              "      <td>Andorra</td>\n",
              "      <td>Europe</td>\n",
              "      <td>78</td>\n",
              "      <td>15.20</td>\n",
              "      <td>22.86</td>\n",
              "      <td>NaN</td>\n",
              "      <td>82</td>\n",
              "      <td>3.2</td>\n",
              "      <td>75.49</td>\n",
              "      <td>NaN</td>\n",
              "      <td>NaN</td>\n",
              "      <td>78.4</td>\n",
              "      <td>79.4</td>\n",
              "    </tr>\n",
              "    <tr>\n",
              "      <th>4</th>\n",
              "      <td>Angola</td>\n",
              "      <td>Africa</td>\n",
              "      <td>20821</td>\n",
              "      <td>47.58</td>\n",
              "      <td>3.84</td>\n",
              "      <td>6.10</td>\n",
              "      <td>51</td>\n",
              "      <td>163.5</td>\n",
              "      <td>48.38</td>\n",
              "      <td>70.1</td>\n",
              "      <td>5230.0</td>\n",
              "      <td>93.1</td>\n",
              "      <td>78.2</td>\n",
              "    </tr>\n",
              "  </tbody>\n",
              "</table>\n",
              "</div>"
            ],
            "text/plain": [
              "       Country  ... PrimarySchoolEnrollmentFemale\n",
              "0  Afghanistan  ...                           NaN\n",
              "1      Albania  ...                           NaN\n",
              "2      Algeria  ...                          96.4\n",
              "3      Andorra  ...                          79.4\n",
              "4       Angola  ...                          78.2\n",
              "\n",
              "[5 rows x 13 columns]"
            ]
          },
          "metadata": {},
          "execution_count": 2
        }
      ]
    },
    {
      "cell_type": "markdown",
      "metadata": {
        "id": "06d711f3"
      },
      "source": [
        "#### **DATA PREPROCESSING**"
      ],
      "id": "06d711f3"
    },
    {
      "cell_type": "code",
      "metadata": {
        "scrolled": false,
        "id": "3ca02fbc",
        "colab": {
          "base_uri": "https://localhost:8080/"
        },
        "outputId": "8eb6f328-6bb1-4587-9679-e46594320d86"
      },
      "source": [
        "print('Number of null values in each column:'.upper())\n",
        "df.isna().sum()"
      ],
      "id": "3ca02fbc",
      "execution_count": null,
      "outputs": [
        {
          "output_type": "stream",
          "name": "stdout",
          "text": [
            "NUMBER OF NULL VALUES IN EACH COLUMN:\n"
          ]
        },
        {
          "output_type": "execute_result",
          "data": {
            "text/plain": [
              "Country                           0\n",
              "Region                            0\n",
              "Population                        0\n",
              "Under15                           0\n",
              "Over60                            0\n",
              "FertilityRate                    11\n",
              "LifeExpectancy                    0\n",
              "ChildMortality                    0\n",
              "CellularSubscribers              10\n",
              "LiteracyRate                     91\n",
              "GNI                              32\n",
              "PrimarySchoolEnrollmentMale      93\n",
              "PrimarySchoolEnrollmentFemale    93\n",
              "dtype: int64"
            ]
          },
          "metadata": {},
          "execution_count": 3
        }
      ]
    },
    {
      "cell_type": "code",
      "metadata": {
        "scrolled": true,
        "id": "cb1ebf92",
        "colab": {
          "base_uri": "https://localhost:8080/"
        },
        "outputId": "8f37b9ee-9511-4b0b-aa63-a27e3a808aa7"
      },
      "source": [
        "print('Rows containing null values:', df[df.isna().any(axis=1)].shape)"
      ],
      "id": "cb1ebf92",
      "execution_count": null,
      "outputs": [
        {
          "output_type": "stream",
          "name": "stdout",
          "text": [
            "Rows containing null values: (144, 13)\n"
          ]
        }
      ]
    },
    {
      "cell_type": "code",
      "metadata": {
        "id": "d0366eb7",
        "colab": {
          "base_uri": "https://localhost:8080/"
        },
        "outputId": "36df630c-1acb-4386-e2e4-61a73b8bb2b1"
      },
      "source": [
        "print('Shape of dataset is:', df.shape)"
      ],
      "id": "d0366eb7",
      "execution_count": null,
      "outputs": [
        {
          "output_type": "stream",
          "name": "stdout",
          "text": [
            "Shape of dataset is: (194, 13)\n"
          ]
        }
      ]
    },
    {
      "cell_type": "markdown",
      "metadata": {
        "id": "76eeb0ba"
      },
      "source": [
        "1.   **Over 60% of rows in the dataset contain null values**\n",
        "- **Replacing the null values with mean of their group by region:**"
      ],
      "id": "76eeb0ba"
    },
    {
      "cell_type": "code",
      "metadata": {
        "id": "-2FLespMz8-F"
      },
      "source": [
        "for col in df.columns:\n",
        "    if df[col].isna().sum():\n",
        "        df.replace(np.nan, df[col].mean(),inplace=True)"
      ],
      "id": "-2FLespMz8-F",
      "execution_count": null,
      "outputs": []
    },
    {
      "cell_type": "code",
      "metadata": {
        "colab": {
          "base_uri": "https://localhost:8080/"
        },
        "id": "cN9ijcZRGfUr",
        "outputId": "7e70dd45-becf-4a77-a6dc-7e1c07077af5"
      },
      "source": [
        "df.isna().sum()"
      ],
      "id": "cN9ijcZRGfUr",
      "execution_count": null,
      "outputs": [
        {
          "output_type": "execute_result",
          "data": {
            "text/plain": [
              "Country                          0\n",
              "Region                           0\n",
              "Population                       0\n",
              "Under15                          0\n",
              "Over60                           0\n",
              "FertilityRate                    0\n",
              "LifeExpectancy                   0\n",
              "ChildMortality                   0\n",
              "CellularSubscribers              0\n",
              "LiteracyRate                     0\n",
              "GNI                              0\n",
              "PrimarySchoolEnrollmentMale      0\n",
              "PrimarySchoolEnrollmentFemale    0\n",
              "dtype: int64"
            ]
          },
          "metadata": {},
          "execution_count": 7
        }
      ]
    },
    {
      "cell_type": "code",
      "metadata": {
        "scrolled": true,
        "id": "d8f43353",
        "colab": {
          "base_uri": "https://localhost:8080/"
        },
        "outputId": "209dd4cd-112b-444d-b1ee-39b330ad1508"
      },
      "source": [
        "print('COLUMNS DATATYPE:')\n",
        "df.dtypes"
      ],
      "id": "d8f43353",
      "execution_count": null,
      "outputs": [
        {
          "output_type": "stream",
          "name": "stdout",
          "text": [
            "COLUMNS DATATYPE:\n"
          ]
        },
        {
          "output_type": "execute_result",
          "data": {
            "text/plain": [
              "Country                           object\n",
              "Region                            object\n",
              "Population                         int64\n",
              "Under15                          float64\n",
              "Over60                           float64\n",
              "FertilityRate                    float64\n",
              "LifeExpectancy                     int64\n",
              "ChildMortality                   float64\n",
              "CellularSubscribers              float64\n",
              "LiteracyRate                     float64\n",
              "GNI                              float64\n",
              "PrimarySchoolEnrollmentMale      float64\n",
              "PrimarySchoolEnrollmentFemale    float64\n",
              "dtype: object"
            ]
          },
          "metadata": {},
          "execution_count": 8
        }
      ]
    },
    {
      "cell_type": "markdown",
      "metadata": {
        "id": "2db7fb5f"
      },
      "source": [
        "#### **EXPLORATORY DATA ANALYIS**"
      ],
      "id": "2db7fb5f"
    },
    {
      "cell_type": "code",
      "metadata": {
        "scrolled": true,
        "id": "6055f9a6",
        "colab": {
          "base_uri": "https://localhost:8080/"
        },
        "outputId": "d15acb64-10d9-4ed4-fef1-59016a588e80"
      },
      "source": [
        "for col in df.columns:\n",
        "    if df[col].dtypes == 'O':\n",
        "        print(f'{col.upper()} VALUES AND COUNT')\n",
        "        print('------'*5)\n",
        "        print(df[col].value_counts())\n",
        "        print('------'*5)"
      ],
      "id": "6055f9a6",
      "execution_count": null,
      "outputs": [
        {
          "output_type": "stream",
          "name": "stdout",
          "text": [
            "COUNTRY VALUES AND COUNT\n",
            "------------------------------\n",
            "Republic of Moldova                 1\n",
            "Italy                               1\n",
            "Malaysia                            1\n",
            "Burkina Faso                        1\n",
            "Rwanda                              1\n",
            "                                   ..\n",
            "Armenia                             1\n",
            "Bulgaria                            1\n",
            "Democratic Republic of the Congo    1\n",
            "Honduras                            1\n",
            "Botswana                            1\n",
            "Name: Country, Length: 194, dtype: int64\n",
            "------------------------------\n",
            "REGION VALUES AND COUNT\n",
            "------------------------------\n",
            "Europe                   53\n",
            "Africa                   46\n",
            "Americas                 35\n",
            "Western Pacific          27\n",
            "Eastern Mediterranean    22\n",
            "South-East Asia          11\n",
            "Name: Region, dtype: int64\n",
            "------------------------------\n"
          ]
        }
      ]
    },
    {
      "cell_type": "code",
      "metadata": {
        "scrolled": true,
        "id": "3925b628",
        "colab": {
          "base_uri": "https://localhost:8080/",
          "height": 490
        },
        "outputId": "bddb9ec3-77d0-47d4-86f9-38d54778316e"
      },
      "source": [
        "print('% OF POPULATION UNDER I5 FOR EACH COUNTRY:')\n",
        "df.groupby('Country')['Under15'].mean().sort_values().to_frame()"
      ],
      "id": "3925b628",
      "execution_count": null,
      "outputs": [
        {
          "output_type": "stream",
          "name": "stdout",
          "text": [
            "% OF POPULATION UNDER I5 FOR EACH COUNTRY:\n"
          ]
        },
        {
          "output_type": "execute_result",
          "data": {
            "text/html": [
              "<div>\n",
              "<style scoped>\n",
              "    .dataframe tbody tr th:only-of-type {\n",
              "        vertical-align: middle;\n",
              "    }\n",
              "\n",
              "    .dataframe tbody tr th {\n",
              "        vertical-align: top;\n",
              "    }\n",
              "\n",
              "    .dataframe thead th {\n",
              "        text-align: right;\n",
              "    }\n",
              "</style>\n",
              "<table border=\"1\" class=\"dataframe\">\n",
              "  <thead>\n",
              "    <tr style=\"text-align: right;\">\n",
              "      <th></th>\n",
              "      <th>Under15</th>\n",
              "    </tr>\n",
              "    <tr>\n",
              "      <th>Country</th>\n",
              "      <th></th>\n",
              "    </tr>\n",
              "  </thead>\n",
              "  <tbody>\n",
              "    <tr>\n",
              "      <th>Japan</th>\n",
              "      <td>13.12</td>\n",
              "    </tr>\n",
              "    <tr>\n",
              "      <th>Germany</th>\n",
              "      <td>13.17</td>\n",
              "    </tr>\n",
              "    <tr>\n",
              "      <th>Qatar</th>\n",
              "      <td>13.28</td>\n",
              "    </tr>\n",
              "    <tr>\n",
              "      <th>Bulgaria</th>\n",
              "      <td>13.53</td>\n",
              "    </tr>\n",
              "    <tr>\n",
              "      <th>Italy</th>\n",
              "      <td>14.04</td>\n",
              "    </tr>\n",
              "    <tr>\n",
              "      <th>...</th>\n",
              "      <td>...</td>\n",
              "    </tr>\n",
              "    <tr>\n",
              "      <th>Afghanistan</th>\n",
              "      <td>47.42</td>\n",
              "    </tr>\n",
              "    <tr>\n",
              "      <th>Angola</th>\n",
              "      <td>47.58</td>\n",
              "    </tr>\n",
              "    <tr>\n",
              "      <th>Chad</th>\n",
              "      <td>48.52</td>\n",
              "    </tr>\n",
              "    <tr>\n",
              "      <th>Uganda</th>\n",
              "      <td>48.54</td>\n",
              "    </tr>\n",
              "    <tr>\n",
              "      <th>Niger</th>\n",
              "      <td>49.99</td>\n",
              "    </tr>\n",
              "  </tbody>\n",
              "</table>\n",
              "<p>194 rows × 1 columns</p>\n",
              "</div>"
            ],
            "text/plain": [
              "             Under15\n",
              "Country             \n",
              "Japan          13.12\n",
              "Germany        13.17\n",
              "Qatar          13.28\n",
              "Bulgaria       13.53\n",
              "Italy          14.04\n",
              "...              ...\n",
              "Afghanistan    47.42\n",
              "Angola         47.58\n",
              "Chad           48.52\n",
              "Uganda         48.54\n",
              "Niger          49.99\n",
              "\n",
              "[194 rows x 1 columns]"
            ]
          },
          "metadata": {},
          "execution_count": 10
        }
      ]
    },
    {
      "cell_type": "markdown",
      "metadata": {
        "id": "ddd0555f"
      },
      "source": [
        "3. **Japan has the lowest percentage of population under 15 while Niger has the higest, with almost 50% of its population being under 15**"
      ],
      "id": "ddd0555f"
    },
    {
      "cell_type": "code",
      "metadata": {
        "scrolled": true,
        "id": "21322494",
        "colab": {
          "base_uri": "https://localhost:8080/",
          "height": 569
        },
        "outputId": "8287879d-e500-43cf-c89b-d24a96288fab"
      },
      "source": [
        "df['Pop_over_60'] = (df['Over60'] / 100) * df['Population']\n",
        "\n",
        "df_over_60 = df.groupby('Region')[['Pop_over_60','Population']].sum()\n",
        "df_over_60['Perc_over_60'] = (df_over_60['Pop_over_60'] / df_over_60['Population']) * 100\n",
        "\n",
        "print('% OF POPULATION OVER 60 FOR EACH REGION: \\n')\n",
        "print(df_over_60['Perc_over_60'].sort_values(ascending=False), '\\n')\n",
        "df_over_60['Perc_over_60'].sort_values(ascending=False).plot.bar()"
      ],
      "id": "21322494",
      "execution_count": null,
      "outputs": [
        {
          "output_type": "stream",
          "name": "stdout",
          "text": [
            "% OF POPULATION OVER 60 FOR EACH REGION: \n",
            "\n",
            "Region\n",
            "Europe                   20.218107\n",
            "Western Pacific          14.079193\n",
            "Americas                 13.657760\n",
            "South-East Asia           8.282772\n",
            "Eastern Mediterranean     6.412040\n",
            "Africa                    4.954125\n",
            "Name: Perc_over_60, dtype: float64 \n",
            "\n"
          ]
        },
        {
          "output_type": "execute_result",
          "data": {
            "text/plain": [
              "<matplotlib.axes._subplots.AxesSubplot at 0x7f764ae54f50>"
            ]
          },
          "metadata": {},
          "execution_count": 11
        },
        {
          "output_type": "display_data",
          "data": {
            "image/png": "[encoded data removed]",
            "text/plain": [
              "<Figure size 432x288 with 1 Axes>"
            ]
          },
          "metadata": {
            "needs_background": "light"
          }
        }
      ]
    },
    {
      "cell_type": "markdown",
      "metadata": {
        "id": "66bbdca7"
      },
      "source": [
        "4. **Europe has the largest percentage of population of people over 60 years**"
      ],
      "id": "66bbdca7"
    },
    {
      "cell_type": "code",
      "metadata": {
        "scrolled": false,
        "id": "55469ca1",
        "colab": {
          "base_uri": "https://localhost:8080/",
          "height": 303
        },
        "outputId": "952cd4ec-378d-464f-e262-da3a52cc1300"
      },
      "source": [
        "print('REGRESSION PLOT OF FERTILITY RATE AND INCOME')\n",
        "sns.regplot(y='FertilityRate', x='GNI', data=df, )"
      ],
      "id": "55469ca1",
      "execution_count": null,
      "outputs": [
        {
          "output_type": "stream",
          "name": "stdout",
          "text": [
            "REGRESSION PLOT OF FERTILITY RATE AND INCOME\n"
          ]
        },
        {
          "output_type": "execute_result",
          "data": {
            "text/plain": [
              "<matplotlib.axes._subplots.AxesSubplot at 0x7f764ad75490>"
            ]
          },
          "metadata": {},
          "execution_count": 12
        },
        {
          "output_type": "display_data",
          "data": {
            "image/png": "[encoded data removed]",
            "text/plain": [
              "<Figure size 432x288 with 1 Axes>"
            ]
          },
          "metadata": {
            "needs_background": "light"
          }
        }
      ]
    },
    {
      "cell_type": "markdown",
      "metadata": {
        "id": "9fb7f2c3"
      },
      "source": [
        "5. **As shown by the regplot**\n",
        "- Fertility decreases as income increases with some outliers (countries that do not follow the relation)\n",
        "\n",
        " **The outliers are shown below:**"
      ],
      "id": "9fb7f2c3"
    },
    {
      "cell_type": "code",
      "metadata": {
        "id": "18c10bba",
        "colab": {
          "base_uri": "https://localhost:8080/",
          "height": 166
        },
        "outputId": "a79be56b-506f-4873-ec49-714e5769387e"
      },
      "source": [
        "print('COUNTRIES THAT DO NOT FOLLOW THE RELATION BETWEEN FERTILTY RATE AND INCOME:')\n",
        "df[(df['GNI']>10000)&(df['FertilityRate']>4)]"
      ],
      "id": "18c10bba",
      "execution_count": null,
      "outputs": [
        {
          "output_type": "stream",
          "name": "stdout",
          "text": [
            "COUNTRIES THAT DO NOT FOLLOW THE RELATION BETWEEN FERTILTY RATE AND INCOME:\n"
          ]
        },
        {
          "output_type": "execute_result",
          "data": {
            "text/html": [
              "<div>\n",
              "<style scoped>\n",
              "    .dataframe tbody tr th:only-of-type {\n",
              "        vertical-align: middle;\n",
              "    }\n",
              "\n",
              "    .dataframe tbody tr th {\n",
              "        vertical-align: top;\n",
              "    }\n",
              "\n",
              "    .dataframe thead th {\n",
              "        text-align: right;\n",
              "    }\n",
              "</style>\n",
              "<table border=\"1\" class=\"dataframe\">\n",
              "  <thead>\n",
              "    <tr style=\"text-align: right;\">\n",
              "      <th></th>\n",
              "      <th>Country</th>\n",
              "      <th>Region</th>\n",
              "      <th>Population</th>\n",
              "      <th>Under15</th>\n",
              "      <th>Over60</th>\n",
              "      <th>FertilityRate</th>\n",
              "      <th>LifeExpectancy</th>\n",
              "      <th>ChildMortality</th>\n",
              "      <th>CellularSubscribers</th>\n",
              "      <th>LiteracyRate</th>\n",
              "      <th>GNI</th>\n",
              "      <th>PrimarySchoolEnrollmentMale</th>\n",
              "      <th>PrimarySchoolEnrollmentFemale</th>\n",
              "      <th>Pop_over_60</th>\n",
              "    </tr>\n",
              "  </thead>\n",
              "  <tbody>\n",
              "    <tr>\n",
              "      <th>55</th>\n",
              "      <td>Equatorial Guinea</td>\n",
              "      <td>Africa</td>\n",
              "      <td>736</td>\n",
              "      <td>38.95</td>\n",
              "      <td>4.53</td>\n",
              "      <td>5.04</td>\n",
              "      <td>54</td>\n",
              "      <td>100.3</td>\n",
              "      <td>59.15</td>\n",
              "      <td>93.9</td>\n",
              "      <td>25620.0</td>\n",
              "      <td>56.500000</td>\n",
              "      <td>56.000000</td>\n",
              "      <td>33.3408</td>\n",
              "    </tr>\n",
              "    <tr>\n",
              "      <th>62</th>\n",
              "      <td>Gabon</td>\n",
              "      <td>Africa</td>\n",
              "      <td>1633</td>\n",
              "      <td>38.49</td>\n",
              "      <td>7.38</td>\n",
              "      <td>4.18</td>\n",
              "      <td>62</td>\n",
              "      <td>62.0</td>\n",
              "      <td>117.32</td>\n",
              "      <td>88.4</td>\n",
              "      <td>13740.0</td>\n",
              "      <td>2.940656</td>\n",
              "      <td>2.940656</td>\n",
              "      <td>120.5154</td>\n",
              "    </tr>\n",
              "  </tbody>\n",
              "</table>\n",
              "</div>"
            ],
            "text/plain": [
              "              Country  Region  ...  PrimarySchoolEnrollmentFemale  Pop_over_60\n",
              "55  Equatorial Guinea  Africa  ...                      56.000000      33.3408\n",
              "62              Gabon  Africa  ...                       2.940656     120.5154\n",
              "\n",
              "[2 rows x 14 columns]"
            ]
          },
          "metadata": {},
          "execution_count": 13
        }
      ]
    },
    {
      "cell_type": "code",
      "metadata": {
        "id": "38f48217",
        "colab": {
          "base_uri": "https://localhost:8080/",
          "height": 526
        },
        "outputId": "46764cfb-8c0c-4191-a0aa-99a1b02c7678"
      },
      "source": [
        "df['literacy_pop'] = (df['LiteracyRate'] / 100) * df['Population']\n",
        "\n",
        "df_over_60 = df.groupby('Region')[['literacy_pop','Population']].sum()\n",
        "df_over_60['literacy_perc'] = (df_over_60['literacy_pop'] / df_over_60['Population']) * 100\n",
        "\n",
        "print(df_over_60['literacy_perc'])\n",
        "df_over_60['literacy_perc'].plot.bar()"
      ],
      "id": "38f48217",
      "execution_count": null,
      "outputs": [
        {
          "output_type": "stream",
          "name": "stdout",
          "text": [
            "Region\n",
            "Africa                   45.497919\n",
            "Americas                 31.003831\n",
            "Eastern Mediterranean    31.732164\n",
            "Europe                   54.638685\n",
            "South-East Asia          11.957944\n",
            "Western Pacific          78.122969\n",
            "Name: literacy_perc, dtype: float64\n"
          ]
        },
        {
          "output_type": "execute_result",
          "data": {
            "text/plain": [
              "<matplotlib.axes._subplots.AxesSubplot at 0x7f764a819050>"
            ]
          },
          "metadata": {},
          "execution_count": 14
        },
        {
          "output_type": "display_data",
          "data": {
            "image/png": "[encoded data removed]",
            "text/plain": [
              "<Figure size 432x288 with 1 Axes>"
            ]
          },
          "metadata": {
            "needs_background": "light"
          }
        }
      ]
    },
    {
      "cell_type": "markdown",
      "metadata": {
        "id": "_FCV4PYhvbZ3"
      },
      "source": [
        "6. **South-East Asia region has the lowest literacy rates**"
      ],
      "id": "_FCV4PYhvbZ3"
    },
    {
      "cell_type": "code",
      "metadata": {
        "id": "c1b23816",
        "colab": {
          "base_uri": "https://localhost:8080/",
          "height": 489
        },
        "outputId": "e8ff333f-2560-4eb7-b3b0-5cf22bdcbaa1"
      },
      "source": [
        "df.groupby('Region')['ChildMortality'].mean().sort_values().plot.bar()\n",
        "df.groupby('Region')['ChildMortality'].mean().sort_values()"
      ],
      "id": "c1b23816",
      "execution_count": null,
      "outputs": [
        {
          "output_type": "execute_result",
          "data": {
            "text/plain": [
              "Region\n",
              "Europe                   10.050943\n",
              "Americas                 19.322857\n",
              "Western Pacific          24.711111\n",
              "South-East Asia          35.045455\n",
              "Eastern Mediterranean    40.250000\n",
              "Africa                   84.036957\n",
              "Name: ChildMortality, dtype: float64"
            ]
          },
          "metadata": {},
          "execution_count": 15
        },
        {
          "output_type": "display_data",
          "data": {
            "image/png": "[encoded data removed]",
            "text/plain": [
              "<Figure size 432x288 with 1 Axes>"
            ]
          },
          "metadata": {
            "needs_background": "light"
          }
        }
      ]
    },
    {
      "cell_type": "markdown",
      "metadata": {
        "id": "e334eac3"
      },
      "source": [
        "7. **Europe has the lowest child mortality rate with a average of 10 deaths (within the first 5yrs) per 1000 births**"
      ],
      "id": "e334eac3"
    },
    {
      "cell_type": "code",
      "metadata": {
        "scrolled": false,
        "id": "aacfac7c",
        "colab": {
          "base_uri": "https://localhost:8080/",
          "height": 235
        },
        "outputId": "742d2102-fcea-47fd-c387-b6a7e67236c4"
      },
      "source": [
        "sns.boxplot(x='LifeExpectancy', y='Region', data=df)"
      ],
      "id": "aacfac7c",
      "execution_count": null,
      "outputs": [
        {
          "output_type": "execute_result",
          "data": {
            "text/plain": [
              "<matplotlib.axes._subplots.AxesSubplot at 0x7f764a7fd550>"
            ]
          },
          "metadata": {},
          "execution_count": 16
        },
        {
          "output_type": "display_data",
          "data": {
            "image/png": "[encoded data removed]",
            "text/plain": [
              "<Figure size 432x288 with 1 Axes>"
            ]
          },
          "metadata": {
            "needs_background": "light"
          }
        }
      ]
    },
    {
      "cell_type": "markdown",
      "metadata": {
        "id": "eSNDg6nXRkRa"
      },
      "source": [
        "8.\n",
        "**From the boxplot:**\n",
        "- Africa has the least average life expectancy with a maximum Life expectancy of about 75yrs.\n",
        "- Eastern Mediterranean has a high average life expectancy but some countries with low life expectancy below 55yrs.\n",
        "-The country with the most life expectancy is in Europe, furthermore Europe has the highest average life expectancy.\n",
        "-Most American countries have life expectancy above 68yrs"
      ],
      "id": "eSNDg6nXRkRa"
    },
    {
      "cell_type": "code",
      "metadata": {
        "scrolled": true,
        "id": "aa3fb4d0",
        "colab": {
          "base_uri": "https://localhost:8080/",
          "height": 1000
        },
        "outputId": "be25ebda-aae8-4c86-ea30-e860553f62a6"
      },
      "source": [
        "for region in df['Region']. unique():\n",
        "    region_df = df[df['Region'] == region]\n",
        "    fig = plt.figure(figsize=(6,6))\n",
        "    ax = fig.gca()\n",
        "    sns.heatmap(region_df[['LifeExpectancy','GNI','FertilityRate']].corr())\n",
        "    ax.set_title(region)\n",
        "    plt.show()"
      ],
      "id": "aa3fb4d0",
      "execution_count": null,
      "outputs": [
        {
          "output_type": "display_data",
          "data": {
            "image/png": "[encoded data removed]",
            "text/plain": [
              "<Figure size 432x432 with 2 Axes>"
            ]
          },
          "metadata": {
            "needs_background": "light"
          }
        },
        {
          "output_type": "display_data",
          "data": {
            "image/png": "[encoded data removed]",
            "text/plain": [
              "<Figure size 432x432 with 2 Axes>"
            ]
          },
          "metadata": {
            "needs_background": "light"
          }
        },
        {
          "output_type": "display_data",
          "data": {
            "image/png": "[encoded data removed]",
            "text/plain": [
              "<Figure size 432x432 with 2 Axes>"
            ]
          },
          "metadata": {
            "needs_background": "light"
          }
        },
        {
          "output_type": "display_data",
          "data": {
            "image/png": "[encoded data removed]",
            "text/plain": [
              "<Figure size 432x432 with 2 Axes>"
            ]
          },
          "metadata": {
            "needs_background": "light"
          }
        },
        {
          "output_type": "display_data",
          "data": {
            "image/png": "[encoded data removed]",
            "text/plain": [
              "<Figure size 432x432 with 2 Axes>"
            ]
          },
          "metadata": {
            "needs_background": "light"
          }
        },
        {
          "output_type": "display_data",
          "data": {
            "image/png": "[encoded data removed]",
            "text/plain": [
              "<Figure size 432x432 with 2 Axes>"
            ]
          },
          "metadata": {
            "needs_background": "light"
          }
        }
      ]
    },
    {
      "cell_type": "markdown",
      "metadata": {
        "id": "01h2AxQMUnqr"
      },
      "source": [
        "9.\n",
        "**From the heatmaps:**\n",
        "- Life expectancy has a positive correlation with wealth (increases as wealth increases)  across the different regions, Africa also has the least positive correlation while Western Pacific has the highest correlation\n",
        "- Wealth has a negative correlation with fertility rate (Fertility rate increases with wealth decrease and vice versa). Africa also follow this relationship"
      ],
      "id": "01h2AxQMUnqr"
    },
    {
      "cell_type": "code",
      "metadata": {
        "scrolled": true,
        "id": "22849d2a",
        "colab": {
          "base_uri": "https://localhost:8080/",
          "height": 497
        },
        "outputId": "a7719a7b-b273-45e6-89e2-8122edccae85"
      },
      "source": [
        "df.groupby('Region')['CellularSubscribers'].sum().sort_values().plot.bar()\n",
        "df.groupby('Region')['CellularSubscribers'].sum().sort_values()"
      ],
      "id": "22849d2a",
      "execution_count": null,
      "outputs": [
        {
          "output_type": "execute_result",
          "data": {
            "text/plain": [
              "Region\n",
              "South-East Asia           764.830000\n",
              "Western Pacific          1887.733279\n",
              "Eastern Mediterranean    2085.200656\n",
              "Africa                   2898.830000\n",
              "Americas                 3644.561311\n",
              "Europe                   5978.291311\n",
              "Name: CellularSubscribers, dtype: float64"
            ]
          },
          "metadata": {},
          "execution_count": 18
        },
        {
          "output_type": "display_data",
          "data": {
            "image/png": "[encoded data removed]",
            "text/plain": [
              "<Figure size 432x288 with 1 Axes>"
            ]
          },
          "metadata": {
            "needs_background": "light"
          }
        }
      ]
    },
    {
      "cell_type": "markdown",
      "metadata": {
        "id": "L4sb0rAHuaAE"
      },
      "source": [
        "- **Europe has the most cellular subscribers and South-East Asia with the least**"
      ],
      "id": "L4sb0rAHuaAE"
    },
    {
      "cell_type": "code",
      "metadata": {
        "scrolled": true,
        "id": "a59100d4",
        "colab": {
          "base_uri": "https://localhost:8080/",
          "height": 662
        },
        "outputId": "ba9653b4-0820-437c-b247-a402ac479ca9"
      },
      "source": [
        "df.groupby('Region')[['PrimarySchoolEnrollmentMale','PrimarySchoolEnrollmentFemale']].sum().plot.bar()\n",
        "df.groupby('Region')[['PrimarySchoolEnrollmentMale','PrimarySchoolEnrollmentFemale']].sum()"
      ],
      "id": "a59100d4",
      "execution_count": null,
      "outputs": [
        {
          "output_type": "execute_result",
          "data": {
            "text/html": [
              "<div>\n",
              "<style scoped>\n",
              "    .dataframe tbody tr th:only-of-type {\n",
              "        vertical-align: middle;\n",
              "    }\n",
              "\n",
              "    .dataframe tbody tr th {\n",
              "        vertical-align: top;\n",
              "    }\n",
              "\n",
              "    .dataframe thead th {\n",
              "        text-align: right;\n",
              "    }\n",
              "</style>\n",
              "<table border=\"1\" class=\"dataframe\">\n",
              "  <thead>\n",
              "    <tr style=\"text-align: right;\">\n",
              "      <th></th>\n",
              "      <th>PrimarySchoolEnrollmentMale</th>\n",
              "      <th>PrimarySchoolEnrollmentFemale</th>\n",
              "    </tr>\n",
              "    <tr>\n",
              "      <th>Region</th>\n",
              "      <th></th>\n",
              "      <th></th>\n",
              "    </tr>\n",
              "  </thead>\n",
              "  <tbody>\n",
              "    <tr>\n",
              "      <th>Africa</th>\n",
              "      <td>1871.335082</td>\n",
              "      <td>1774.835082</td>\n",
              "    </tr>\n",
              "    <tr>\n",
              "      <th>Americas</th>\n",
              "      <td>1996.869180</td>\n",
              "      <td>1988.869180</td>\n",
              "    </tr>\n",
              "    <tr>\n",
              "      <th>Eastern Mediterranean</th>\n",
              "      <td>590.550492</td>\n",
              "      <td>560.750492</td>\n",
              "    </tr>\n",
              "    <tr>\n",
              "      <th>Europe</th>\n",
              "      <td>3684.109836</td>\n",
              "      <td>3691.909836</td>\n",
              "    </tr>\n",
              "    <tr>\n",
              "      <th>South-East Asia</th>\n",
              "      <td>385.484590</td>\n",
              "      <td>388.584590</td>\n",
              "    </tr>\n",
              "    <tr>\n",
              "      <th>Western Pacific</th>\n",
              "      <td>921.031803</td>\n",
              "      <td>921.431803</td>\n",
              "    </tr>\n",
              "  </tbody>\n",
              "</table>\n",
              "</div>"
            ],
            "text/plain": [
              "                       PrimarySchoolEnrollmentMale  PrimarySchoolEnrollmentFemale\n",
              "Region                                                                           \n",
              "Africa                                 1871.335082                    1774.835082\n",
              "Americas                               1996.869180                    1988.869180\n",
              "Eastern Mediterranean                   590.550492                     560.750492\n",
              "Europe                                 3684.109836                    3691.909836\n",
              "South-East Asia                         385.484590                     388.584590\n",
              "Western Pacific                         921.031803                     921.431803"
            ]
          },
          "metadata": {},
          "execution_count": 19
        },
        {
          "output_type": "display_data",
          "data": {
            "image/png": "[encoded data removed]",
            "text/plain": [
              "<Figure size 432x288 with 1 Axes>"
            ]
          },
          "metadata": {
            "needs_background": "light"
          }
        }
      ]
    },
    {
      "cell_type": "markdown",
      "metadata": {
        "id": "LeWwVAwJuuUz"
      },
      "source": [
        "- **Africa has more primary school enrollment for male than female**\n",
        "- **Europe has the highest number of Primary school enrollment**"
      ],
      "id": "LeWwVAwJuuUz"
    }
  ]
}